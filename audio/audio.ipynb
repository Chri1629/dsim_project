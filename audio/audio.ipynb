{
 "cells": [
  {
   "cell_type": "markdown",
   "metadata": {
    "colab_type": "text",
    "id": "view-in-github"
   },
   "source": [
    "<a href=\"https://colab.research.google.com/github/Chri1629/dsim_project/blob/main/audio/audio.ipynb\" target=\"_parent\"><img src=\"https://colab.research.google.com/assets/colab-badge.svg\" alt=\"Open In Colab\"/></a>"
   ]
  },
  {
   "cell_type": "markdown",
   "metadata": {
    "id": "Y6dfjlRyThfZ"
   },
   "source": [
    "# **Progetto di Digital Signal & Image Management**\n",
    "\n",
    "## **Parte 1 - Audio recognition**\n",
    "\n",
    "\n",
    "*2020/2021*\n",
    "\n",
    "Peracchi Marco 800578\n",
    "\n",
    "Uccheddu Christian 800428"
   ]
  },
  {
   "cell_type": "markdown",
   "metadata": {
    "id": "daLUpBVVVM6n"
   },
   "source": [
    "# Abstract\n",
    "\n",
    "Questa sezione del progetto si occupa di identificare da una traccia audio di una persona se quest'ultima stia effettivamente leggendo un testo oppure no, cercando di comprendere tonalità improvvisate rispetto a quelle di una lettura. In particolare sono state utilizzare due tecniche:\n",
    "\n",
    "- **Support Vector Machine**: Sulle tracce audio, insieme ad ulteriori feature, viene applicata una Support Vector Machine e successivamente vengono analizzati i risultati in un classification report e una matrice di confusione.\n",
    "\n",
    "- **Spettrogrammi di MEL**: dalle tracce audio vengono generati gli spettrogrammi di MEL, immagini che vengono utilizzate per addestrare delle reti neurali. In particolare si usano una rete pretrainata tagliata e a cui è stato aggiunto un classificatore logistico, una rete pretrainata a cui viene aggiunto un layer denso e una rete CNN costruita da 0."
   ]
  },
  {
   "cell_type": "markdown",
   "metadata": {
    "id": "Q3ItXe3NT_Io"
   },
   "source": [
    "Si importano le librerie necessarie:"
   ]
  },
  {
   "cell_type": "code",
   "execution_count": 1,
   "metadata": {
    "id": "q8WBuvpmJSiQ"
   },
   "outputs": [],
   "source": [
    "import os\n",
    "import numpy as np\n",
    "from time import time\n",
    "from scipy.io import wavfile as wav\n",
    "import IPython.display as ipd\n",
    "import librosa\n",
    "import re\n",
    "import seaborn as sns\n",
    "import joblib\n",
    "import pickle\n",
    "\n",
    "import matplotlib.pyplot as plt\n",
    "\n",
    "import pandas as pd\n",
    "\n",
    "from sklearn.svm import SVC\n",
    "from sklearn.model_selection import train_test_split\n",
    "from sklearn.metrics import classification_report, confusion_matrix\n",
    "from sklearn.linear_model import LogisticRegression\n",
    "\n",
    "import librosa.display\n",
    "from sklearn.preprocessing import scale\n",
    "\n",
    "import cv2\n",
    "\n",
    "import tensorflow as tf\n",
    "from tensorflow import keras\n",
    "from tensorflow.keras.applications import mobilenet"
   ]
  },
  {
   "cell_type": "markdown",
   "metadata": {
    "id": "UNyFUmqLdEsr"
   },
   "source": [
    "Si utilizza Drive per importare i dati e viene salvata la directory per questioni di comodità."
   ]
  },
  {
   "cell_type": "code",
   "execution_count": 2,
   "metadata": {
    "colab": {
     "base_uri": "https://localhost:8080/"
    },
    "id": "DRrYDqkeJWF8",
    "outputId": "b2cd2b43-e5fc-4f1b-fcb0-e448cfc68f72"
   },
   "outputs": [
    {
     "name": "stdout",
     "output_type": "stream",
     "text": [
      "Mounted at /content/gdrive\n"
     ]
    }
   ],
   "source": [
    "from google.colab import drive\n",
    "drive.mount('/content/gdrive', force_remount=True)\n",
    "\n",
    "base_dir = \"gdrive/MyDrive/DigitalSignal/corretti/\""
   ]
  },
  {
   "cell_type": "markdown",
   "metadata": {
    "id": "Ath1lNK72uWa"
   },
   "source": [
    "# Modello SVM\n",
    "\n",
    "Il primo modello definito è la Support Vector Machine."
   ]
  },
  {
   "cell_type": "markdown",
   "metadata": {
    "id": "_Rno_ycpU3UQ"
   },
   "source": [
    "## Feature Extractor\n",
    "\n",
    "Vengono definite una serie di funzioni che verranno utilizzate come *feature extractor* da aggiungere alla traccia audio. Visto la tipologia del problema ci si aspetta che la funzione più utile possa essere la **zero crossing rate**, in quanto un testo improvvisato dovrebbe contenere più momenti di silenzio rispetto a un testo letto."
   ]
  },
  {
   "cell_type": "code",
   "execution_count": null,
   "metadata": {
    "id": "hZi4BH_J2xqe"
   },
   "outputs": [],
   "source": [
    "def combo(input):\n",
    "    return np.concatenate((aavg(input), zcr(input), sdev(input)))"
   ]
  },
  {
   "cell_type": "code",
   "execution_count": null,
   "metadata": {
    "id": "OwD4_OyO27yg"
   },
   "outputs": [],
   "source": [
    "def zcr(input, n_shift = 1):    \n",
    "    input = [x for x in input if x != 0]\n",
    "    shifted = np.concatenate((input, np.zeros(n_shift)))[n_shift:]\n",
    "    r = np.where((np.sign(shifted) * np.sign(input) >= 0),0, 1)\n",
    "    return np.sum(r[:-1], keepdims = True)"
   ]
  },
  {
   "cell_type": "code",
   "execution_count": null,
   "metadata": {
    "id": "bRsdXWsx3B1v"
   },
   "outputs": [],
   "source": [
    "def aavg(input):\n",
    "    return np.mean(np.abs(input), keepdims=True)"
   ]
  },
  {
   "cell_type": "code",
   "execution_count": null,
   "metadata": {
    "id": "vnTVZa6Z3Bu4"
   },
   "outputs": [],
   "source": [
    "def sdev(input):\n",
    "    return np.std(input, keepdims = True)"
   ]
  },
  {
   "cell_type": "markdown",
   "metadata": {
    "id": "zm2p-LvKZQtj"
   },
   "source": [
    "## Data loader\n",
    "\n",
    "La funzione **data loader** ci permette di importare i dati già suddivisi in cartelle ed assegnargli l'etichetta corretta. Inoltre, divide già i dati in train e validation. Opzionalmente è possibile normalizzare i dati oppure definire *feature extractor* permettendo di aggiungere features in coda alle tracce audio. La seguente funzione *load_data* esegue quanto appena descritto."
   ]
  },
  {
   "cell_type": "code",
   "execution_count": null,
   "metadata": {
    "id": "qSPNKJr-iR6o"
   },
   "outputs": [],
   "source": [
    "def identity(input):\n",
    "    return input\n",
    "\n",
    "def load_data(feature_extractor=identity, normalize=False):\n",
    "    # Inizializzazione\n",
    "    labels = []\n",
    "    features = []\n",
    "    \n",
    "    # Ciclo for su ogni file presente nella directory\n",
    "    for f in sorted(os.listdir(base_dir)):\n",
    "\n",
    "        # Controllo sull'estensione del file\n",
    "        if f.endswith('.mp3'):\n",
    "\n",
    "            # Lettura della traccia e della frequenza di campionamento, la traccia viene tagliata a 7 secondi massimo.\n",
    "            signal, sr = librosa.load(base_dir + f, duration= 7.0, sr=None)\n",
    "            # Estrazione delle feature se la funzione è stata definita\n",
    "            cur_features = feature_extractor(signal)\n",
    "            features.append(cur_features)\n",
    "            print(f)\n",
    "            # Lettura e acquisizione della classe di appartenenza\n",
    "            label = re.search(r'^(\\d+)_([01])\\.mp3$', f).group(2)\n",
    "            labels.append(label)\n",
    "\n",
    "    # Divisione del dataset in train e validation\n",
    "    X_train, X_validation, y_train, y_validation = train_test_split(features, labels, test_size=0.3, random_state=1)\n",
    "\n",
    "    # Normalizzazione dei dati se specificato\n",
    "    if normalize:\n",
    "        eps = 0.001\n",
    "        X_train = np.array(X_train)\n",
    "        X_train_mean = X_train.mean(axis=0)\n",
    "        X_train_std = X_train.std(axis=0)\n",
    "        X_train = (X_train - X_train_mean + eps)/(X_train_std + eps)\n",
    "        X_train = [row for row in X_train]\n",
    "\n",
    "        X_validation = [row for row in (np.array(X_validation) - X_train_mean + eps)/(X_train_std + eps)]\n",
    "\n",
    "    return X_train, X_validation, y_train, y_validation"
   ]
  },
  {
   "cell_type": "code",
   "execution_count": null,
   "metadata": {
    "colab": {
     "base_uri": "https://localhost:8080/"
    },
    "id": "u-I5RiQDjkMx",
    "outputId": "b40e6828-9bfc-4816-ca25-74e10b330446"
   },
   "outputs": [
    {
     "name": "stdout",
     "output_type": "stream",
     "text": [
      "001_1.mp3\n",
      "002_1.mp3\n",
      "003_1.mp3\n",
      "004_1.mp3\n",
      "005_1.mp3\n",
      "006_1.mp3\n",
      "007_1.mp3\n",
      "008_1.mp3\n",
      "009_1.mp3\n",
      "010_1.mp3\n",
      "011_1.mp3\n",
      "012_1.mp3\n",
      "013_1.mp3\n",
      "014_1.mp3\n",
      "015_1.mp3\n",
      "016_1.mp3\n",
      "017_1.mp3\n",
      "018_1.mp3\n",
      "019_1.mp3\n",
      "020_1.mp3\n",
      "021_1.mp3\n",
      "022_1.mp3\n",
      "023_1.mp3\n",
      "024_1.mp3\n",
      "025_1.mp3\n",
      "026_1.mp3\n",
      "027_1.mp3\n",
      "028_1.mp3\n",
      "029_1.mp3\n",
      "030_1.mp3\n",
      "031_1.mp3\n",
      "032_1.mp3\n",
      "033_1.mp3\n",
      "034_1.mp3\n",
      "035_1.mp3\n",
      "036_1.mp3\n",
      "037_1.mp3\n",
      "038_1.mp3\n",
      "039_1.mp3\n",
      "040_1.mp3\n",
      "041_1.mp3\n",
      "042_1.mp3\n",
      "043_1.mp3\n",
      "044_1.mp3\n",
      "045_1.mp3\n",
      "046_1.mp3\n",
      "047_1.mp3\n",
      "048_1.mp3\n",
      "049_1.mp3\n",
      "050_1.mp3\n",
      "051_1.mp3\n",
      "052_1.mp3\n",
      "053_1.mp3\n",
      "054_1.mp3\n",
      "055_1.mp3\n",
      "056_1.mp3\n",
      "057_1.mp3\n",
      "058_1.mp3\n",
      "059_1.mp3\n",
      "060_1.mp3\n",
      "061_1.mp3\n",
      "062_1.mp3\n",
      "063_1.mp3\n",
      "064_1.mp3\n",
      "065_1.mp3\n",
      "066_1.mp3\n",
      "067_1.mp3\n",
      "068_1.mp3\n",
      "069_1.mp3\n",
      "070_1.mp3\n",
      "071_1.mp3\n",
      "072_1.mp3\n",
      "073_1.mp3\n",
      "074_1.mp3\n",
      "075_1.mp3\n",
      "076_1.mp3\n",
      "077_1.mp3\n",
      "078_1.mp3\n",
      "079_1.mp3\n",
      "080_1.mp3\n",
      "081_1.mp3\n",
      "082_1.mp3\n",
      "083_1.mp3\n",
      "084_1.mp3\n",
      "085_1.mp3\n",
      "086_1.mp3\n",
      "087_1.mp3\n",
      "088_1.mp3\n",
      "089_1.mp3\n",
      "090_1.mp3\n",
      "091_1.mp3\n",
      "092_1.mp3\n",
      "093_1.mp3\n",
      "094_1.mp3\n",
      "095_1.mp3\n",
      "096_1.mp3\n",
      "097_1.mp3\n",
      "098_1.mp3\n",
      "099_1.mp3\n",
      "100_0.mp3\n",
      "101_1.mp3\n",
      "102_1.mp3\n",
      "103_1.mp3\n",
      "104_1.mp3\n",
      "105_1.mp3\n",
      "106_1.mp3\n",
      "107_1.mp3\n",
      "108_1.mp3\n",
      "109_1.mp3\n",
      "110_1.mp3\n",
      "111_1.mp3\n",
      "112_1.mp3\n",
      "113_1.mp3\n",
      "114_1.mp3\n",
      "115_1.mp3\n",
      "116_1.mp3\n",
      "117_1.mp3\n",
      "118_1.mp3\n",
      "119_1.mp3\n",
      "120_1.mp3\n",
      "121_1.mp3\n",
      "122_1.mp3\n",
      "123_1.mp3\n",
      "124_1.mp3\n",
      "125_1.mp3\n",
      "126_1.mp3\n",
      "127_1.mp3\n",
      "128_1.mp3\n",
      "129_1.mp3\n",
      "130_1.mp3\n",
      "131_1.mp3\n",
      "132_1.mp3\n",
      "133_1.mp3\n",
      "134_1.mp3\n",
      "135_1.mp3\n",
      "136_1.mp3\n",
      "137_1.mp3\n",
      "138_1.mp3\n",
      "139_1.mp3\n",
      "140_1.mp3\n",
      "141_1.mp3\n",
      "142_1.mp3\n",
      "143_1.mp3\n",
      "144_1.mp3\n",
      "145_1.mp3\n",
      "146_1.mp3\n",
      "147_1.mp3\n",
      "148_1.mp3\n",
      "149_1.mp3\n",
      "150_1.mp3\n",
      "151_1.mp3\n",
      "152_1.mp3\n",
      "153_1.mp3\n",
      "154_1.mp3\n",
      "155_1.mp3\n",
      "156_1.mp3\n",
      "157_1.mp3\n",
      "158_1.mp3\n",
      "159_1.mp3\n",
      "160_1.mp3\n",
      "161_1.mp3\n",
      "162_1.mp3\n",
      "163_1.mp3\n",
      "164_1.mp3\n",
      "165_1.mp3\n",
      "166_1.mp3\n",
      "167_1.mp3\n",
      "168_1.mp3\n",
      "169_1.mp3\n",
      "170_1.mp3\n",
      "171_1.mp3\n",
      "172_1.mp3\n",
      "173_1.mp3\n",
      "174_1.mp3\n",
      "175_1.mp3\n",
      "176_1.mp3\n",
      "177_1.mp3\n",
      "178_1.mp3\n",
      "179_1.mp3\n",
      "180_1.mp3\n",
      "181_1.mp3\n",
      "182_1.mp3\n",
      "183_1.mp3\n",
      "184_1.mp3\n",
      "185_1.mp3\n",
      "186_1.mp3\n",
      "187_1.mp3\n",
      "188_1.mp3\n",
      "189_1.mp3\n",
      "190_1.mp3\n",
      "191_1.mp3\n",
      "192_1.mp3\n",
      "193_1.mp3\n",
      "194_1.mp3\n",
      "195_1.mp3\n",
      "196_1.mp3\n",
      "197_1.mp3\n",
      "198_1.mp3\n",
      "199_1.mp3\n",
      "200_1.mp3\n",
      "201_1.mp3\n",
      "202_1.mp3\n",
      "203_1.mp3\n",
      "204_1.mp3\n",
      "205_1.mp3\n",
      "206_1.mp3\n",
      "207_1.mp3\n",
      "208_1.mp3\n",
      "209_1.mp3\n",
      "210_1.mp3\n",
      "211_1.mp3\n",
      "212_1.mp3\n",
      "213_1.mp3\n",
      "214_1.mp3\n",
      "215_1.mp3\n",
      "216_1.mp3\n",
      "217_1.mp3\n",
      "218_1.mp3\n",
      "219_1.mp3\n",
      "220_1.mp3\n",
      "221_1.mp3\n",
      "222_1.mp3\n",
      "223_1.mp3\n",
      "224_1.mp3\n",
      "225_1.mp3\n",
      "226_1.mp3\n",
      "227_1.mp3\n",
      "228_1.mp3\n",
      "229_1.mp3\n",
      "230_1.mp3\n",
      "231_1.mp3\n",
      "232_1.mp3\n",
      "233_1.mp3\n",
      "234_1.mp3\n",
      "235_1.mp3\n",
      "236_1.mp3\n",
      "237_1.mp3\n",
      "238_1.mp3\n",
      "239_1.mp3\n",
      "240_1.mp3\n",
      "241_1.mp3\n",
      "242_1.mp3\n",
      "243_1.mp3\n",
      "244_1.mp3\n",
      "245_1.mp3\n",
      "246_1.mp3\n",
      "247_1.mp3\n",
      "248_1.mp3\n",
      "249_1.mp3\n",
      "250_1.mp3\n",
      "251_1.mp3\n",
      "252_1.mp3\n",
      "253_1.mp3\n",
      "254_1.mp3\n",
      "255_1.mp3\n",
      "256_1.mp3\n",
      "257_1.mp3\n",
      "258_1.mp3\n",
      "259_1.mp3\n",
      "260_1.mp3\n",
      "261_1.mp3\n",
      "262_1.mp3\n",
      "263_1.mp3\n",
      "264_1.mp3\n",
      "265_1.mp3\n",
      "266_1.mp3\n",
      "267_1.mp3\n",
      "268_1.mp3\n",
      "269_1.mp3\n",
      "270_1.mp3\n",
      "271_1.mp3\n",
      "272_1.mp3\n",
      "273_1.mp3\n",
      "274_1.mp3\n",
      "275_1.mp3\n",
      "276_1.mp3\n",
      "277_1.mp3\n",
      "278_1.mp3\n",
      "279_1.mp3\n",
      "280_1.mp3\n",
      "281_1.mp3\n",
      "282_1.mp3\n",
      "283_1.mp3\n",
      "284_1.mp3\n",
      "285_1.mp3\n",
      "286_1.mp3\n",
      "287_1.mp3\n",
      "288_1.mp3\n",
      "289_1.mp3\n",
      "290_1.mp3\n",
      "291_1.mp3\n",
      "292_1.mp3\n",
      "293_1.mp3\n",
      "294_1.mp3\n",
      "295_1.mp3\n",
      "296_1.mp3\n",
      "297_1.mp3\n",
      "298_1.mp3\n",
      "299_1.mp3\n",
      "300_1.mp3\n",
      "301_1.mp3\n",
      "302_1.mp3\n",
      "303_1.mp3\n",
      "304_1.mp3\n",
      "305_1.mp3\n",
      "306_1.mp3\n",
      "307_1.mp3\n",
      "308_1.mp3\n",
      "309_1.mp3\n",
      "310_1.mp3\n",
      "311_1.mp3\n",
      "312_1.mp3\n",
      "313_1.mp3\n",
      "314_1.mp3\n",
      "315_1.mp3\n",
      "316_1.mp3\n",
      "317_1.mp3\n",
      "318_1.mp3\n",
      "319_1.mp3\n",
      "320_1.mp3\n",
      "321_1.mp3\n",
      "322_0.mp3\n",
      "323_0.mp3\n",
      "324_0.mp3\n",
      "325_0.mp3\n",
      "326_0.mp3\n",
      "327_0.mp3\n",
      "328_0.mp3\n",
      "329_0.mp3\n",
      "330_0.mp3\n",
      "331_1.mp3\n",
      "332_1.mp3\n",
      "333_1.mp3\n",
      "335_1.mp3\n",
      "336_1.mp3\n",
      "337_1.mp3\n",
      "338_1.mp3\n",
      "339_1.mp3\n",
      "340_0.mp3\n",
      "341_0.mp3\n",
      "344_0.mp3\n",
      "345_0.mp3\n",
      "346_0.mp3\n",
      "347_0.mp3\n",
      "348_0.mp3\n",
      "349_0.mp3\n",
      "350_0.mp3\n",
      "351_0.mp3\n",
      "352_0.mp3\n",
      "353_0.mp3\n",
      "354_0.mp3\n",
      "355_0.mp3\n",
      "356_0.mp3\n",
      "357_0.mp3\n",
      "358_0.mp3\n",
      "359_0.mp3\n",
      "360_0.mp3\n",
      "361_0.mp3\n",
      "362_0.mp3\n",
      "363_0.mp3\n",
      "364_0.mp3\n",
      "365_0.mp3\n",
      "366_0.mp3\n",
      "367_0.mp3\n",
      "368_0.mp3\n",
      "369_0.mp3\n",
      "370_0.mp3\n",
      "371_0.mp3\n",
      "372_0.mp3\n",
      "373_0.mp3\n",
      "374_0.mp3\n",
      "375_0.mp3\n",
      "376_0.mp3\n",
      "377_0.mp3\n",
      "378_0.mp3\n",
      "379_0.mp3\n",
      "380_0.mp3\n",
      "381_0.mp3\n",
      "382_0.mp3\n",
      "383_0.mp3\n",
      "384_0.mp3\n",
      "385_0.mp3\n",
      "386_0.mp3\n",
      "387_0.mp3\n",
      "388_0.mp3\n",
      "389_0.mp3\n",
      "390_0.mp3\n",
      "391_0.mp3\n",
      "392_0.mp3\n",
      "393_0.mp3\n",
      "394_0.mp3\n",
      "395_0.mp3\n",
      "396_0.mp3\n",
      "397_0.mp3\n",
      "398_0.mp3\n",
      "399_0.mp3\n",
      "400_0.mp3\n",
      "401_0.mp3\n",
      "402_0.mp3\n",
      "403_0.mp3\n",
      "404_0.mp3\n",
      "405_0.mp3\n",
      "406_0.mp3\n",
      "407_0.mp3\n",
      "408_0.mp3\n",
      "409_0.mp3\n",
      "410_0.mp3\n",
      "411_0.mp3\n",
      "412_0.mp3\n",
      "413_0.mp3\n",
      "414_0.mp3\n",
      "415_0.mp3\n",
      "416_0.mp3\n",
      "417_0.mp3\n",
      "418_0.mp3\n",
      "419_0.mp3\n",
      "420_0.mp3\n",
      "421_0.mp3\n",
      "422_0.mp3\n",
      "423_0.mp3\n",
      "424_0.mp3\n",
      "425_0.mp3\n",
      "426_0.mp3\n",
      "427_0.mp3\n",
      "428_0.mp3\n",
      "429_0.mp3\n",
      "430_0.mp3\n",
      "431_0.mp3\n",
      "432_0.mp3\n",
      "433_0.mp3\n",
      "434_0.mp3\n",
      "435_0.mp3\n",
      "436_0.mp3\n",
      "437_0.mp3\n",
      "438_0.mp3\n",
      "439_1.mp3\n",
      "440_1.mp3\n",
      "441_1.mp3\n",
      "442_1.mp3\n",
      "443_1.mp3\n",
      "444_1.mp3\n",
      "445_1.mp3\n",
      "446_1.mp3\n",
      "447_1.mp3\n",
      "448_1.mp3\n",
      "449_1.mp3\n",
      "450_1.mp3\n",
      "451_1.mp3\n",
      "452_1.mp3\n",
      "453_1.mp3\n",
      "454_1.mp3\n",
      "455_1.mp3\n",
      "456_1.mp3\n",
      "457_1.mp3\n",
      "458_1.mp3\n",
      "459_1.mp3\n",
      "460_1.mp3\n",
      "461_1.mp3\n",
      "462_1.mp3\n",
      "463_1.mp3\n",
      "464_1.mp3\n",
      "465_1.mp3\n",
      "466_1.mp3\n",
      "467_1.mp3\n",
      "468_1.mp3\n",
      "469_1.mp3\n",
      "470_1.mp3\n",
      "471_1.mp3\n",
      "472_1.mp3\n",
      "473_1.mp3\n",
      "474_1.mp3\n",
      "475_1.mp3\n",
      "476_1.mp3\n",
      "477_1.mp3\n",
      "478_1.mp3\n",
      "479_1.mp3\n",
      "480_1.mp3\n",
      "481_1.mp3\n",
      "482_1.mp3\n",
      "483_1.mp3\n",
      "484_1.mp3\n",
      "485_1.mp3\n",
      "486_1.mp3\n",
      "487_1.mp3\n",
      "488_1.mp3\n",
      "489_1.mp3\n",
      "490_1.mp3\n",
      "491_1.mp3\n",
      "492_1.mp3\n",
      "493_1.mp3\n",
      "494_1.mp3\n",
      "495_1.mp3\n",
      "496_1.mp3\n",
      "497_1.mp3\n",
      "498_1.mp3\n",
      "499_1.mp3\n",
      "500_0.mp3\n",
      "501_1.mp3\n",
      "502_1.mp3\n",
      "503_1.mp3\n",
      "504_1.mp3\n",
      "505_1.mp3\n",
      "506_1.mp3\n",
      "507_1.mp3\n",
      "508_1.mp3\n",
      "509_1.mp3\n",
      "510_1.mp3\n",
      "511_0.mp3\n",
      "512_0.mp3\n",
      "513_0.mp3\n",
      "514_0.mp3\n",
      "515_0.mp3\n",
      "516_0.mp3\n",
      "517_0.mp3\n",
      "518_0.mp3\n",
      "519_0.mp3\n",
      "520_0.mp3\n",
      "521_0.mp3\n",
      "522_0.mp3\n",
      "523_0.mp3\n",
      "524_0.mp3\n",
      "525_0.mp3\n",
      "526_0.mp3\n",
      "527_0.mp3\n",
      "528_0.mp3\n",
      "529_0.mp3\n",
      "530_0.mp3\n",
      "531_0.mp3\n",
      "532_0.mp3\n",
      "533_0.mp3\n",
      "534_0.mp3\n",
      "535_0.mp3\n",
      "536_0.mp3\n",
      "537_0.mp3\n",
      "538_0.mp3\n",
      "539_0.mp3\n",
      "540_0.mp3\n",
      "541_0.mp3\n",
      "542_0.mp3\n",
      "543_0.mp3\n",
      "544_0.mp3\n",
      "545_0.mp3\n",
      "546_0.mp3\n",
      "547_0.mp3\n",
      "548_0.mp3\n",
      "549_0.mp3\n",
      "550_0.mp3\n",
      "551_0.mp3\n",
      "552_0.mp3\n",
      "553_0.mp3\n",
      "554_0.mp3\n",
      "555_0.mp3\n",
      "556_0.mp3\n",
      "557_0.mp3\n",
      "558_0.mp3\n",
      "559_0.mp3\n",
      "560_0.mp3\n",
      "561_0.mp3\n",
      "562_0.mp3\n",
      "563_0.mp3\n",
      "564_0.mp3\n",
      "565_0.mp3\n",
      "566_0.mp3\n",
      "567_0.mp3\n",
      "568_0.mp3\n",
      "569_0.mp3\n",
      "570_0.mp3\n",
      "571_0.mp3\n",
      "572_0.mp3\n",
      "573_0.mp3\n",
      "574_0.mp3\n",
      "575_0.mp3\n",
      "576_0.mp3\n",
      "577_0.mp3\n",
      "578_0.mp3\n",
      "579_0.mp3\n",
      "580_0.mp3\n",
      "581_0.mp3\n",
      "582_0.mp3\n",
      "583_0.mp3\n",
      "584_0.mp3\n",
      "585_0.mp3\n",
      "586_0.mp3\n",
      "587_0.mp3\n",
      "588_0.mp3\n",
      "589_0.mp3\n",
      "590_0.mp3\n",
      "591_0.mp3\n",
      "592_0.mp3\n",
      "593_0.mp3\n",
      "594_0.mp3\n",
      "595_0.mp3\n",
      "596_0.mp3\n",
      "597_0.mp3\n",
      "598_0.mp3\n",
      "599_0.mp3\n",
      "600_0.mp3\n",
      "601_0.mp3\n",
      "602_0.mp3\n",
      "603_0.mp3\n",
      "604_1.mp3\n",
      "605_0.mp3\n",
      "606_0.mp3\n",
      "607_0.mp3\n",
      "608_0.mp3\n",
      "609_0.mp3\n",
      "610_0.mp3\n",
      "611_0.mp3\n",
      "612_0.mp3\n",
      "613_0.mp3\n",
      "614_0.mp3\n",
      "615_0.mp3\n",
      "616_0.mp3\n",
      "617_0.mp3\n",
      "618_0.mp3\n",
      "619_0.mp3\n",
      "620_0.mp3\n",
      "621_0.mp3\n",
      "622_0.mp3\n",
      "623_0.mp3\n",
      "624_0.mp3\n",
      "625_0.mp3\n",
      "626_0.mp3\n",
      "627_0.mp3\n",
      "628_0.mp3\n",
      "629_0.mp3\n",
      "630_0.mp3\n",
      "631_0.mp3\n",
      "632_0.mp3\n",
      "633_0.mp3\n",
      "634_0.mp3\n",
      "635_0.mp3\n",
      "636_0.mp3\n",
      "637_0.mp3\n",
      "638_0.mp3\n",
      "639_0.mp3\n",
      "640_0.mp3\n",
      "641_0.mp3\n",
      "642_0.mp3\n",
      "643_0.mp3\n",
      "644_0.mp3\n",
      "645_0.mp3\n",
      "646_0.mp3\n",
      "647_0.mp3\n",
      "648_0.mp3\n",
      "649_0.mp3\n",
      "650_0.mp3\n",
      "651_0.mp3\n",
      "652_0.mp3\n",
      "653_0.mp3\n",
      "654_0.mp3\n",
      "655_0.mp3\n",
      "656_0.mp3\n",
      "657_0.mp3\n",
      "658_0.mp3\n",
      "659_0.mp3\n",
      "660_0.mp3\n",
      "661_0.mp3\n",
      "662_0.mp3\n",
      "663_0.mp3\n",
      "664_0.mp3\n",
      "665_0.mp3\n",
      "666_0.mp3\n",
      "667_0.mp3\n",
      "668_0.mp3\n",
      "669_0.mp3\n",
      "670_0.mp3\n",
      "671_0.mp3\n",
      "672_0.mp3\n",
      "673_0.mp3\n",
      "674_0.mp3\n",
      "675_0.mp3\n",
      "676_0.mp3\n",
      "677_0.mp3\n",
      "678_0.mp3\n",
      "679_0.mp3\n",
      "680_0.mp3\n",
      "681_0.mp3\n",
      "682_0.mp3\n",
      "683_0.mp3\n",
      "684_0.mp3\n",
      "685_0.mp3\n",
      "686_0.mp3\n",
      "687_0.mp3\n",
      "688_0.mp3\n",
      "689_0.mp3\n",
      "690_0.mp3\n",
      "691_0.mp3\n",
      "692_0.mp3\n",
      "693_0.mp3\n",
      "694_0.mp3\n",
      "695_0.mp3\n",
      "696_0.mp3\n",
      "697_0.mp3\n",
      "698_0.mp3\n",
      "699_0.mp3\n",
      "700_0.mp3\n",
      "701_0.mp3\n",
      "702_0.mp3\n",
      "703_0.mp3\n",
      "704_0.mp3\n",
      "705_0.mp3\n",
      "706_0.mp3\n",
      "707_0.mp3\n",
      "708_0.mp3\n",
      "709_0.mp3\n",
      "710_0.mp3\n",
      "711_0.mp3\n",
      "712_0.mp3\n",
      "713_0.mp3\n",
      "714_0.mp3\n",
      "715_0.mp3\n",
      "716_0.mp3\n",
      "717_0.mp3\n",
      "718_0.mp3\n",
      "719_0.mp3\n",
      "720_0.mp3\n",
      "721_0.mp3\n",
      "722_0.mp3\n",
      "723_0.mp3\n",
      "724_0.mp3\n",
      "725_0.mp3\n",
      "726_0.mp3\n",
      "727_0.mp3\n",
      "728_0.mp3\n",
      "729_0.mp3\n",
      "730_0.mp3\n",
      "731_0.mp3\n",
      "732_0.mp3\n",
      "733_0.mp3\n",
      "734_0.mp3\n",
      "735_0.mp3\n",
      "736_0.mp3\n",
      "737_0.mp3\n",
      "738_0.mp3\n",
      "739_0.mp3\n",
      "740_0.mp3\n",
      "741_0.mp3\n",
      "742_0.mp3\n",
      "743_0.mp3\n",
      "744_0.mp3\n",
      "745_0.mp3\n",
      "746_0.mp3\n",
      "747_0.mp3\n",
      "748_0.mp3\n",
      "749_0.mp3\n",
      "750_0.mp3\n",
      "751_0.mp3\n",
      "752_0.mp3\n",
      "753_0.mp3\n",
      "754_0.mp3\n",
      "755_0.mp3\n",
      "756_0.mp3\n",
      "757_0.mp3\n",
      "758_0.mp3\n",
      "759_0.mp3\n",
      "760_0.mp3\n",
      "761_0.mp3\n",
      "762_0.mp3\n",
      "763_0.mp3\n",
      "764_0.mp3\n",
      "765_0.mp3\n",
      "766_0.mp3\n",
      "767_0.mp3\n",
      "768_0.mp3\n",
      "769_0.mp3\n",
      "770_0.mp3\n",
      "771_0.mp3\n",
      "772_0.mp3\n",
      "773_0.mp3\n",
      "774_0.mp3\n",
      "775_0.mp3\n",
      "776_0.mp3\n",
      "777_0.mp3\n",
      "778_0.mp3\n",
      "779_0.mp3\n",
      "780_0.mp3\n",
      "781_0.mp3\n",
      "782_0.mp3\n",
      "783_0.mp3\n",
      "784_0.mp3\n",
      "785_0.mp3\n",
      "786_0.mp3\n",
      "787_0.mp3\n",
      "788_0.mp3\n",
      "789_0.mp3\n",
      "790_0.mp3\n",
      "791_0.mp3\n",
      "792_0.mp3\n",
      "793_0.mp3\n",
      "794_0.mp3\n",
      "795_0.mp3\n",
      "796_0.mp3\n",
      "797_0.mp3\n",
      "798_0.mp3\n",
      "799_0.mp3\n",
      "800_0.mp3\n",
      "801_0.mp3\n",
      "802_0.mp3\n",
      "803_0.mp3\n"
     ]
    }
   ],
   "source": [
    "X_train, X_validation, y_train, y_validation = load_data(feature_extractor=combo, normalize = True)"
   ]
  },
  {
   "cell_type": "markdown",
   "metadata": {
    "id": "CXcJ7UAIUcyV"
   },
   "source": [
    "## Addestramento\n",
    "\n",
    "Viene utilizzato un kernel di tipo *Gaussiano* in modo da rendere più flessibile l'iperpiano che separa i dati."
   ]
  },
  {
   "cell_type": "code",
   "execution_count": null,
   "metadata": {
    "id": "VRbMRd5BxmTP"
   },
   "outputs": [],
   "source": [
    "clf = SVC(kernel ='rbf', class_weight='balanced')\n",
    "# Fit dei dati\n",
    "clf = clf.fit(X_train, y_train)\n",
    "# Previsioni sul validation set\n",
    "y_pred = clf.predict(X_validation) "
   ]
  },
  {
   "cell_type": "markdown",
   "metadata": {
    "id": "b_fDe78iOrwY"
   },
   "source": [
    "Si visualizza ora il classification report e successivamente si procede a disegnare una matrice di confusione:"
   ]
  },
  {
   "cell_type": "code",
   "execution_count": null,
   "metadata": {
    "colab": {
     "base_uri": "https://localhost:8080/"
    },
    "id": "fJxch3syx8ks",
    "outputId": "fceb9f02-14b9-4b2e-fd96-bf560031c1cc",
    "scrolled": true
   },
   "outputs": [
    {
     "name": "stdout",
     "output_type": "stream",
     "text": [
      "              precision    recall  f1-score   support\n",
      "\n",
      "           0       0.68      0.50      0.58       123\n",
      "           1       0.59      0.75      0.66       117\n",
      "\n",
      "    accuracy                           0.62       240\n",
      "   macro avg       0.64      0.63      0.62       240\n",
      "weighted avg       0.64      0.62      0.62       240\n",
      "\n"
     ]
    }
   ],
   "source": [
    "print(classification_report(y_validation, y_pred))"
   ]
  },
  {
   "cell_type": "code",
   "execution_count": null,
   "metadata": {
    "colab": {
     "base_uri": "https://localhost:8080/",
     "height": 417
    },
    "id": "82iQE_cLyPzu",
    "outputId": "e324bb3d-fab6-40ac-8355-879fedab36ae"
   },
   "outputs": [
    {
     "data": {
      "image/png": "[encoded data removed]",
      "text/plain": [
       "<Figure size 432x432 with 2 Axes>"
      ]
     },
     "metadata": {
      "needs_background": "light",
      "tags": []
     },
     "output_type": "display_data"
    }
   ],
   "source": [
    "cm = confusion_matrix(y_validation, y_pred)\n",
    "\n",
    "fig = plt.figure(figsize = (6,6))\n",
    "ax = plt.subplot()\n",
    "sns.heatmap(cm, annot=True, annot_kws={\"size\": 16},\n",
    "           linewidths=.1, cmap=\"YlGnBu\")\n",
    "plt.xlabel(\"True Class\", size = 15)\n",
    "plt.ylabel(\"Predicted Class\", size = 15)\n",
    "plt.xticks(size = 12)\n",
    "plt.yticks(size = 12)\n",
    "ax.yaxis.set_ticklabels(['Letto', 'Improvvisato']) \n",
    "ax.xaxis.set_ticklabels(['Letto', 'Improvvisato']) \n",
    "\n",
    "plt.title(\"Confusion matrix\", size = 20)\n",
    "fig.savefig(\"confusion_matrix_svm.png\", dpi = 200)"
   ]
  },
  {
   "cell_type": "markdown",
   "metadata": {
    "id": "_5sfKySD8wop"
   },
   "source": [
    "Dai risultati del classification report si può notare che le performance sono discrete ma sicuramente migliorabili. Dalla confusion matrix si nota invece che molti audio **improvvisati** vengono classificati come **letti**; questo è un risultato che ci si poteva aspettare in quanto è facile che si possa rispondere ad una domanda con prontezza in modo da sembrare che sia letta. Concludendo, il modello ottiene una **accuratezza** del **62%**."
   ]
  },
  {
   "cell_type": "markdown",
   "metadata": {
    "id": "UdFfvATy_Pbv"
   },
   "source": [
    "# CNN 2D\n",
    "\n",
    "Si passa ora agli spettrogrammi di Mel e alla definizione delle reti neurali."
   ]
  },
  {
   "cell_type": "markdown",
   "metadata": {
    "id": "oc9swEOZXXds"
   },
   "source": [
    "## Spettrogrammi\n",
    "\n",
    "La funzione seguente *create_spect* analizza ciascun audio presente nella directory fornita e ne crea il **corrispettivo spettrogramma di Mel**."
   ]
  },
  {
   "cell_type": "code",
   "execution_count": null,
   "metadata": {
    "id": "RhE6d3MB_7fb"
   },
   "outputs": [],
   "source": [
    "def create_spect():\n",
    "\n",
    "  # Ciclo for su ogni file presente nella directory\n",
    "  for f in sorted(os.listdir(base_dir)):\n",
    "        \n",
    "    # Controllo sull'estensione del file\n",
    "    if f.endswith('.mp3'):\n",
    "        \n",
    "            # Lettura della traccia e della frequenza di campionamento, la traccia viene tagliata a 7 secondi massimo.\n",
    "            signal, sr = librosa.load(base_dir + f, duration= 7.0, sr=None)\n",
    "            \n",
    "            # Estrazione del nome del file\n",
    "            name = re.search(r'^(\\d+)_([01])\\.mp3$', f).group(1)\n",
    "            \n",
    "            # Estrazione della classe di appartenenza\n",
    "            label = re.search(r'^(\\d+)_([01])\\.mp3$', f).group(2)\n",
    "            \n",
    "            # Creazione dello spettrogramma\n",
    "            spect = librosa.feature.melspectrogram(y=signal, n_mels=128)\n",
    "            fig = plt.figure(figsize=(4,4))\n",
    "            \n",
    "            # Eliminazione degli oggetti inutili all'interno del grafico\n",
    "            ax = fig.add_subplot(111)\n",
    "            ax.axes.get_xaxis().set_visible(False)\n",
    "            ax.axes.get_yaxis().set_visible(False)\n",
    "            ax.set_frame_on(False)\n",
    "            \n",
    "            # Conversione da ampiezze a decibel\n",
    "            S_dB = librosa.power_to_db(spect, ref=np.max)\n",
    "            \n",
    "            # Salvataggio dell'immagine\n",
    "            img = librosa.display.specshow(S_dB, x_axis='time', y_axis='mel', ax=ax)\n",
    "            \n",
    "            # L'immagine viene salvata con la label corretta nel nome\n",
    "            if int(label) == 0:\n",
    "              fig.savefig(\"gdrive/MyDrive/spectrograms/letto/{}_{}.png\".format(name, label), dpi = 100)\n",
    "            else:\n",
    "              fig.savefig(\"gdrive/MyDrive/spectrograms/improvvisato/{}_{}.png\".format(name, label), dpi = 100)\n",
    "            plt.close(\"all\")"
   ]
  },
  {
   "cell_type": "markdown",
   "metadata": {
    "id": "atyoM0FeOrwa"
   },
   "source": [
    "Si applica ora la funzione e si creano gli spettrogrammi nelle cartelle corrette:"
   ]
  },
  {
   "cell_type": "code",
   "execution_count": null,
   "metadata": {
    "colab": {
     "base_uri": "https://localhost:8080/"
    },
    "id": "iQAxdO8dGV0S",
    "outputId": "bf5afdcd-10c7-4912-bca8-2a6e60c83485"
   },
   "outputs": [
    {
     "name": "stdout",
     "output_type": "stream",
     "text": [
      "001_1.mp3\n",
      "002_1.mp3\n",
      "003_1.mp3\n",
      "004_1.mp3\n",
      "005_1.mp3\n",
      "006_1.mp3\n",
      "007_1.mp3\n",
      "008_1.mp3\n",
      "009_1.mp3\n",
      "010_1.mp3\n",
      "011_1.mp3\n",
      "012_1.mp3\n",
      "013_1.mp3\n",
      "014_1.mp3\n",
      "015_1.mp3\n",
      "016_1.mp3\n",
      "017_1.mp3\n",
      "018_1.mp3\n",
      "019_1.mp3\n",
      "020_1.mp3\n",
      "021_1.mp3\n",
      "022_1.mp3\n",
      "023_1.mp3\n",
      "024_1.mp3\n",
      "025_1.mp3\n",
      "026_1.mp3\n",
      "027_1.mp3\n",
      "028_1.mp3\n",
      "029_1.mp3\n",
      "030_1.mp3\n",
      "031_1.mp3\n",
      "032_1.mp3\n",
      "033_1.mp3\n",
      "034_1.mp3\n",
      "035_1.mp3\n",
      "036_1.mp3\n",
      "037_1.mp3\n",
      "038_1.mp3\n",
      "039_1.mp3\n",
      "040_1.mp3\n",
      "041_1.mp3\n",
      "042_1.mp3\n",
      "043_1.mp3\n",
      "044_1.mp3\n",
      "045_1.mp3\n",
      "046_1.mp3\n",
      "047_1.mp3\n",
      "048_1.mp3\n",
      "049_1.mp3\n",
      "050_1.mp3\n",
      "051_1.mp3\n",
      "052_1.mp3\n",
      "053_1.mp3\n",
      "054_1.mp3\n",
      "055_1.mp3\n",
      "056_1.mp3\n",
      "057_1.mp3\n",
      "058_1.mp3\n",
      "059_1.mp3\n",
      "060_1.mp3\n",
      "061_1.mp3\n",
      "062_1.mp3\n",
      "063_1.mp3\n",
      "064_1.mp3\n",
      "065_1.mp3\n",
      "066_1.mp3\n",
      "067_1.mp3\n",
      "068_1.mp3\n",
      "069_1.mp3\n",
      "070_1.mp3\n",
      "071_1.mp3\n",
      "072_1.mp3\n",
      "073_1.mp3\n",
      "074_1.mp3\n",
      "075_1.mp3\n",
      "076_1.mp3\n",
      "077_1.mp3\n",
      "078_1.mp3\n",
      "079_1.mp3\n",
      "080_1.mp3\n",
      "081_1.mp3\n",
      "082_1.mp3\n",
      "083_1.mp3\n",
      "084_1.mp3\n",
      "085_1.mp3\n",
      "086_1.mp3\n",
      "087_1.mp3\n",
      "088_1.mp3\n",
      "089_1.mp3\n",
      "090_1.mp3\n",
      "091_1.mp3\n",
      "092_1.mp3\n",
      "093_1.mp3\n",
      "094_1.mp3\n",
      "095_1.mp3\n",
      "096_1.mp3\n",
      "097_1.mp3\n",
      "098_1.mp3\n",
      "099_1.mp3\n",
      "100_0.mp3\n",
      "101_1.mp3\n",
      "102_1.mp3\n",
      "103_1.mp3\n",
      "104_1.mp3\n",
      "105_1.mp3\n",
      "106_1.mp3\n",
      "107_1.mp3\n",
      "108_1.mp3\n",
      "109_1.mp3\n",
      "110_1.mp3\n",
      "111_1.mp3\n",
      "112_1.mp3\n",
      "113_1.mp3\n",
      "114_1.mp3\n",
      "115_1.mp3\n",
      "116_1.mp3\n",
      "117_1.mp3\n",
      "118_1.mp3\n",
      "119_1.mp3\n",
      "120_1.mp3\n",
      "121_1.mp3\n",
      "122_1.mp3\n",
      "123_1.mp3\n",
      "124_1.mp3\n",
      "125_1.mp3\n",
      "126_1.mp3\n",
      "127_1.mp3\n",
      "128_1.mp3\n",
      "129_1.mp3\n",
      "130_1.mp3\n",
      "131_1.mp3\n",
      "132_1.mp3\n",
      "133_1.mp3\n",
      "134_1.mp3\n",
      "135_1.mp3\n",
      "136_1.mp3\n",
      "137_1.mp3\n",
      "138_1.mp3\n",
      "139_1.mp3\n",
      "140_1.mp3\n",
      "141_1.mp3\n",
      "142_1.mp3\n",
      "143_1.mp3\n",
      "144_1.mp3\n",
      "145_1.mp3\n",
      "146_1.mp3\n",
      "147_1.mp3\n",
      "148_1.mp3\n",
      "149_1.mp3\n",
      "150_1.mp3\n",
      "151_1.mp3\n",
      "152_1.mp3\n",
      "153_1.mp3\n",
      "154_1.mp3\n",
      "155_1.mp3\n",
      "156_1.mp3\n",
      "157_1.mp3\n",
      "158_1.mp3\n",
      "159_1.mp3\n",
      "160_1.mp3\n",
      "161_1.mp3\n",
      "162_1.mp3\n",
      "163_1.mp3\n",
      "164_1.mp3\n",
      "165_1.mp3\n",
      "166_1.mp3\n",
      "167_1.mp3\n",
      "168_1.mp3\n",
      "169_1.mp3\n",
      "170_1.mp3\n",
      "171_1.mp3\n",
      "172_1.mp3\n",
      "173_1.mp3\n",
      "174_1.mp3\n",
      "175_1.mp3\n",
      "176_1.mp3\n",
      "177_1.mp3\n",
      "178_1.mp3\n",
      "179_1.mp3\n",
      "180_1.mp3\n",
      "181_1.mp3\n",
      "182_1.mp3\n",
      "183_1.mp3\n",
      "184_1.mp3\n",
      "185_1.mp3\n",
      "186_1.mp3\n",
      "187_1.mp3\n",
      "188_1.mp3\n",
      "189_1.mp3\n",
      "190_1.mp3\n",
      "191_1.mp3\n",
      "192_1.mp3\n",
      "193_1.mp3\n",
      "194_1.mp3\n",
      "195_1.mp3\n",
      "196_1.mp3\n",
      "197_1.mp3\n",
      "198_1.mp3\n",
      "199_1.mp3\n",
      "200_1.mp3\n",
      "201_1.mp3\n",
      "202_1.mp3\n",
      "203_1.mp3\n",
      "204_1.mp3\n",
      "205_1.mp3\n",
      "206_1.mp3\n",
      "207_1.mp3\n",
      "208_1.mp3\n",
      "209_1.mp3\n",
      "210_1.mp3\n",
      "211_1.mp3\n",
      "212_1.mp3\n",
      "213_1.mp3\n",
      "214_1.mp3\n",
      "215_1.mp3\n",
      "216_1.mp3\n",
      "217_1.mp3\n",
      "218_1.mp3\n",
      "219_1.mp3\n",
      "220_1.mp3\n",
      "221_1.mp3\n",
      "222_1.mp3\n",
      "223_1.mp3\n",
      "224_1.mp3\n",
      "225_1.mp3\n",
      "226_1.mp3\n",
      "227_1.mp3\n",
      "228_1.mp3\n",
      "229_1.mp3\n",
      "230_1.mp3\n",
      "231_1.mp3\n",
      "232_1.mp3\n",
      "233_1.mp3\n",
      "234_1.mp3\n",
      "235_1.mp3\n",
      "236_1.mp3\n",
      "237_1.mp3\n",
      "238_1.mp3\n",
      "239_1.mp3\n",
      "240_1.mp3\n",
      "241_1.mp3\n",
      "242_1.mp3\n",
      "243_1.mp3\n",
      "244_1.mp3\n",
      "245_1.mp3\n",
      "246_1.mp3\n",
      "247_1.mp3\n",
      "248_1.mp3\n",
      "249_1.mp3\n",
      "250_1.mp3\n",
      "251_1.mp3\n",
      "252_1.mp3\n",
      "253_1.mp3\n",
      "254_1.mp3\n",
      "255_1.mp3\n",
      "256_1.mp3\n",
      "257_1.mp3\n",
      "258_1.mp3\n",
      "259_1.mp3\n",
      "260_1.mp3\n",
      "261_1.mp3\n",
      "262_1.mp3\n",
      "263_1.mp3\n",
      "264_1.mp3\n",
      "265_1.mp3\n",
      "266_1.mp3\n",
      "267_1.mp3\n",
      "268_1.mp3\n",
      "269_1.mp3\n",
      "270_1.mp3\n",
      "271_1.mp3\n",
      "272_1.mp3\n",
      "273_1.mp3\n",
      "274_1.mp3\n",
      "275_1.mp3\n",
      "276_1.mp3\n",
      "277_1.mp3\n",
      "278_1.mp3\n",
      "279_1.mp3\n",
      "280_1.mp3\n",
      "281_1.mp3\n",
      "282_1.mp3\n",
      "283_1.mp3\n",
      "284_1.mp3\n",
      "285_1.mp3\n",
      "286_1.mp3\n",
      "287_1.mp3\n",
      "288_1.mp3\n",
      "289_1.mp3\n",
      "290_1.mp3\n",
      "291_1.mp3\n",
      "292_1.mp3\n",
      "293_1.mp3\n",
      "294_1.mp3\n",
      "295_1.mp3\n",
      "296_1.mp3\n",
      "297_1.mp3\n",
      "298_1.mp3\n",
      "299_1.mp3\n",
      "300_1.mp3\n",
      "301_1.mp3\n",
      "302_1.mp3\n",
      "303_1.mp3\n",
      "304_1.mp3\n",
      "305_1.mp3\n",
      "306_1.mp3\n",
      "307_1.mp3\n",
      "308_1.mp3\n",
      "309_1.mp3\n",
      "310_1.mp3\n",
      "311_1.mp3\n",
      "312_1.mp3\n",
      "313_1.mp3\n",
      "314_1.mp3\n",
      "315_1.mp3\n",
      "316_1.mp3\n",
      "317_1.mp3\n",
      "318_1.mp3\n",
      "319_1.mp3\n",
      "320_1.mp3\n",
      "321_1.mp3\n",
      "322_0.mp3\n",
      "323_0.mp3\n",
      "324_0.mp3\n",
      "325_0.mp3\n",
      "326_0.mp3\n",
      "327_0.mp3\n",
      "328_0.mp3\n",
      "329_0.mp3\n",
      "330_0.mp3\n",
      "331_1.mp3\n",
      "332_1.mp3\n",
      "333_1.mp3\n",
      "335_1.mp3\n",
      "336_1.mp3\n",
      "337_1.mp3\n",
      "338_1.mp3\n",
      "339_1.mp3\n",
      "340_0.mp3\n",
      "341_0.mp3\n",
      "344_0.mp3\n",
      "345_0.mp3\n",
      "346_0.mp3\n",
      "347_0.mp3\n",
      "348_0.mp3\n",
      "349_0.mp3\n",
      "350_0.mp3\n",
      "351_0.mp3\n",
      "352_0.mp3\n",
      "353_0.mp3\n",
      "354_0.mp3\n",
      "355_0.mp3\n",
      "356_0.mp3\n",
      "357_0.mp3\n",
      "358_0.mp3\n",
      "359_0.mp3\n",
      "360_0.mp3\n",
      "361_0.mp3\n",
      "362_0.mp3\n",
      "363_0.mp3\n",
      "364_0.mp3\n",
      "365_0.mp3\n",
      "366_0.mp3\n",
      "367_0.mp3\n",
      "368_0.mp3\n",
      "369_0.mp3\n",
      "370_0.mp3\n",
      "371_0.mp3\n",
      "372_0.mp3\n",
      "373_0.mp3\n",
      "374_0.mp3\n",
      "375_0.mp3\n",
      "376_0.mp3\n",
      "377_0.mp3\n",
      "378_0.mp3\n",
      "379_0.mp3\n",
      "380_0.mp3\n",
      "381_0.mp3\n",
      "382_0.mp3\n",
      "383_0.mp3\n",
      "384_0.mp3\n",
      "385_0.mp3\n",
      "386_0.mp3\n",
      "387_0.mp3\n",
      "388_0.mp3\n",
      "389_0.mp3\n",
      "390_0.mp3\n",
      "391_0.mp3\n",
      "392_0.mp3\n",
      "393_0.mp3\n",
      "394_0.mp3\n",
      "395_0.mp3\n",
      "396_0.mp3\n",
      "397_0.mp3\n",
      "398_0.mp3\n",
      "399_0.mp3\n",
      "400_0.mp3\n",
      "401_0.mp3\n",
      "402_0.mp3\n",
      "403_0.mp3\n",
      "404_0.mp3\n",
      "405_0.mp3\n",
      "406_0.mp3\n",
      "407_0.mp3\n",
      "408_0.mp3\n",
      "409_0.mp3\n",
      "410_0.mp3\n",
      "411_0.mp3\n",
      "412_0.mp3\n",
      "413_0.mp3\n",
      "414_0.mp3\n",
      "415_0.mp3\n",
      "416_0.mp3\n",
      "417_0.mp3\n",
      "418_0.mp3\n",
      "419_0.mp3\n",
      "420_0.mp3\n",
      "421_0.mp3\n",
      "422_0.mp3\n",
      "423_0.mp3\n",
      "424_0.mp3\n",
      "425_0.mp3\n",
      "426_0.mp3\n",
      "427_0.mp3\n",
      "428_0.mp3\n",
      "429_0.mp3\n",
      "430_0.mp3\n",
      "431_0.mp3\n",
      "432_0.mp3\n",
      "433_0.mp3\n",
      "434_0.mp3\n",
      "435_0.mp3\n",
      "436_0.mp3\n",
      "437_0.mp3\n",
      "438_0.mp3\n",
      "439_1.mp3\n",
      "440_1.mp3\n",
      "441_1.mp3\n",
      "442_1.mp3\n",
      "443_1.mp3\n",
      "444_1.mp3\n",
      "445_1.mp3\n",
      "446_1.mp3\n",
      "447_1.mp3\n",
      "448_1.mp3\n",
      "449_1.mp3\n",
      "450_1.mp3\n",
      "451_1.mp3\n",
      "452_1.mp3\n",
      "453_1.mp3\n",
      "454_1.mp3\n",
      "455_1.mp3\n",
      "456_1.mp3\n",
      "457_1.mp3\n",
      "458_1.mp3\n",
      "459_1.mp3\n",
      "460_1.mp3\n",
      "461_1.mp3\n",
      "462_1.mp3\n",
      "463_1.mp3\n",
      "464_1.mp3\n",
      "465_1.mp3\n",
      "466_1.mp3\n",
      "467_1.mp3\n",
      "468_1.mp3\n",
      "469_1.mp3\n",
      "470_1.mp3\n",
      "471_1.mp3\n",
      "472_1.mp3\n",
      "473_1.mp3\n",
      "474_1.mp3\n",
      "475_1.mp3\n",
      "476_1.mp3\n",
      "477_1.mp3\n",
      "478_1.mp3\n",
      "479_1.mp3\n",
      "480_1.mp3\n",
      "481_1.mp3\n",
      "482_1.mp3\n",
      "483_1.mp3\n",
      "484_1.mp3\n",
      "485_1.mp3\n",
      "486_1.mp3\n",
      "487_1.mp3\n",
      "488_1.mp3\n",
      "489_1.mp3\n",
      "490_1.mp3\n",
      "491_1.mp3\n",
      "492_1.mp3\n",
      "493_1.mp3\n",
      "494_1.mp3\n",
      "495_1.mp3\n",
      "496_1.mp3\n",
      "497_1.mp3\n",
      "498_1.mp3\n",
      "499_1.mp3\n",
      "500_0.mp3\n",
      "501_1.mp3\n",
      "502_1.mp3\n",
      "503_1.mp3\n",
      "504_1.mp3\n",
      "505_1.mp3\n",
      "506_1.mp3\n",
      "507_1.mp3\n",
      "508_1.mp3\n",
      "509_1.mp3\n",
      "510_1.mp3\n",
      "511_0.mp3\n",
      "512_0.mp3\n",
      "513_0.mp3\n",
      "514_0.mp3\n",
      "515_0.mp3\n",
      "516_0.mp3\n",
      "517_0.mp3\n",
      "518_0.mp3\n",
      "519_0.mp3\n",
      "520_0.mp3\n",
      "521_0.mp3\n",
      "522_0.mp3\n",
      "523_0.mp3\n",
      "524_0.mp3\n",
      "525_0.mp3\n",
      "526_0.mp3\n",
      "527_0.mp3\n",
      "528_0.mp3\n",
      "529_0.mp3\n",
      "530_0.mp3\n",
      "531_0.mp3\n",
      "532_0.mp3\n",
      "533_0.mp3\n",
      "534_0.mp3\n",
      "535_0.mp3\n",
      "536_0.mp3\n",
      "537_0.mp3\n",
      "538_0.mp3\n",
      "539_0.mp3\n",
      "540_0.mp3\n",
      "541_0.mp3\n",
      "542_0.mp3\n",
      "543_0.mp3\n",
      "544_0.mp3\n",
      "545_0.mp3\n",
      "546_0.mp3\n",
      "547_0.mp3\n",
      "548_0.mp3\n",
      "549_0.mp3\n",
      "550_0.mp3\n",
      "551_0.mp3\n",
      "552_0.mp3\n",
      "553_0.mp3\n",
      "554_0.mp3\n",
      "555_0.mp3\n",
      "556_0.mp3\n",
      "557_0.mp3\n",
      "558_0.mp3\n",
      "559_0.mp3\n",
      "560_0.mp3\n",
      "561_0.mp3\n",
      "562_0.mp3\n",
      "563_0.mp3\n",
      "564_0.mp3\n",
      "565_0.mp3\n",
      "566_0.mp3\n",
      "567_0.mp3\n",
      "568_0.mp3\n",
      "569_0.mp3\n",
      "570_0.mp3\n",
      "571_0.mp3\n",
      "572_0.mp3\n",
      "573_0.mp3\n",
      "574_0.mp3\n",
      "575_0.mp3\n",
      "576_0.mp3\n",
      "577_0.mp3\n",
      "578_0.mp3\n",
      "579_0.mp3\n",
      "580_0.mp3\n",
      "581_0.mp3\n",
      "582_0.mp3\n",
      "583_0.mp3\n",
      "584_0.mp3\n",
      "585_0.mp3\n",
      "586_0.mp3\n",
      "587_0.mp3\n",
      "588_0.mp3\n",
      "589_0.mp3\n",
      "590_0.mp3\n",
      "591_0.mp3\n",
      "592_0.mp3\n",
      "593_0.mp3\n",
      "594_0.mp3\n",
      "595_0.mp3\n",
      "596_0.mp3\n",
      "597_0.mp3\n",
      "598_0.mp3\n",
      "599_0.mp3\n",
      "600_0.mp3\n",
      "601_0.mp3\n",
      "602_0.mp3\n",
      "603_0.mp3\n",
      "604_1.mp3\n",
      "605_0.mp3\n",
      "606_0.mp3\n",
      "607_0.mp3\n",
      "608_0.mp3\n",
      "609_0.mp3\n",
      "610_0.mp3\n",
      "611_0.mp3\n",
      "612_0.mp3\n",
      "613_0.mp3\n",
      "614_0.mp3\n",
      "615_0.mp3\n",
      "616_0.mp3\n",
      "617_0.mp3\n",
      "618_0.mp3\n",
      "619_0.mp3\n",
      "620_0.mp3\n",
      "621_0.mp3\n",
      "622_0.mp3\n",
      "623_0.mp3\n",
      "624_0.mp3\n",
      "625_0.mp3\n",
      "626_0.mp3\n",
      "627_0.mp3\n",
      "628_0.mp3\n",
      "629_0.mp3\n",
      "630_0.mp3\n",
      "631_0.mp3\n",
      "632_0.mp3\n",
      "633_0.mp3\n",
      "634_0.mp3\n",
      "635_0.mp3\n",
      "636_0.mp3\n",
      "637_0.mp3\n",
      "638_0.mp3\n",
      "639_0.mp3\n",
      "640_0.mp3\n",
      "641_0.mp3\n",
      "642_0.mp3\n",
      "643_0.mp3\n",
      "644_0.mp3\n",
      "645_0.mp3\n",
      "646_0.mp3\n",
      "647_0.mp3\n",
      "648_0.mp3\n",
      "649_0.mp3\n",
      "650_0.mp3\n",
      "651_0.mp3\n",
      "652_0.mp3\n",
      "653_0.mp3\n",
      "654_0.mp3\n",
      "655_0.mp3\n",
      "656_0.mp3\n",
      "657_0.mp3\n",
      "658_0.mp3\n",
      "659_0.mp3\n",
      "660_0.mp3\n",
      "661_0.mp3\n",
      "662_0.mp3\n",
      "663_0.mp3\n",
      "664_0.mp3\n",
      "665_0.mp3\n",
      "666_0.mp3\n",
      "667_0.mp3\n",
      "668_0.mp3\n",
      "669_0.mp3\n",
      "670_0.mp3\n",
      "671_0.mp3\n",
      "672_0.mp3\n",
      "673_0.mp3\n",
      "674_0.mp3\n",
      "675_0.mp3\n",
      "676_0.mp3\n",
      "677_0.mp3\n",
      "678_0.mp3\n",
      "679_0.mp3\n",
      "680_0.mp3\n",
      "681_0.mp3\n",
      "682_0.mp3\n",
      "683_0.mp3\n",
      "684_0.mp3\n",
      "685_0.mp3\n",
      "686_0.mp3\n",
      "687_0.mp3\n",
      "688_0.mp3\n",
      "689_0.mp3\n",
      "690_0.mp3\n",
      "691_0.mp3\n",
      "692_0.mp3\n",
      "693_0.mp3\n",
      "694_0.mp3\n",
      "695_0.mp3\n",
      "696_0.mp3\n",
      "697_0.mp3\n",
      "698_0.mp3\n",
      "699_0.mp3\n",
      "700_0.mp3\n",
      "701_0.mp3\n",
      "702_0.mp3\n",
      "703_0.mp3\n",
      "704_0.mp3\n",
      "705_0.mp3\n",
      "706_0.mp3\n",
      "707_0.mp3\n",
      "708_0.mp3\n",
      "709_0.mp3\n",
      "710_0.mp3\n",
      "711_0.mp3\n",
      "712_0.mp3\n",
      "713_0.mp3\n",
      "714_0.mp3\n",
      "715_0.mp3\n",
      "716_0.mp3\n",
      "717_0.mp3\n",
      "718_0.mp3\n",
      "719_0.mp3\n",
      "720_0.mp3\n",
      "721_0.mp3\n",
      "722_0.mp3\n",
      "723_0.mp3\n",
      "724_0.mp3\n",
      "725_0.mp3\n",
      "726_0.mp3\n",
      "727_0.mp3\n",
      "728_0.mp3\n",
      "729_0.mp3\n",
      "730_0.mp3\n",
      "731_0.mp3\n",
      "732_0.mp3\n",
      "733_0.mp3\n",
      "734_0.mp3\n",
      "735_0.mp3\n",
      "736_0.mp3\n",
      "737_0.mp3\n",
      "738_0.mp3\n",
      "739_0.mp3\n",
      "740_0.mp3\n",
      "741_0.mp3\n",
      "742_0.mp3\n",
      "743_0.mp3\n",
      "744_0.mp3\n",
      "745_0.mp3\n",
      "746_0.mp3\n",
      "747_0.mp3\n",
      "748_0.mp3\n",
      "749_0.mp3\n",
      "750_0.mp3\n",
      "751_0.mp3\n",
      "752_0.mp3\n",
      "753_0.mp3\n",
      "754_0.mp3\n",
      "755_0.mp3\n",
      "756_0.mp3\n",
      "757_0.mp3\n",
      "758_0.mp3\n",
      "759_0.mp3\n",
      "760_0.mp3\n",
      "761_0.mp3\n",
      "762_0.mp3\n",
      "763_0.mp3\n",
      "764_0.mp3\n",
      "765_0.mp3\n",
      "766_0.mp3\n",
      "767_0.mp3\n",
      "768_0.mp3\n",
      "769_0.mp3\n",
      "770_0.mp3\n",
      "771_0.mp3\n",
      "772_0.mp3\n",
      "773_0.mp3\n",
      "774_0.mp3\n",
      "775_0.mp3\n",
      "776_0.mp3\n",
      "777_0.mp3\n",
      "778_0.mp3\n",
      "779_0.mp3\n",
      "780_0.mp3\n",
      "781_0.mp3\n",
      "782_0.mp3\n",
      "783_0.mp3\n",
      "784_0.mp3\n",
      "785_0.mp3\n",
      "786_0.mp3\n",
      "787_0.mp3\n",
      "788_0.mp3\n",
      "789_0.mp3\n",
      "790_0.mp3\n",
      "791_0.mp3\n",
      "792_0.mp3\n",
      "793_0.mp3\n",
      "794_0.mp3\n",
      "795_0.mp3\n",
      "796_0.mp3\n",
      "797_0.mp3\n",
      "798_0.mp3\n",
      "799_0.mp3\n",
      "800_0.mp3\n",
      "801_0.mp3\n",
      "802_0.mp3\n",
      "803_0.mp3\n"
     ]
    }
   ],
   "source": [
    "create_spect()"
   ]
  },
  {
   "cell_type": "markdown",
   "metadata": {
    "id": "-jqh02RfPxsN"
   },
   "source": [
    "## Split train - validation - test\n",
    "\n",
    "Si utilizza ora la libreria **splitfolders**, la quale ci permette comodamente di dividere il dataset in train, validation e test, creando le rispettive cartelle. In tal modo sarà possibile utilizzare i **generator** di Keras."
   ]
  },
  {
   "cell_type": "code",
   "execution_count": null,
   "metadata": {
    "colab": {
     "base_uri": "https://localhost:8080/"
    },
    "id": "qoVIdg_5xzR2",
    "outputId": "9c5c621e-fd3d-4b3a-dcc0-500b41bd2d07"
   },
   "outputs": [
    {
     "name": "stdout",
     "output_type": "stream",
     "text": [
      "Collecting split-folders\n",
      "  Downloading https://files.pythonhosted.org/packages/b8/5f/3c2b2f7ea5e047c8cdc3bb00ae582c5438fcdbbedcc23b3cc1c2c7aae642/split_folders-0.4.3-py3-none-any.whl\n",
      "Installing collected packages: split-folders\n",
      "Successfully installed split-folders-0.4.3\n"
     ]
    }
   ],
   "source": [
    "!pip install split-folders"
   ]
  },
  {
   "cell_type": "code",
   "execution_count": null,
   "metadata": {
    "colab": {
     "base_uri": "https://localhost:8080/"
    },
    "id": "5sd8gg0FPwVF",
    "outputId": "4e5ee5ac-ac40-4e70-f17d-236b29a2eaba"
   },
   "outputs": [
    {
     "name": "stderr",
     "output_type": "stream",
     "text": [
      "Copying files: 800 files [00:10, 73.44 files/s]\n"
     ]
    }
   ],
   "source": [
    "import splitfolders\n",
    "splitfolders.ratio(\"gdrive/MyDrive/spectrograms\", output=\"gdrive/MyDrive/spectrograms_model\", ratio=(0.6, 0.3, 0.1))"
   ]
  },
  {
   "cell_type": "markdown",
   "metadata": {
    "id": "_dfnp-NjH44h"
   },
   "source": [
    "## Generator\n",
    "\n",
    "Vengono ora definiti i differenti **generator** per il train, validation e test set. Nella definizione dei generatori vengonon utilizzate le stesse operazioni di preprocessing della **mobilenet**, ossia la rete neurale che useremo.\n",
    "La scelta della rete è ricaduta su questa configurazione poiché, pensando ad un'applicazione futura, leggera e rapida, la mobilenet presentava tali caratteristiche.\n",
    "\n",
    "Come **batch size** viene usata la stessa dimensione dei dati, in modo da poter definire i vettori *x* e *y*. Questa operazione è necessaria in quanto la rete che addestreremo verrà tagliata prima dell'output layer per ottenere features più generali, e i vettori dovranno essere cambiati di dimensione."
   ]
  },
  {
   "cell_type": "code",
   "execution_count": 3,
   "metadata": {
    "colab": {
     "base_uri": "https://localhost:8080/"
    },
    "id": "69LG5NygJh0P",
    "outputId": "9dfd7840-8baa-417a-9397-b8ca50f3d0d5"
   },
   "outputs": [
    {
     "name": "stdout",
     "output_type": "stream",
     "text": [
      "Found 640 images belonging to 2 classes.\n"
     ]
    }
   ],
   "source": [
    "train_processing = keras.preprocessing.image.ImageDataGenerator(preprocessing_function = mobilenet.preprocess_input)\n",
    "\n",
    "train_generator = train_processing.flow_from_directory(\"gdrive/MyDrive/DigitalSignal/spectrograms_model/train\",\n",
    "                                    target_size = (224, 224),\n",
    "                                    color_mode = \"rgb\",\n",
    "                                    batch_size = 640,\n",
    "                                    class_mode = \"categorical\",\n",
    "                                    shuffle = False,\n",
    "                                    seed = 1 )\n",
    "\n",
    "x_train, y_train = next(train_generator)"
   ]
  },
  {
   "cell_type": "code",
   "execution_count": 4,
   "metadata": {
    "colab": {
     "base_uri": "https://localhost:8080/"
    },
    "id": "7mQIn3nSzAxK",
    "outputId": "a28662d1-7c9c-4496-9ba5-32f23b39d7a5"
   },
   "outputs": [
    {
     "name": "stdout",
     "output_type": "stream",
     "text": [
      "Found 240 images belonging to 2 classes.\n"
     ]
    }
   ],
   "source": [
    "validation_processing = keras.preprocessing.image.ImageDataGenerator(preprocessing_function= mobilenet.preprocess_input)\n",
    "\n",
    "validation_generator = validation_processing.flow_from_directory(\"gdrive/MyDrive/DigitalSignal/spectrograms_model/val\",\n",
    "                                    target_size = (224, 224),\n",
    "                                    color_mode = \"rgb\",\n",
    "                                    batch_size = 240,\n",
    "                                    class_mode = \"categorical\",\n",
    "                                    shuffle = False,\n",
    "                                    seed = 1)\n",
    "\n",
    "x_validation, y_validation = next(validation_generator)"
   ]
  },
  {
   "cell_type": "code",
   "execution_count": 5,
   "metadata": {
    "colab": {
     "base_uri": "https://localhost:8080/"
    },
    "id": "XbCoURRyL7B6",
    "outputId": "e44680e0-3c20-42fd-b29c-a6696f64efd8"
   },
   "outputs": [
    {
     "name": "stdout",
     "output_type": "stream",
     "text": [
      "Found 80 images belonging to 2 classes.\n"
     ]
    }
   ],
   "source": [
    "test_processing = keras.preprocessing.image.ImageDataGenerator(preprocessing_function= mobilenet.preprocess_input)\n",
    "\n",
    "test_generator = test_processing.flow_from_directory(\"gdrive/MyDrive/DigitalSignal/spectrograms_model/test\",\n",
    "                                    target_size = (224, 224),\n",
    "                                    color_mode = \"rgb\",\n",
    "                                    batch_size = 80,\n",
    "                                    class_mode = \"categorical\",\n",
    "                                    shuffle = False,\n",
    "                                    seed = 1)\n",
    "\n",
    "x_test, y_test = next(test_generator)"
   ]
  },
  {
   "cell_type": "markdown",
   "metadata": {
    "id": "QkpaWBFrZm-H"
   },
   "source": [
    "## MobileNet tagliata\n",
    "\n",
    "Viene utilizzata la rete **MobileNet** in quanto presenta un numero non troppo elevato di parametri ed è facilmente riaddestrabile. Ovviamente il layer di top non viene incluso."
   ]
  },
  {
   "cell_type": "code",
   "execution_count": 6,
   "metadata": {
    "colab": {
     "base_uri": "https://localhost:8080/"
    },
    "id": "gRCgYFYPKFT2",
    "outputId": "d9424e1a-8bc9-40f5-8a74-d5fad9f6c1c8"
   },
   "outputs": [
    {
     "name": "stdout",
     "output_type": "stream",
     "text": [
      "Downloading data from https://storage.googleapis.com/tensorflow/keras-applications/mobilenet/mobilenet_1_0_224_tf_no_top.h5\n",
      "17227776/17225924 [==============================] - 0s 0us/step\n",
      "Model: \"mobilenet_1.00_224\"\n",
      "_________________________________________________________________\n",
      "Layer (type)                 Output Shape              Param #   \n",
      "=================================================================\n",
      "input_1 (InputLayer)         [(None, 224, 224, 3)]     0         \n",
      "_________________________________________________________________\n",
      "conv1 (Conv2D)               (None, 112, 112, 32)      864       \n",
      "_________________________________________________________________\n",
      "conv1_bn (BatchNormalization (None, 112, 112, 32)      128       \n",
      "_________________________________________________________________\n",
      "conv1_relu (ReLU)            (None, 112, 112, 32)      0         \n",
      "_________________________________________________________________\n",
      "conv_dw_1 (DepthwiseConv2D)  (None, 112, 112, 32)      288       \n",
      "_________________________________________________________________\n",
      "conv_dw_1_bn (BatchNormaliza (None, 112, 112, 32)      128       \n",
      "_________________________________________________________________\n",
      "conv_dw_1_relu (ReLU)        (None, 112, 112, 32)      0         \n",
      "_________________________________________________________________\n",
      "conv_pw_1 (Conv2D)           (None, 112, 112, 64)      2048      \n",
      "_________________________________________________________________\n",
      "conv_pw_1_bn (BatchNormaliza (None, 112, 112, 64)      256       \n",
      "_________________________________________________________________\n",
      "conv_pw_1_relu (ReLU)        (None, 112, 112, 64)      0         \n",
      "_________________________________________________________________\n",
      "conv_pad_2 (ZeroPadding2D)   (None, 113, 113, 64)      0         \n",
      "_________________________________________________________________\n",
      "conv_dw_2 (DepthwiseConv2D)  (None, 56, 56, 64)        576       \n",
      "_________________________________________________________________\n",
      "conv_dw_2_bn (BatchNormaliza (None, 56, 56, 64)        256       \n",
      "_________________________________________________________________\n",
      "conv_dw_2_relu (ReLU)        (None, 56, 56, 64)        0         \n",
      "_________________________________________________________________\n",
      "conv_pw_2 (Conv2D)           (None, 56, 56, 128)       8192      \n",
      "_________________________________________________________________\n",
      "conv_pw_2_bn (BatchNormaliza (None, 56, 56, 128)       512       \n",
      "_________________________________________________________________\n",
      "conv_pw_2_relu (ReLU)        (None, 56, 56, 128)       0         \n",
      "_________________________________________________________________\n",
      "conv_dw_3 (DepthwiseConv2D)  (None, 56, 56, 128)       1152      \n",
      "_________________________________________________________________\n",
      "conv_dw_3_bn (BatchNormaliza (None, 56, 56, 128)       512       \n",
      "_________________________________________________________________\n",
      "conv_dw_3_relu (ReLU)        (None, 56, 56, 128)       0         \n",
      "_________________________________________________________________\n",
      "conv_pw_3 (Conv2D)           (None, 56, 56, 128)       16384     \n",
      "_________________________________________________________________\n",
      "conv_pw_3_bn (BatchNormaliza (None, 56, 56, 128)       512       \n",
      "_________________________________________________________________\n",
      "conv_pw_3_relu (ReLU)        (None, 56, 56, 128)       0         \n",
      "_________________________________________________________________\n",
      "conv_pad_4 (ZeroPadding2D)   (None, 57, 57, 128)       0         \n",
      "_________________________________________________________________\n",
      "conv_dw_4 (DepthwiseConv2D)  (None, 28, 28, 128)       1152      \n",
      "_________________________________________________________________\n",
      "conv_dw_4_bn (BatchNormaliza (None, 28, 28, 128)       512       \n",
      "_________________________________________________________________\n",
      "conv_dw_4_relu (ReLU)        (None, 28, 28, 128)       0         \n",
      "_________________________________________________________________\n",
      "conv_pw_4 (Conv2D)           (None, 28, 28, 256)       32768     \n",
      "_________________________________________________________________\n",
      "conv_pw_4_bn (BatchNormaliza (None, 28, 28, 256)       1024      \n",
      "_________________________________________________________________\n",
      "conv_pw_4_relu (ReLU)        (None, 28, 28, 256)       0         \n",
      "_________________________________________________________________\n",
      "conv_dw_5 (DepthwiseConv2D)  (None, 28, 28, 256)       2304      \n",
      "_________________________________________________________________\n",
      "conv_dw_5_bn (BatchNormaliza (None, 28, 28, 256)       1024      \n",
      "_________________________________________________________________\n",
      "conv_dw_5_relu (ReLU)        (None, 28, 28, 256)       0         \n",
      "_________________________________________________________________\n",
      "conv_pw_5 (Conv2D)           (None, 28, 28, 256)       65536     \n",
      "_________________________________________________________________\n",
      "conv_pw_5_bn (BatchNormaliza (None, 28, 28, 256)       1024      \n",
      "_________________________________________________________________\n",
      "conv_pw_5_relu (ReLU)        (None, 28, 28, 256)       0         \n",
      "_________________________________________________________________\n",
      "conv_pad_6 (ZeroPadding2D)   (None, 29, 29, 256)       0         \n",
      "_________________________________________________________________\n",
      "conv_dw_6 (DepthwiseConv2D)  (None, 14, 14, 256)       2304      \n",
      "_________________________________________________________________\n",
      "conv_dw_6_bn (BatchNormaliza (None, 14, 14, 256)       1024      \n",
      "_________________________________________________________________\n",
      "conv_dw_6_relu (ReLU)        (None, 14, 14, 256)       0         \n",
      "_________________________________________________________________\n",
      "conv_pw_6 (Conv2D)           (None, 14, 14, 512)       131072    \n",
      "_________________________________________________________________\n",
      "conv_pw_6_bn (BatchNormaliza (None, 14, 14, 512)       2048      \n",
      "_________________________________________________________________\n",
      "conv_pw_6_relu (ReLU)        (None, 14, 14, 512)       0         \n",
      "_________________________________________________________________\n",
      "conv_dw_7 (DepthwiseConv2D)  (None, 14, 14, 512)       4608      \n",
      "_________________________________________________________________\n",
      "conv_dw_7_bn (BatchNormaliza (None, 14, 14, 512)       2048      \n",
      "_________________________________________________________________\n",
      "conv_dw_7_relu (ReLU)        (None, 14, 14, 512)       0         \n",
      "_________________________________________________________________\n",
      "conv_pw_7 (Conv2D)           (None, 14, 14, 512)       262144    \n",
      "_________________________________________________________________\n",
      "conv_pw_7_bn (BatchNormaliza (None, 14, 14, 512)       2048      \n",
      "_________________________________________________________________\n",
      "conv_pw_7_relu (ReLU)        (None, 14, 14, 512)       0         \n",
      "_________________________________________________________________\n",
      "conv_dw_8 (DepthwiseConv2D)  (None, 14, 14, 512)       4608      \n",
      "_________________________________________________________________\n",
      "conv_dw_8_bn (BatchNormaliza (None, 14, 14, 512)       2048      \n",
      "_________________________________________________________________\n",
      "conv_dw_8_relu (ReLU)        (None, 14, 14, 512)       0         \n",
      "_________________________________________________________________\n",
      "conv_pw_8 (Conv2D)           (None, 14, 14, 512)       262144    \n",
      "_________________________________________________________________\n",
      "conv_pw_8_bn (BatchNormaliza (None, 14, 14, 512)       2048      \n",
      "_________________________________________________________________\n",
      "conv_pw_8_relu (ReLU)        (None, 14, 14, 512)       0         \n",
      "_________________________________________________________________\n",
      "conv_dw_9 (DepthwiseConv2D)  (None, 14, 14, 512)       4608      \n",
      "_________________________________________________________________\n",
      "conv_dw_9_bn (BatchNormaliza (None, 14, 14, 512)       2048      \n",
      "_________________________________________________________________\n",
      "conv_dw_9_relu (ReLU)        (None, 14, 14, 512)       0         \n",
      "_________________________________________________________________\n",
      "conv_pw_9 (Conv2D)           (None, 14, 14, 512)       262144    \n",
      "_________________________________________________________________\n",
      "conv_pw_9_bn (BatchNormaliza (None, 14, 14, 512)       2048      \n",
      "_________________________________________________________________\n",
      "conv_pw_9_relu (ReLU)        (None, 14, 14, 512)       0         \n",
      "_________________________________________________________________\n",
      "conv_dw_10 (DepthwiseConv2D) (None, 14, 14, 512)       4608      \n",
      "_________________________________________________________________\n",
      "conv_dw_10_bn (BatchNormaliz (None, 14, 14, 512)       2048      \n",
      "_________________________________________________________________\n",
      "conv_dw_10_relu (ReLU)       (None, 14, 14, 512)       0         \n",
      "_________________________________________________________________\n",
      "conv_pw_10 (Conv2D)          (None, 14, 14, 512)       262144    \n",
      "_________________________________________________________________\n",
      "conv_pw_10_bn (BatchNormaliz (None, 14, 14, 512)       2048      \n",
      "_________________________________________________________________\n",
      "conv_pw_10_relu (ReLU)       (None, 14, 14, 512)       0         \n",
      "_________________________________________________________________\n",
      "conv_dw_11 (DepthwiseConv2D) (None, 14, 14, 512)       4608      \n",
      "_________________________________________________________________\n",
      "conv_dw_11_bn (BatchNormaliz (None, 14, 14, 512)       2048      \n",
      "_________________________________________________________________\n",
      "conv_dw_11_relu (ReLU)       (None, 14, 14, 512)       0         \n",
      "_________________________________________________________________\n",
      "conv_pw_11 (Conv2D)          (None, 14, 14, 512)       262144    \n",
      "_________________________________________________________________\n",
      "conv_pw_11_bn (BatchNormaliz (None, 14, 14, 512)       2048      \n",
      "_________________________________________________________________\n",
      "conv_pw_11_relu (ReLU)       (None, 14, 14, 512)       0         \n",
      "_________________________________________________________________\n",
      "conv_pad_12 (ZeroPadding2D)  (None, 15, 15, 512)       0         \n",
      "_________________________________________________________________\n",
      "conv_dw_12 (DepthwiseConv2D) (None, 7, 7, 512)         4608      \n",
      "_________________________________________________________________\n",
      "conv_dw_12_bn (BatchNormaliz (None, 7, 7, 512)         2048      \n",
      "_________________________________________________________________\n",
      "conv_dw_12_relu (ReLU)       (None, 7, 7, 512)         0         \n",
      "_________________________________________________________________\n",
      "conv_pw_12 (Conv2D)          (None, 7, 7, 1024)        524288    \n",
      "_________________________________________________________________\n",
      "conv_pw_12_bn (BatchNormaliz (None, 7, 7, 1024)        4096      \n",
      "_________________________________________________________________\n",
      "conv_pw_12_relu (ReLU)       (None, 7, 7, 1024)        0         \n",
      "_________________________________________________________________\n",
      "conv_dw_13 (DepthwiseConv2D) (None, 7, 7, 1024)        9216      \n",
      "_________________________________________________________________\n",
      "conv_dw_13_bn (BatchNormaliz (None, 7, 7, 1024)        4096      \n",
      "_________________________________________________________________\n",
      "conv_dw_13_relu (ReLU)       (None, 7, 7, 1024)        0         \n",
      "_________________________________________________________________\n",
      "conv_pw_13 (Conv2D)          (None, 7, 7, 1024)        1048576   \n",
      "_________________________________________________________________\n",
      "conv_pw_13_bn (BatchNormaliz (None, 7, 7, 1024)        4096      \n",
      "_________________________________________________________________\n",
      "conv_pw_13_relu (ReLU)       (None, 7, 7, 1024)        0         \n",
      "_________________________________________________________________\n",
      "global_average_pooling2d (Gl (None, 1024)              0         \n",
      "=================================================================\n",
      "Total params: 3,228,864\n",
      "Trainable params: 3,206,976\n",
      "Non-trainable params: 21,888\n",
      "_________________________________________________________________\n"
     ]
    }
   ],
   "source": [
    "base_model = mobilenet.MobileNet(input_shape = (224,224,3),\n",
    "                        weights = 'imagenet',\n",
    "                        include_top = False,\n",
    "                        pooling = 'avg')\n",
    "base_model.summary()"
   ]
  },
  {
   "cell_type": "markdown",
   "metadata": {
    "id": "ftilDVosaDYZ"
   },
   "source": [
    "La rete viene tagliata al layer **conv_dw_10**, in tal modo le features che vengono estratte sono più **generali** e possono essere usate per la classificazione degli spettrogrammi. Questa operazione è molto importante poiché la rete è inizialmente addestrata su un task **completamente diverso** (quello di *imagenet*), quindi i pesi dati alle variabili non sarebbero compatibili.\n"
   ]
  },
  {
   "cell_type": "code",
   "execution_count": 7,
   "metadata": {
    "colab": {
     "base_uri": "https://localhost:8080/"
    },
    "id": "JT6eJLSRZ7h7",
    "outputId": "d245726c-7bb8-4b90-89f2-306e406fdb17"
   },
   "outputs": [
    {
     "name": "stdout",
     "output_type": "stream",
     "text": [
      "Model: \"model\"\n",
      "_________________________________________________________________\n",
      "Layer (type)                 Output Shape              Param #   \n",
      "=================================================================\n",
      "input_1 (InputLayer)         [(None, 224, 224, 3)]     0         \n",
      "_________________________________________________________________\n",
      "conv1 (Conv2D)               (None, 112, 112, 32)      864       \n",
      "_________________________________________________________________\n",
      "conv1_bn (BatchNormalization (None, 112, 112, 32)      128       \n",
      "_________________________________________________________________\n",
      "conv1_relu (ReLU)            (None, 112, 112, 32)      0         \n",
      "_________________________________________________________________\n",
      "conv_dw_1 (DepthwiseConv2D)  (None, 112, 112, 32)      288       \n",
      "_________________________________________________________________\n",
      "conv_dw_1_bn (BatchNormaliza (None, 112, 112, 32)      128       \n",
      "_________________________________________________________________\n",
      "conv_dw_1_relu (ReLU)        (None, 112, 112, 32)      0         \n",
      "_________________________________________________________________\n",
      "conv_pw_1 (Conv2D)           (None, 112, 112, 64)      2048      \n",
      "_________________________________________________________________\n",
      "conv_pw_1_bn (BatchNormaliza (None, 112, 112, 64)      256       \n",
      "_________________________________________________________________\n",
      "conv_pw_1_relu (ReLU)        (None, 112, 112, 64)      0         \n",
      "_________________________________________________________________\n",
      "conv_pad_2 (ZeroPadding2D)   (None, 113, 113, 64)      0         \n",
      "_________________________________________________________________\n",
      "conv_dw_2 (DepthwiseConv2D)  (None, 56, 56, 64)        576       \n",
      "_________________________________________________________________\n",
      "conv_dw_2_bn (BatchNormaliza (None, 56, 56, 64)        256       \n",
      "_________________________________________________________________\n",
      "conv_dw_2_relu (ReLU)        (None, 56, 56, 64)        0         \n",
      "_________________________________________________________________\n",
      "conv_pw_2 (Conv2D)           (None, 56, 56, 128)       8192      \n",
      "_________________________________________________________________\n",
      "conv_pw_2_bn (BatchNormaliza (None, 56, 56, 128)       512       \n",
      "_________________________________________________________________\n",
      "conv_pw_2_relu (ReLU)        (None, 56, 56, 128)       0         \n",
      "_________________________________________________________________\n",
      "conv_dw_3 (DepthwiseConv2D)  (None, 56, 56, 128)       1152      \n",
      "_________________________________________________________________\n",
      "conv_dw_3_bn (BatchNormaliza (None, 56, 56, 128)       512       \n",
      "_________________________________________________________________\n",
      "conv_dw_3_relu (ReLU)        (None, 56, 56, 128)       0         \n",
      "_________________________________________________________________\n",
      "conv_pw_3 (Conv2D)           (None, 56, 56, 128)       16384     \n",
      "_________________________________________________________________\n",
      "conv_pw_3_bn (BatchNormaliza (None, 56, 56, 128)       512       \n",
      "_________________________________________________________________\n",
      "conv_pw_3_relu (ReLU)        (None, 56, 56, 128)       0         \n",
      "_________________________________________________________________\n",
      "conv_pad_4 (ZeroPadding2D)   (None, 57, 57, 128)       0         \n",
      "_________________________________________________________________\n",
      "conv_dw_4 (DepthwiseConv2D)  (None, 28, 28, 128)       1152      \n",
      "_________________________________________________________________\n",
      "conv_dw_4_bn (BatchNormaliza (None, 28, 28, 128)       512       \n",
      "_________________________________________________________________\n",
      "conv_dw_4_relu (ReLU)        (None, 28, 28, 128)       0         \n",
      "_________________________________________________________________\n",
      "conv_pw_4 (Conv2D)           (None, 28, 28, 256)       32768     \n",
      "_________________________________________________________________\n",
      "conv_pw_4_bn (BatchNormaliza (None, 28, 28, 256)       1024      \n",
      "_________________________________________________________________\n",
      "conv_pw_4_relu (ReLU)        (None, 28, 28, 256)       0         \n",
      "_________________________________________________________________\n",
      "conv_dw_5 (DepthwiseConv2D)  (None, 28, 28, 256)       2304      \n",
      "_________________________________________________________________\n",
      "conv_dw_5_bn (BatchNormaliza (None, 28, 28, 256)       1024      \n",
      "_________________________________________________________________\n",
      "conv_dw_5_relu (ReLU)        (None, 28, 28, 256)       0         \n",
      "_________________________________________________________________\n",
      "conv_pw_5 (Conv2D)           (None, 28, 28, 256)       65536     \n",
      "_________________________________________________________________\n",
      "conv_pw_5_bn (BatchNormaliza (None, 28, 28, 256)       1024      \n",
      "_________________________________________________________________\n",
      "conv_pw_5_relu (ReLU)        (None, 28, 28, 256)       0         \n",
      "_________________________________________________________________\n",
      "conv_pad_6 (ZeroPadding2D)   (None, 29, 29, 256)       0         \n",
      "_________________________________________________________________\n",
      "conv_dw_6 (DepthwiseConv2D)  (None, 14, 14, 256)       2304      \n",
      "_________________________________________________________________\n",
      "conv_dw_6_bn (BatchNormaliza (None, 14, 14, 256)       1024      \n",
      "_________________________________________________________________\n",
      "conv_dw_6_relu (ReLU)        (None, 14, 14, 256)       0         \n",
      "_________________________________________________________________\n",
      "conv_pw_6 (Conv2D)           (None, 14, 14, 512)       131072    \n",
      "_________________________________________________________________\n",
      "conv_pw_6_bn (BatchNormaliza (None, 14, 14, 512)       2048      \n",
      "_________________________________________________________________\n",
      "conv_pw_6_relu (ReLU)        (None, 14, 14, 512)       0         \n",
      "_________________________________________________________________\n",
      "conv_dw_7 (DepthwiseConv2D)  (None, 14, 14, 512)       4608      \n",
      "_________________________________________________________________\n",
      "conv_dw_7_bn (BatchNormaliza (None, 14, 14, 512)       2048      \n",
      "_________________________________________________________________\n",
      "conv_dw_7_relu (ReLU)        (None, 14, 14, 512)       0         \n",
      "_________________________________________________________________\n",
      "conv_pw_7 (Conv2D)           (None, 14, 14, 512)       262144    \n",
      "_________________________________________________________________\n",
      "conv_pw_7_bn (BatchNormaliza (None, 14, 14, 512)       2048      \n",
      "_________________________________________________________________\n",
      "conv_pw_7_relu (ReLU)        (None, 14, 14, 512)       0         \n",
      "_________________________________________________________________\n",
      "conv_dw_8 (DepthwiseConv2D)  (None, 14, 14, 512)       4608      \n",
      "_________________________________________________________________\n",
      "conv_dw_8_bn (BatchNormaliza (None, 14, 14, 512)       2048      \n",
      "_________________________________________________________________\n",
      "conv_dw_8_relu (ReLU)        (None, 14, 14, 512)       0         \n",
      "_________________________________________________________________\n",
      "conv_pw_8 (Conv2D)           (None, 14, 14, 512)       262144    \n",
      "_________________________________________________________________\n",
      "conv_pw_8_bn (BatchNormaliza (None, 14, 14, 512)       2048      \n",
      "_________________________________________________________________\n",
      "conv_pw_8_relu (ReLU)        (None, 14, 14, 512)       0         \n",
      "_________________________________________________________________\n",
      "conv_dw_9 (DepthwiseConv2D)  (None, 14, 14, 512)       4608      \n",
      "_________________________________________________________________\n",
      "conv_dw_9_bn (BatchNormaliza (None, 14, 14, 512)       2048      \n",
      "_________________________________________________________________\n",
      "conv_dw_9_relu (ReLU)        (None, 14, 14, 512)       0         \n",
      "_________________________________________________________________\n",
      "conv_pw_9 (Conv2D)           (None, 14, 14, 512)       262144    \n",
      "_________________________________________________________________\n",
      "conv_pw_9_bn (BatchNormaliza (None, 14, 14, 512)       2048      \n",
      "_________________________________________________________________\n",
      "conv_pw_9_relu (ReLU)        (None, 14, 14, 512)       0         \n",
      "_________________________________________________________________\n",
      "conv_dw_10 (DepthwiseConv2D) (None, 14, 14, 512)       4608      \n",
      "=================================================================\n",
      "Total params: 1,090,752\n",
      "Trainable params: 1,080,128\n",
      "Non-trainable params: 10,624\n",
      "_________________________________________________________________\n"
     ]
    }
   ],
   "source": [
    "model_1 = keras.Model(inputs=base_model.input, outputs=base_model.get_layer('conv_dw_10').output)\n",
    "model_1.summary()"
   ]
  },
  {
   "cell_type": "markdown",
   "metadata": {
    "id": "oE5t2SrrXmLv"
   },
   "source": [
    "La fase che segue permette di formattare correttamente i dati di train, validation e test, così che possano essere usati dal classificatore classico."
   ]
  },
  {
   "cell_type": "code",
   "execution_count": 8,
   "metadata": {
    "id": "pYBdDGmpNsDX"
   },
   "outputs": [],
   "source": [
    "model_1_features = model_1.predict(x_train)\n",
    "model_1_features = model_1_features.reshape((model_1_features.shape[0], \n",
    "                                             model_1_features.shape[1]*model_1_features.shape[2]*model_1_features.shape[3]))"
   ]
  },
  {
   "cell_type": "markdown",
   "metadata": {
    "id": "YvmyD6mPX0Jl"
   },
   "source": [
    "Per la tipologia del problema si è deciso di usare un **classificatore logistico**. Questa scelta è dettata da motivazioni empiriche, infatti si sono notate le performance migliori."
   ]
  },
  {
   "cell_type": "code",
   "execution_count": 9,
   "metadata": {
    "colab": {
     "base_uri": "https://localhost:8080/"
    },
    "id": "inWnA7llZ77F",
    "outputId": "0cb75631-8901-49e7-ca91-a6535c91ef40"
   },
   "outputs": [
    {
     "name": "stderr",
     "output_type": "stream",
     "text": [
      "[Parallel(n_jobs=1)]: Using backend SequentialBackend with 1 concurrent workers.\n",
      "/usr/local/lib/python3.6/dist-packages/sklearn/linear_model/_logistic.py:940: ConvergenceWarning: lbfgs failed to converge (status=1):\n",
      "STOP: TOTAL NO. of ITERATIONS REACHED LIMIT.\n",
      "\n",
      "Increase the number of iterations (max_iter) or scale the data as shown in:\n",
      "    https://scikit-learn.org/stable/modules/preprocessing.html\n",
      "Please also refer to the documentation for alternative solver options:\n",
      "    https://scikit-learn.org/stable/modules/linear_model.html#logistic-regression\n",
      "  extra_warning_msg=_LOGISTIC_SOLVER_CONVERGENCE_MSG)\n",
      "[Parallel(n_jobs=1)]: Done   1 out of   1 | elapsed:    4.4s finished\n"
     ]
    },
    {
     "data": {
      "text/plain": [
       "LogisticRegression(C=1.0, class_weight=None, dual=False, fit_intercept=True,\n",
       "                   intercept_scaling=1, l1_ratio=None, max_iter=30,\n",
       "                   multi_class='auto', n_jobs=None, penalty='l2',\n",
       "                   random_state=None, solver='lbfgs', tol=0.0001, verbose=1,\n",
       "                   warm_start=False)"
      ]
     },
     "execution_count": 9,
     "metadata": {
      "tags": []
     },
     "output_type": "execute_result"
    }
   ],
   "source": [
    "lr_1 = LogisticRegression(solver=\"lbfgs\", multi_class=\"auto\", max_iter=30, penalty ='l2', verbose = 1)\n",
    "lr_1.fit(model_1_features, tf.argmax(y_train, axis=1))"
   ]
  },
  {
   "cell_type": "code",
   "execution_count": 10,
   "metadata": {
    "id": "WkrihKCNZ7_Y"
   },
   "outputs": [],
   "source": [
    "y_pred_train_1 = lr_1.predict(model_1_features)"
   ]
  },
  {
   "cell_type": "markdown",
   "metadata": {
    "id": "JsZUD3RveLh8"
   },
   "source": [
    "Si visualizzano i risultati sul train set:"
   ]
  },
  {
   "cell_type": "code",
   "execution_count": 11,
   "metadata": {
    "colab": {
     "base_uri": "https://localhost:8080/"
    },
    "id": "PoxjU1nXZ8D1",
    "outputId": "ce477ca3-e4f7-4367-cba0-f3643834af77"
   },
   "outputs": [
    {
     "name": "stdout",
     "output_type": "stream",
     "text": [
      "              precision    recall  f1-score   support\n",
      "\n",
      "           0       1.00      1.00      1.00       320\n",
      "           1       1.00      1.00      1.00       320\n",
      "\n",
      "    accuracy                           1.00       640\n",
      "   macro avg       1.00      1.00      1.00       640\n",
      "weighted avg       1.00      1.00      1.00       640\n",
      "\n"
     ]
    }
   ],
   "source": [
    "classification_report_train_1 = classification_report(np.argmax(y_train, axis=1),y_pred_train_1)\n",
    "print(classification_report_train_1)\n",
    "classification_report_train_1= classification_report(np.argmax(y_train, axis=1),y_pred_train_1, output_dict=True)\n",
    "classification_report_train_1 = pd.DataFrame(classification_report_train_1).transpose()"
   ]
  },
  {
   "cell_type": "markdown",
   "metadata": {
    "id": "RObK1n9sYEZh"
   },
   "source": [
    "Ovviamente l'accuratezza sul train set è massima in quanto è l'insieme su cui il classificatore è stato allenato. Si effettuano le stesse procedure per quanto riguarda il validation set:"
   ]
  },
  {
   "cell_type": "code",
   "execution_count": 12,
   "metadata": {
    "id": "ZIuXWb5VZ8Im"
   },
   "outputs": [],
   "source": [
    "model_1_validation_features = model_1.predict(x_validation)\n",
    "model_1_validation_features = model_1_validation_features.reshape(model_1_validation_features.shape[0],\n",
    "                                                                  model_1_validation_features.shape[1]*model_1_validation_features.shape[2]*model_1_validation_features.shape[3])"
   ]
  },
  {
   "cell_type": "code",
   "execution_count": 13,
   "metadata": {
    "id": "FckNAkvWaaA6"
   },
   "outputs": [],
   "source": [
    "y_pred_validation_1 = lr_1.predict(model_1_validation_features)"
   ]
  },
  {
   "cell_type": "code",
   "execution_count": 14,
   "metadata": {
    "colab": {
     "base_uri": "https://localhost:8080/"
    },
    "id": "6Cmig6ZoaaEm",
    "outputId": "4ba7a0fa-0be0-44e8-e766-a83b4e8c2858"
   },
   "outputs": [
    {
     "name": "stdout",
     "output_type": "stream",
     "text": [
      "              precision    recall  f1-score   support\n",
      "\n",
      "           0       1.00      0.99      1.00       120\n",
      "           1       0.99      1.00      1.00       120\n",
      "\n",
      "    accuracy                           1.00       240\n",
      "   macro avg       1.00      1.00      1.00       240\n",
      "weighted avg       1.00      1.00      1.00       240\n",
      "\n"
     ]
    }
   ],
   "source": [
    "classification_report_validation_1= classification_report(np.argmax(y_validation, axis=1),y_pred_validation_1)\n",
    "print(classification_report_validation_1)\n",
    "classification_report_validation_1= classification_report(np.argmax(y_validation, axis=1),y_pred_validation_1, output_dict=True)\n",
    "classification_report_validation_1 = pd.DataFrame(classification_report_validation_1).transpose()"
   ]
  },
  {
   "cell_type": "markdown",
   "metadata": {
    "id": "QVDoJwHDe3Hl"
   },
   "source": [
    "Sul validation set le performance sono praticamente perfette, il classificatore sembra correttamente identificare tutti gli audio in maniera corretta. Si procede ora sul test set:"
   ]
  },
  {
   "cell_type": "code",
   "execution_count": 15,
   "metadata": {
    "id": "vnRDgnixaaH8"
   },
   "outputs": [],
   "source": [
    "model_1_test_features = model_1.predict(x_test)\n",
    "model_1_test_features = model_1_test_features.reshape(model_1_test_features.shape[0],\n",
    "                                                      model_1_test_features.shape[1]*model_1_test_features.shape[2]*model_1_test_features.shape[3])"
   ]
  },
  {
   "cell_type": "code",
   "execution_count": 16,
   "metadata": {
    "id": "UE47U7kJaaLT"
   },
   "outputs": [],
   "source": [
    "y_pred_test_1 = lr_1.predict(model_1_test_features)"
   ]
  },
  {
   "cell_type": "code",
   "execution_count": 17,
   "metadata": {
    "colab": {
     "base_uri": "https://localhost:8080/"
    },
    "id": "T4Q--zLNaaO1",
    "outputId": "98f4abf9-c3ce-4665-ba78-f01e0bae970a"
   },
   "outputs": [
    {
     "name": "stdout",
     "output_type": "stream",
     "text": [
      "              precision    recall  f1-score   support\n",
      "\n",
      "           0       0.98      1.00      0.99        40\n",
      "           1       1.00      0.97      0.99        40\n",
      "\n",
      "    accuracy                           0.99        80\n",
      "   macro avg       0.99      0.99      0.99        80\n",
      "weighted avg       0.99      0.99      0.99        80\n",
      "\n"
     ]
    }
   ],
   "source": [
    "classification_report_test_1= classification_report(np.argmax(y_test, axis=1),y_pred_test_1)\n",
    "print(classification_report_test_1)\n",
    "classification_report_test_1= classification_report(np.argmax(y_test, axis=1),y_pred_test_1, output_dict=True)\n",
    "classification_report_test_1 = pd.DataFrame(classification_report_test_1).transpose()"
   ]
  },
  {
   "cell_type": "code",
   "execution_count": 18,
   "metadata": {
    "colab": {
     "base_uri": "https://localhost:8080/",
     "height": 417
    },
    "id": "Q-aFCd3VsDb1",
    "outputId": "6a749c35-c1f0-467b-beb0-34747dd48f2d"
   },
   "outputs": [
    {
     "data": {
      "image/png": "[encoded data removed]",
      "text/plain": [
       "<Figure size 432x432 with 2 Axes>"
      ]
     },
     "metadata": {
      "needs_background": "light",
      "tags": []
     },
     "output_type": "display_data"
    }
   ],
   "source": [
    "cm = confusion_matrix(test_generator.classes, y_pred_test_1)\n",
    "fig = plt.figure(figsize = (6,6))\n",
    "ax = plt.subplot()\n",
    "sns.heatmap(cm, annot=True, annot_kws={\"size\": 16},\n",
    "           linewidths=.1, cmap=\"YlGnBu\")\n",
    "plt.xlabel(\"True Class\", size = 15)\n",
    "plt.ylabel(\"Predicted Class\", size = 15)\n",
    "plt.xticks(size = 12)\n",
    "plt.yticks(size = 12)\n",
    "ax.yaxis.set_ticklabels(['Letto', 'Improvvisato']) \n",
    "ax.xaxis.set_ticklabels(['Letto', 'Improvvisato']) \n",
    "\n",
    "plt.title(\"Confusion matrix\", size = 20)\n",
    "fig.savefig(\"confusion_matrix_mobile_tagliata.png\", dpi = 200)"
   ]
  },
  {
   "cell_type": "markdown",
   "metadata": {
    "id": "KmwQYVnlYSm3"
   },
   "source": [
    "Come possiamo notare dal classification report le performance sono davvero ottime per il task, confermando i risultati ottenuti sul validation set. Alla fine del notebook verrà comunque lasciato un esempio di prova per poter vedere in azione la rete. Si procede ora a salvare il modello per poterlo riutilizzare in una demo:"
   ]
  },
  {
   "cell_type": "code",
   "execution_count": 19,
   "metadata": {
    "colab": {
     "base_uri": "https://localhost:8080/"
    },
    "id": "2VUz-Tr0d86D",
    "outputId": "5b431994-2547-45f5-870b-59561d39956c"
   },
   "outputs": [
    {
     "name": "stdout",
     "output_type": "stream",
     "text": [
      "INFO:tensorflow:Assets written to: gdrive/MyDrive/modello_audio/assets\n"
     ]
    }
   ],
   "source": [
    "model_1.save('gdrive/MyDrive/modello_audio')"
   ]
  },
  {
   "cell_type": "markdown",
   "metadata": {
    "id": "DqiGFvhrmdUX"
   },
   "source": [
    "Viene salvato anche il classificatore logistico, altrimenti la rete salvata risulterebbe inutilizzabile:"
   ]
  },
  {
   "cell_type": "code",
   "execution_count": 20,
   "metadata": {
    "id": "PJ2yRRw4mj_Q"
   },
   "outputs": [],
   "source": [
    "pickle.dump(lr_1, open(\"gdrive/MyDrive/logistic_audio.sav\", 'wb'))"
   ]
  },
  {
   "cell_type": "markdown",
   "metadata": {
    "id": "RQhyZPge0PR3"
   },
   "source": [
    "## MobileNet intera\n",
    "\n",
    "Nella seguente sezione la rete, differentemente dalla parte precedente, **non viene tagliata**, vengono solamente aggiunti i layer finali per ottenere l'output desiderato.\n",
    "\n",
    "In questo caso i generator sono definiti sempre con le stesse operazioni di preprocessing della mobilenet, tuttavia la *batch size* viene diminuita, in quanto non sarà necessario ottenere i vettori *x* e *y*, e sarà possibile passare al *fit* direttamnte i generator."
   ]
  },
  {
   "cell_type": "code",
   "execution_count": 21,
   "metadata": {
    "colab": {
     "base_uri": "https://localhost:8080/"
    },
    "id": "GgW6eFHYpDf1",
    "outputId": "6cb73865-7372-47e7-f86f-ce1af84bf78d"
   },
   "outputs": [
    {
     "name": "stdout",
     "output_type": "stream",
     "text": [
      "Found 640 images belonging to 2 classes.\n"
     ]
    }
   ],
   "source": [
    "train_processing = keras.preprocessing.image.ImageDataGenerator(preprocessing_function = mobilenet.preprocess_input)\n",
    "\n",
    "train_generator = train_processing.flow_from_directory(\"gdrive/MyDrive/DigitalSignal/spectrograms_model/train\",\n",
    "                                    target_size = (224, 224),\n",
    "                                    color_mode = \"rgb\",\n",
    "                                    batch_size = 32,\n",
    "                                    class_mode = \"categorical\",\n",
    "                                    shuffle = False,\n",
    "                                    seed = 1 )"
   ]
  },
  {
   "cell_type": "code",
   "execution_count": 22,
   "metadata": {
    "colab": {
     "base_uri": "https://localhost:8080/"
    },
    "id": "KeSEggjnpDRt",
    "outputId": "92c85e7b-a816-44bc-d2ce-81176c7201d3"
   },
   "outputs": [
    {
     "name": "stdout",
     "output_type": "stream",
     "text": [
      "Found 240 images belonging to 2 classes.\n"
     ]
    }
   ],
   "source": [
    "validation_processing = keras.preprocessing.image.ImageDataGenerator(preprocessing_function= mobilenet.preprocess_input)\n",
    "\n",
    "validation_generator = validation_processing.flow_from_directory(\"gdrive/MyDrive/DigitalSignal/spectrograms_model/val\",\n",
    "                                    target_size = (224, 224),\n",
    "                                    color_mode = \"rgb\",\n",
    "                                    batch_size = 32,\n",
    "                                    class_mode = \"categorical\",\n",
    "                                    shuffle = False,\n",
    "                                    seed = 1)"
   ]
  },
  {
   "cell_type": "code",
   "execution_count": 23,
   "metadata": {
    "colab": {
     "base_uri": "https://localhost:8080/"
    },
    "id": "SGpA5fsLpC-8",
    "outputId": "df42beb4-d2a1-4ab2-f778-b3495e3f87c6"
   },
   "outputs": [
    {
     "name": "stdout",
     "output_type": "stream",
     "text": [
      "Found 80 images belonging to 2 classes.\n"
     ]
    }
   ],
   "source": [
    "test_processing = keras.preprocessing.image.ImageDataGenerator(preprocessing_function= mobilenet.preprocess_input)\n",
    "\n",
    "test_generator = test_processing.flow_from_directory(\"gdrive/MyDrive/DigitalSignal/spectrograms_model/test\",\n",
    "                                    target_size = (224, 224),\n",
    "                                    color_mode = \"rgb\",\n",
    "                                    batch_size = 32,\n",
    "                                    class_mode = \"categorical\",\n",
    "                                    shuffle = False,\n",
    "                                    seed = 1)"
   ]
  },
  {
   "cell_type": "markdown",
   "metadata": {
    "id": "WLeuA2Owf6sk"
   },
   "source": [
    "Di seguito è possibile verificare che sono stati aggiunti due layer, entrambi **dense**, il primo con funzione di attivazione **RELU** e il secondo con **sigmoid**. Sono state scelte le due funzioni di attivazione poiché considerate adatte al task di **classificazione binaria**."
   ]
  },
  {
   "cell_type": "code",
   "execution_count": 24,
   "metadata": {
    "id": "3u5uZAW30A-A"
   },
   "outputs": [],
   "source": [
    "base_net = mobilenet.MobileNet(input_shape = (224,224,3),\n",
    "                        weights = 'imagenet',\n",
    "                        include_top = False,\n",
    "                        pooling = 'avg')\n",
    "\n",
    "x = base_net.output\n",
    "x = keras.layers.Dense(64, activation = \"relu\") (x)\n",
    "pred = keras.layers.Dense(2, activation = 'sigmoid') (x)"
   ]
  },
  {
   "cell_type": "code",
   "execution_count": 25,
   "metadata": {
    "id": "dR4HomGL0ba7"
   },
   "outputs": [],
   "source": [
    "net2 = keras.Model(inputs = base_net.input, outputs = pred)"
   ]
  },
  {
   "cell_type": "code",
   "execution_count": 26,
   "metadata": {
    "id": "TQINmg6N3hhc"
   },
   "outputs": [],
   "source": [
    "net2.compile(loss = keras.losses.categorical_crossentropy,\n",
    "           optimizer = keras.optimizers.Adam(),\n",
    "           metrics = ['accuracy'])"
   ]
  },
  {
   "cell_type": "markdown",
   "metadata": {
    "id": "OprDSzgFgg7E"
   },
   "source": [
    "Si procede all'**addestramento** per un totale di 30 epoche."
   ]
  },
  {
   "cell_type": "code",
   "execution_count": 27,
   "metadata": {
    "colab": {
     "base_uri": "https://localhost:8080/"
    },
    "id": "j51KVNQ33haP",
    "outputId": "35c0455e-9a11-4099-aebf-b010fae91123"
   },
   "outputs": [
    {
     "name": "stdout",
     "output_type": "stream",
     "text": [
      "Epoch 1/30\n",
      "20/20 [==============================] - 9s 308ms/step - loss: 1.6631 - accuracy: 0.2644 - val_loss: 1.0228 - val_accuracy: 0.5000\n",
      "Epoch 2/30\n",
      "20/20 [==============================] - 5s 269ms/step - loss: 0.7837 - accuracy: 0.5055 - val_loss: 1.0099 - val_accuracy: 0.5000\n",
      "Epoch 3/30\n",
      "20/20 [==============================] - 5s 269ms/step - loss: 0.6267 - accuracy: 0.6993 - val_loss: 1.0064 - val_accuracy: 0.4417\n",
      "Epoch 4/30\n",
      "20/20 [==============================] - 5s 266ms/step - loss: 0.5389 - accuracy: 0.7218 - val_loss: 1.4351 - val_accuracy: 0.4375\n",
      "Epoch 5/30\n",
      "20/20 [==============================] - 5s 271ms/step - loss: 0.4335 - accuracy: 0.7883 - val_loss: 2.1360 - val_accuracy: 0.2083\n",
      "Epoch 6/30\n",
      "20/20 [==============================] - 5s 271ms/step - loss: 0.2608 - accuracy: 0.9017 - val_loss: 1.6722 - val_accuracy: 0.5042\n",
      "Epoch 7/30\n",
      "20/20 [==============================] - 5s 269ms/step - loss: 0.2276 - accuracy: 0.9222 - val_loss: 1.8584 - val_accuracy: 0.3167\n",
      "Epoch 8/30\n",
      "20/20 [==============================] - 5s 268ms/step - loss: 0.0536 - accuracy: 1.0000 - val_loss: 1.5658 - val_accuracy: 0.3083\n",
      "Epoch 9/30\n",
      "20/20 [==============================] - 5s 265ms/step - loss: 0.0098 - accuracy: 1.0000 - val_loss: 1.3397 - val_accuracy: 0.3542\n",
      "Epoch 10/30\n",
      "20/20 [==============================] - 6s 274ms/step - loss: 0.0067 - accuracy: 1.0000 - val_loss: 1.1253 - val_accuracy: 0.4625\n",
      "Epoch 11/30\n",
      "20/20 [==============================] - 5s 268ms/step - loss: 0.0039 - accuracy: 1.0000 - val_loss: 0.9262 - val_accuracy: 0.5417\n",
      "Epoch 12/30\n",
      "20/20 [==============================] - 5s 270ms/step - loss: 0.0031 - accuracy: 1.0000 - val_loss: 0.8527 - val_accuracy: 0.5625\n",
      "Epoch 13/30\n",
      "20/20 [==============================] - 5s 269ms/step - loss: 0.0025 - accuracy: 1.0000 - val_loss: 0.8077 - val_accuracy: 0.5625\n",
      "Epoch 14/30\n",
      "20/20 [==============================] - 5s 272ms/step - loss: 0.0020 - accuracy: 1.0000 - val_loss: 0.7902 - val_accuracy: 0.5667\n",
      "Epoch 15/30\n",
      "20/20 [==============================] - 6s 272ms/step - loss: 0.0020 - accuracy: 1.0000 - val_loss: 0.7762 - val_accuracy: 0.5708\n",
      "Epoch 16/30\n",
      "20/20 [==============================] - 5s 269ms/step - loss: 0.0014 - accuracy: 1.0000 - val_loss: 0.7707 - val_accuracy: 0.5625\n",
      "Epoch 17/30\n",
      "20/20 [==============================] - 5s 267ms/step - loss: 0.0015 - accuracy: 1.0000 - val_loss: 0.7739 - val_accuracy: 0.5500\n",
      "Epoch 18/30\n",
      "20/20 [==============================] - 5s 268ms/step - loss: 0.0012 - accuracy: 1.0000 - val_loss: 0.7720 - val_accuracy: 0.5500\n",
      "Epoch 19/30\n",
      "20/20 [==============================] - 5s 271ms/step - loss: 0.0011 - accuracy: 1.0000 - val_loss: 0.7806 - val_accuracy: 0.5583\n",
      "Epoch 20/30\n",
      "20/20 [==============================] - 6s 287ms/step - loss: 9.7472e-04 - accuracy: 1.0000 - val_loss: 0.7881 - val_accuracy: 0.5542\n",
      "Epoch 21/30\n",
      "20/20 [==============================] - 6s 270ms/step - loss: 8.5498e-04 - accuracy: 1.0000 - val_loss: 0.8013 - val_accuracy: 0.5458\n",
      "Epoch 22/30\n",
      "20/20 [==============================] - 5s 267ms/step - loss: 8.0017e-04 - accuracy: 1.0000 - val_loss: 0.8100 - val_accuracy: 0.5417\n",
      "Epoch 23/30\n",
      "20/20 [==============================] - 5s 271ms/step - loss: 8.1981e-04 - accuracy: 1.0000 - val_loss: 0.8211 - val_accuracy: 0.5417\n",
      "Epoch 24/30\n",
      "20/20 [==============================] - 5s 270ms/step - loss: 7.2273e-04 - accuracy: 1.0000 - val_loss: 0.8282 - val_accuracy: 0.5417\n",
      "Epoch 25/30\n",
      "20/20 [==============================] - 5s 271ms/step - loss: 7.1684e-04 - accuracy: 1.0000 - val_loss: 0.8293 - val_accuracy: 0.5458\n",
      "Epoch 26/30\n",
      "20/20 [==============================] - 6s 272ms/step - loss: 5.8018e-04 - accuracy: 1.0000 - val_loss: 0.8342 - val_accuracy: 0.5458\n",
      "Epoch 27/30\n",
      "20/20 [==============================] - 6s 274ms/step - loss: 5.8632e-04 - accuracy: 1.0000 - val_loss: 0.8413 - val_accuracy: 0.5458\n",
      "Epoch 28/30\n",
      "20/20 [==============================] - 6s 273ms/step - loss: 5.6772e-04 - accuracy: 1.0000 - val_loss: 0.8463 - val_accuracy: 0.5542\n",
      "Epoch 29/30\n",
      "20/20 [==============================] - 6s 274ms/step - loss: 5.2915e-04 - accuracy: 1.0000 - val_loss: 0.8531 - val_accuracy: 0.5542\n",
      "Epoch 30/30\n",
      "20/20 [==============================] - 6s 276ms/step - loss: 5.1731e-04 - accuracy: 1.0000 - val_loss: 0.8627 - val_accuracy: 0.5625\n"
     ]
    }
   ],
   "source": [
    "hist2 = net2.fit(train_generator,\n",
    "       epochs = 30,\n",
    "       validation_data = validation_generator)"
   ]
  },
  {
   "cell_type": "markdown",
   "metadata": {
    "id": "Iu-RlbtPgyBo"
   },
   "source": [
    "Per meglio visualizzare le performance utilizziamo la funzione *acc_loss* che viene definita di seguito:"
   ]
  },
  {
   "cell_type": "code",
   "execution_count": 28,
   "metadata": {
    "id": "9gUP24zWYmfI"
   },
   "outputs": [],
   "source": [
    "def acc_loss(history):\n",
    "    fig = plt.figure(figsize=(14,5))\n",
    "    plt.subplot(1,2,1)\n",
    "    plt.plot(history.history['loss'], label = \"Train loss\", color = \"#416685\")\n",
    "    plt.plot(history.history['val_loss'], label=\"Validation loss\", color = \"#E88920\")\n",
    "    plt.legend(loc='upper right', fontsize = 12)\n",
    "    plt.xticks(fontsize = 12)\n",
    "    plt.yticks(fontsize = 12)\n",
    "    plt.xlabel('Epochs', size = 15)\n",
    "    plt.ylabel('Loss', size = 15) \n",
    "    \n",
    "    plt.subplot(1,2,2)\n",
    "    plt.plot(history.history['accuracy'], label = \"Train accuracy\", color = \"#416685\")\n",
    "    plt.plot(history.history['val_accuracy'], label=\"Validation accuracy\", color = \"#E88920\")\n",
    "    plt.legend(loc='upper right', fontsize = 12)\n",
    "    plt.xticks(fontsize = 12)\n",
    "    plt.yticks(fontsize = 12)\n",
    "    plt.xlabel('Epochs', size = 15)\n",
    "    plt.ylabel('Accuracy', size = 15) "
   ]
  },
  {
   "cell_type": "code",
   "execution_count": 29,
   "metadata": {
    "colab": {
     "base_uri": "https://localhost:8080/",
     "height": 342
    },
    "id": "0pOcH7VH3hS_",
    "outputId": "6b7788c9-8d3f-4132-8b6b-80847f184467",
    "scrolled": true
   },
   "outputs": [
    {
     "data": {
      "image/png": "[encoded data removed]",
      "text/plain": [
       "<Figure size 1008x360 with 2 Axes>"
      ]
     },
     "metadata": {
      "needs_background": "light",
      "tags": []
     },
     "output_type": "display_data"
    }
   ],
   "source": [
    "acc_loss(hist2)"
   ]
  },
  {
   "cell_type": "markdown",
   "metadata": {
    "id": "QtBQiH70g_EL"
   },
   "source": [
    "Dai grafici è possibile osservare che la rete non riesce a raggiungere un buon livello di accuracy, e si verifica il fenomeno di **overfitting** dei dati di train. Inoltre le performance sul validation set mostrano chiaramente il problema, in quanto sono molto incerte. Queste performance potevano essere corrette utilizzando tecniche di **regolarizzazione** più complesse, tuttavia, come già descritto nei paragrafi precedenti, la **MobileNet** è stata addestrata su un task molto diverso da quello attuale, e, viste le performance ottenute con la rete precedente, non è sembrato esistere un motivo valido. \n",
    "\n",
    "Si procede ora a valutare la rete sul test set, tenendo conto dei risultati ottenuti in precedenza:"
   ]
  },
  {
   "cell_type": "code",
   "execution_count": 30,
   "metadata": {
    "colab": {
     "base_uri": "https://localhost:8080/"
    },
    "id": "SfunpOht3hMf",
    "outputId": "cc69593b-3869-4b87-89d1-a74b0dbedae3"
   },
   "outputs": [
    {
     "name": "stdout",
     "output_type": "stream",
     "text": [
      "3/3 [==============================] - 0s 120ms/step - loss: 0.9881 - accuracy: 0.5000\n"
     ]
    }
   ],
   "source": [
    "acc2 = net2.evaluate(test_generator)"
   ]
  },
  {
   "cell_type": "markdown",
   "metadata": {
    "id": "2nYrdCEqg9yV"
   },
   "source": [
    "Come svolto fino ad adesso, si analizzano i risultati con il supporto del classification report e della matrice di confusione:"
   ]
  },
  {
   "cell_type": "code",
   "execution_count": 31,
   "metadata": {
    "id": "gp7PyMvg3hF1"
   },
   "outputs": [],
   "source": [
    "pred_2 = net2.predict(test_generator)"
   ]
  },
  {
   "cell_type": "code",
   "execution_count": 32,
   "metadata": {
    "id": "VSp0PASL3g7o"
   },
   "outputs": [],
   "source": [
    "pred_2 = np.argmax(pred_2, axis = 1)"
   ]
  },
  {
   "cell_type": "code",
   "execution_count": 33,
   "metadata": {
    "colab": {
     "base_uri": "https://localhost:8080/"
    },
    "id": "CoYuc_Cn3g2-",
    "outputId": "ff9ee096-bea7-4cd5-858e-ba04138e6d54"
   },
   "outputs": [
    {
     "name": "stdout",
     "output_type": "stream",
     "text": [
      "              precision    recall  f1-score   support\n",
      "\n",
      "           0       0.50      0.78      0.61        40\n",
      "           1       0.50      0.23      0.31        40\n",
      "\n",
      "    accuracy                           0.50        80\n",
      "   macro avg       0.50      0.50      0.46        80\n",
      "weighted avg       0.50      0.50      0.46        80\n",
      "\n"
     ]
    }
   ],
   "source": [
    "print(classification_report(test_generator.classes, pred_2))"
   ]
  },
  {
   "cell_type": "code",
   "execution_count": 34,
   "metadata": {
    "colab": {
     "base_uri": "https://localhost:8080/",
     "height": 417
    },
    "id": "_eTfV-vO3gvI",
    "outputId": "779e5856-970e-404f-dc89-d3348d28da30"
   },
   "outputs": [
    {
     "data": {
      "image/png": "[encoded data removed]",
      "text/plain": [
       "<Figure size 432x432 with 2 Axes>"
      ]
     },
     "metadata": {
      "needs_background": "light",
      "tags": []
     },
     "output_type": "display_data"
    }
   ],
   "source": [
    "cm = confusion_matrix(test_generator.classes, pred_2)\n",
    "\n",
    "fig = plt.figure(figsize = (6,6))\n",
    "ax = plt.subplot()\n",
    "sns.heatmap(cm, annot=True, annot_kws={\"size\": 16},\n",
    "           linewidths=.1, cmap=\"YlGnBu\")\n",
    "plt.xlabel(\"True Class\", size = 15)\n",
    "plt.ylabel(\"Predicted Class\", size = 15)\n",
    "plt.xticks(size = 12)\n",
    "plt.yticks(size = 12)\n",
    "ax.yaxis.set_ticklabels(['Letto', 'Improvvisato']) \n",
    "ax.xaxis.set_ticklabels(['Letto', 'Improvvisato']) \n",
    "\n",
    "plt.title(\"Confusion matrix\", size = 20)\n",
    "fig.savefig(\"confusion_matrix_mobilenet_intera.png\", dpi = 200)"
   ]
  },
  {
   "cell_type": "markdown",
   "metadata": {
    "id": "1VA8TS_Vqoey"
   },
   "source": [
    "Come ci si poteva aspettare, date le considerazioni precedenti, si ha un **peggioramento significativo** delle performance. Probabilmente l'aggiunta di un ulteriore layer denso complica la situazione invece di semplificarla, rendendo la rete totalmente inutilizzabile per questa tipologia di task."
   ]
  },
  {
   "cell_type": "markdown",
   "metadata": {
    "id": "C2WhsR6O5rOp"
   },
   "source": [
    "## CNN\n",
    "\n",
    "L'ultima rete viene definita direttamente, senza utilizzare altre reti e/o tecniche di transfer learning. Si considera molto importante provare le performance di una **rete più piccola** sul nostro task di classificazione, poiché solitamente le reti pre-addestrate hanno bisogno di **insiemi grandi** per avere i migliori risultati. Tuttavia, essendo il dataset creato manualmente, non è il caso di questo lavoro.\n",
    "\n",
    "Viene definita una rete \"standard\", costituita da **2 blocchi convoluzionali** con relativo **Pooling**, in cui alla fine è stato aggiunto un layer **Dense** con 128 neuroni. Infine viene attaccato un layer di output con una funzione di attivazione **softmax**."
   ]
  },
  {
   "cell_type": "code",
   "execution_count": 35,
   "metadata": {
    "id": "RDQ2P9-F6P5R"
   },
   "outputs": [],
   "source": [
    "from keras import layers"
   ]
  },
  {
   "cell_type": "code",
   "execution_count": 36,
   "metadata": {
    "colab": {
     "base_uri": "https://localhost:8080/"
    },
    "id": "FVZdfXkO3gqB",
    "outputId": "5b10517c-0156-4ebf-b863-9c2b6c81e5fc",
    "scrolled": true
   },
   "outputs": [
    {
     "name": "stdout",
     "output_type": "stream",
     "text": [
      "Model: \"sequential\"\n",
      "_________________________________________________________________\n",
      "Layer (type)                 Output Shape              Param #   \n",
      "=================================================================\n",
      "conv2d (Conv2D)              (None, 222, 222, 16)      448       \n",
      "_________________________________________________________________\n",
      "max_pooling2d (MaxPooling2D) (None, 111, 111, 16)      0         \n",
      "_________________________________________________________________\n",
      "conv2d_1 (Conv2D)            (None, 109, 109, 16)      2320      \n",
      "_________________________________________________________________\n",
      "max_pooling2d_1 (MaxPooling2 (None, 54, 54, 16)        0         \n",
      "_________________________________________________________________\n",
      "flatten (Flatten)            (None, 46656)             0         \n",
      "_________________________________________________________________\n",
      "dense_2 (Dense)              (None, 128)               5972096   \n",
      "_________________________________________________________________\n",
      "dropout (Dropout)            (None, 128)               0         \n",
      "_________________________________________________________________\n",
      "dense_3 (Dense)              (None, 2)                 258       \n",
      "=================================================================\n",
      "Total params: 5,975,122\n",
      "Trainable params: 5,975,122\n",
      "Non-trainable params: 0\n",
      "_________________________________________________________________\n"
     ]
    }
   ],
   "source": [
    "model = keras.Sequential(\n",
    "    [\n",
    "     keras.Input(shape = (224,224,3)),\n",
    "     layers.Conv2D(16, kernel_size = (3,3), activation = 'relu'),\n",
    "     layers.MaxPooling2D(pool_size = (2,2)),\n",
    "     layers.Conv2D(16, kernel_size = (3,3), activation = 'relu'),\n",
    "     layers.MaxPooling2D(pool_size = (2,2)),\n",
    "     layers.Flatten(),\n",
    "     layers.Dense(128, activation = \"relu\"),\n",
    "     layers.Dropout(0.5),\n",
    "     layers.Dense(2, activation = 'softmax')\n",
    "    ]\n",
    ")\n",
    "model.summary()"
   ]
  },
  {
   "cell_type": "markdown",
   "metadata": {
    "id": "AFPc5AEfOrwn"
   },
   "source": [
    "Si procede all'addestramento della rete:"
   ]
  },
  {
   "cell_type": "code",
   "execution_count": 37,
   "metadata": {
    "colab": {
     "base_uri": "https://localhost:8080/"
    },
    "id": "SvbUUgPn6GwO",
    "outputId": "967ecb56-9dea-46e4-d81f-d6c6b62ceb6d",
    "scrolled": true
   },
   "outputs": [
    {
     "name": "stdout",
     "output_type": "stream",
     "text": [
      "Epoch 1/30\n",
      "20/20 [==============================] - 5s 246ms/step - loss: 7.1987 - accuracy: 0.5718 - val_loss: 0.7138 - val_accuracy: 0.5000\n",
      "Epoch 2/30\n",
      "20/20 [==============================] - 5s 246ms/step - loss: 0.8273 - accuracy: 0.4139 - val_loss: 0.6901 - val_accuracy: 0.5000\n",
      "Epoch 3/30\n",
      "20/20 [==============================] - 5s 236ms/step - loss: 0.7637 - accuracy: 0.4562 - val_loss: 0.6922 - val_accuracy: 0.5000\n",
      "Epoch 4/30\n",
      "20/20 [==============================] - 5s 236ms/step - loss: 0.6895 - accuracy: 0.5182 - val_loss: 0.6914 - val_accuracy: 0.5000\n",
      "Epoch 5/30\n",
      "20/20 [==============================] - 5s 237ms/step - loss: 0.6849 - accuracy: 0.5574 - val_loss: 0.6907 - val_accuracy: 0.5000\n",
      "Epoch 6/30\n",
      "20/20 [==============================] - 5s 236ms/step - loss: 0.6905 - accuracy: 0.5338 - val_loss: 0.6901 - val_accuracy: 0.5000\n",
      "Epoch 7/30\n",
      "20/20 [==============================] - 5s 232ms/step - loss: 0.7013 - accuracy: 0.5148 - val_loss: 0.6903 - val_accuracy: 0.5208\n",
      "Epoch 8/30\n",
      "20/20 [==============================] - 5s 234ms/step - loss: 0.6910 - accuracy: 0.5089 - val_loss: 0.6890 - val_accuracy: 0.5000\n",
      "Epoch 9/30\n",
      "20/20 [==============================] - 5s 233ms/step - loss: 0.6969 - accuracy: 0.4779 - val_loss: 0.6867 - val_accuracy: 0.7750\n",
      "Epoch 10/30\n",
      "20/20 [==============================] - 5s 232ms/step - loss: 0.6912 - accuracy: 0.5182 - val_loss: 0.6861 - val_accuracy: 0.5667\n",
      "Epoch 11/30\n",
      "20/20 [==============================] - 5s 230ms/step - loss: 0.6858 - accuracy: 0.5739 - val_loss: 0.6839 - val_accuracy: 0.5000\n",
      "Epoch 12/30\n",
      "20/20 [==============================] - 5s 232ms/step - loss: 0.6901 - accuracy: 0.5422 - val_loss: 0.6759 - val_accuracy: 0.5000\n",
      "Epoch 13/30\n",
      "20/20 [==============================] - 5s 237ms/step - loss: 0.6591 - accuracy: 0.6821 - val_loss: 0.6679 - val_accuracy: 0.6708\n",
      "Epoch 14/30\n",
      "20/20 [==============================] - 5s 233ms/step - loss: 0.6725 - accuracy: 0.5769 - val_loss: 0.6533 - val_accuracy: 0.8375\n",
      "Epoch 15/30\n",
      "20/20 [==============================] - 5s 236ms/step - loss: 0.6643 - accuracy: 0.6066 - val_loss: 0.6305 - val_accuracy: 0.8375\n",
      "Epoch 16/30\n",
      "20/20 [==============================] - 5s 234ms/step - loss: 0.6303 - accuracy: 0.5890 - val_loss: 0.5966 - val_accuracy: 0.7875\n",
      "Epoch 17/30\n",
      "20/20 [==============================] - 5s 234ms/step - loss: 0.5989 - accuracy: 0.6906 - val_loss: 0.5717 - val_accuracy: 0.7875\n",
      "Epoch 18/30\n",
      "20/20 [==============================] - 5s 236ms/step - loss: 0.5714 - accuracy: 0.5334 - val_loss: 0.6744 - val_accuracy: 0.5000\n",
      "Epoch 19/30\n",
      "20/20 [==============================] - 5s 237ms/step - loss: 0.6566 - accuracy: 0.5777 - val_loss: 0.5400 - val_accuracy: 0.8708\n",
      "Epoch 20/30\n",
      "20/20 [==============================] - 5s 245ms/step - loss: 0.5582 - accuracy: 0.6326 - val_loss: 0.4957 - val_accuracy: 0.8417\n",
      "Epoch 21/30\n",
      "20/20 [==============================] - 5s 234ms/step - loss: 0.4878 - accuracy: 0.7625 - val_loss: 0.4755 - val_accuracy: 0.8667\n",
      "Epoch 22/30\n",
      "20/20 [==============================] - 5s 233ms/step - loss: 0.5452 - accuracy: 0.7090 - val_loss: 0.4966 - val_accuracy: 0.7875\n",
      "Epoch 23/30\n",
      "20/20 [==============================] - 5s 233ms/step - loss: 0.5483 - accuracy: 0.7183 - val_loss: 0.4009 - val_accuracy: 0.9042\n",
      "Epoch 24/30\n",
      "20/20 [==============================] - 5s 232ms/step - loss: 0.4670 - accuracy: 0.5894 - val_loss: 0.4609 - val_accuracy: 0.7875\n",
      "Epoch 25/30\n",
      "20/20 [==============================] - 5s 233ms/step - loss: 0.5398 - accuracy: 0.7305 - val_loss: 0.3968 - val_accuracy: 0.9208\n",
      "Epoch 26/30\n",
      "20/20 [==============================] - 5s 232ms/step - loss: 0.4502 - accuracy: 0.6530 - val_loss: 0.3531 - val_accuracy: 0.9167\n",
      "Epoch 27/30\n",
      "20/20 [==============================] - 5s 232ms/step - loss: 0.4865 - accuracy: 0.7069 - val_loss: 0.3093 - val_accuracy: 0.9292\n",
      "Epoch 28/30\n",
      "20/20 [==============================] - 5s 235ms/step - loss: 0.4210 - accuracy: 0.6992 - val_loss: 0.3107 - val_accuracy: 0.9167\n",
      "Epoch 29/30\n",
      "20/20 [==============================] - 5s 233ms/step - loss: 0.4050 - accuracy: 0.7778 - val_loss: 0.2770 - val_accuracy: 0.9375\n",
      "Epoch 30/30\n",
      "20/20 [==============================] - 5s 235ms/step - loss: 0.4316 - accuracy: 0.7012 - val_loss: 0.2747 - val_accuracy: 0.9542\n"
     ]
    }
   ],
   "source": [
    "model.compile(loss = \"categorical_crossentropy\",\n",
    "              optimizer = keras.optimizers.Adam(),\n",
    "              metrics = [\"accuracy\"])\n",
    "\n",
    "histo_best = model.fit(train_generator, \n",
    "                       epochs = 30, \n",
    "                       batch_size = 128, \n",
    "                       validation_data = validation_generator)"
   ]
  },
  {
   "cell_type": "markdown",
   "metadata": {
    "id": "o612vr5GOrwn"
   },
   "source": [
    "Si visualizzano i risultati con la funzione *acc_loss*:"
   ]
  },
  {
   "cell_type": "code",
   "execution_count": 38,
   "metadata": {
    "colab": {
     "base_uri": "https://localhost:8080/",
     "height": 342
    },
    "id": "kBKruoIZ6nzy",
    "outputId": "145e4459-0eaf-40ca-a796-95b2c38fd2b8",
    "scrolled": true
   },
   "outputs": [
    {
     "data": {
      "image/png": "[encoded data removed]",
      "text/plain": [
       "<Figure size 1008x360 with 2 Axes>"
      ]
     },
     "metadata": {
      "needs_background": "light",
      "tags": []
     },
     "output_type": "display_data"
    }
   ],
   "source": [
    "acc_loss(histo_best)"
   ]
  },
  {
   "cell_type": "markdown",
   "metadata": {
    "id": "na4L40_TOrwn"
   },
   "source": [
    "I risultati sono chiaramente migliori rispetto alla MobileNet, tuttavia non comparabili con il primo modello utilizzato. La accuracy suggerisce che **aumentare** il numero di epoche potrebbe migliorare i risultati."
   ]
  },
  {
   "cell_type": "code",
   "execution_count": 39,
   "metadata": {
    "colab": {
     "base_uri": "https://localhost:8080/"
    },
    "id": "WB2cbKyf62al",
    "outputId": "986819c3-5ccf-49b8-e547-b9385babd00a"
   },
   "outputs": [
    {
     "name": "stdout",
     "output_type": "stream",
     "text": [
      "3/3 [==============================] - 0s 113ms/step - loss: 0.3600 - accuracy: 0.8250\n"
     ]
    }
   ],
   "source": [
    "acc_best = model.evaluate(test_generator)"
   ]
  },
  {
   "cell_type": "markdown",
   "metadata": {
    "id": "ptTnxM2dbq14"
   },
   "source": [
    "Le performance sul test set risultano discrete, come già svolto precedentemente utilizziamo classification report e matrice di confusione:"
   ]
  },
  {
   "cell_type": "code",
   "execution_count": 40,
   "metadata": {
    "id": "GzJw0uwu7Nqb"
   },
   "outputs": [],
   "source": [
    "yc_pred = model.predict(test_generator)\n",
    "y_pred_best = np.argmax(yc_pred, axis = 1)"
   ]
  },
  {
   "cell_type": "code",
   "execution_count": 41,
   "metadata": {
    "colab": {
     "base_uri": "https://localhost:8080/"
    },
    "id": "DPj_tQUp7ZpK",
    "outputId": "4d2e438e-6cc4-4c37-a6c1-2480cb1252a1"
   },
   "outputs": [
    {
     "name": "stdout",
     "output_type": "stream",
     "text": [
      "              precision    recall  f1-score   support\n",
      "\n",
      "           0       0.93      0.70      0.80        40\n",
      "           1       0.76      0.95      0.84        40\n",
      "\n",
      "    accuracy                           0.82        80\n",
      "   macro avg       0.85      0.82      0.82        80\n",
      "weighted avg       0.85      0.82      0.82        80\n",
      "\n"
     ]
    }
   ],
   "source": [
    "print(classification_report(test_generator.classes, y_pred_best))"
   ]
  },
  {
   "cell_type": "code",
   "execution_count": 42,
   "metadata": {
    "colab": {
     "base_uri": "https://localhost:8080/",
     "height": 417
    },
    "id": "UoRqH03K7jUt",
    "outputId": "cc829e08-959a-4049-eb01-cf1e12aac185"
   },
   "outputs": [
    {
     "data": {
      "image/png": "[encoded data removed]",
      "text/plain": [
       "<Figure size 432x432 with 2 Axes>"
      ]
     },
     "metadata": {
      "needs_background": "light",
      "tags": []
     },
     "output_type": "display_data"
    }
   ],
   "source": [
    "cm = confusion_matrix(test_generator.classes, y_pred_best)\n",
    "fig = plt.figure(figsize = (6,6))\n",
    "ax = plt.subplot()\n",
    "sns.heatmap(cm, annot=True, annot_kws={\"size\": 16},\n",
    "           linewidths=.1, cmap=\"YlGnBu\")\n",
    "plt.xlabel(\"True Class\", size = 15)\n",
    "plt.ylabel(\"Predicted Class\", size = 15)\n",
    "plt.xticks(size = 12)\n",
    "plt.yticks(size = 12)\n",
    "ax.yaxis.set_ticklabels(['Letto', 'Improvvisato']) \n",
    "ax.xaxis.set_ticklabels(['Letto', 'Improvvisato']) \n",
    "\n",
    "plt.title(\"Confusion matrix\", size = 20)\n",
    "fig.savefig(\"confusion_matrix_cnn_scratch.png\", dpi = 200)"
   ]
  },
  {
   "cell_type": "markdown",
   "metadata": {
    "id": "-I8N0BbFOrwo"
   },
   "source": [
    "Come detto in precedenza, i risultati sono discreti, tuttavia le performance del primo modello (**MobileNet tagliata**) risultano nettamente migliori."
   ]
  },
  {
   "cell_type": "code",
   "execution_count": 44,
   "metadata": {
    "colab": {
     "base_uri": "https://localhost:8080/"
    },
    "id": "SnDqpnJ8BSZU",
    "outputId": "ca0289c4-93d6-474c-a1d5-94c6b19296dd"
   },
   "outputs": [
    {
     "name": "stdout",
     "output_type": "stream",
     "text": [
      "INFO:tensorflow:Assets written to: gdrive/MyDrive/modello_audio_cnn/assets\n"
     ]
    }
   ],
   "source": [
    "model.save('gdrive/MyDrive/modello_audio_cnn')"
   ]
  }
 ],
 "metadata": {
  "accelerator": "GPU",
  "colab": {
   "collapsed_sections": [],
   "include_colab_link": true,
   "name": "Audio.ipynb",
   "provenance": [],
   "toc_visible": true
  },
  "kernelspec": {
   "display_name": "Python 3",
   "language": "python",
   "name": "python3"
  },
  "language_info": {
   "codemirror_mode": {
    "name": "ipython",
    "version": 3
   },
   "file_extension": ".py",
   "mimetype": "text/x-python",
   "name": "python",
   "nbconvert_exporter": "python",
   "pygments_lexer": "ipython3",
   "version": "3.7.9"
  }
 },
 "nbformat": 4,
 "nbformat_minor": 4
}
