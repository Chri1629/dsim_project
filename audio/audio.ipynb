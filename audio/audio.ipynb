{
  "nbformat": 4,
  "nbformat_minor": 0,
  "metadata": {
    "accelerator": "GPU",
    "colab": {
      "name": "Audio.ipynb",
      "provenance": [],
      "collapsed_sections": [],
      "toc_visible": true,
      "include_colab_link": true
    },
    "kernelspec": {
      "display_name": "Python 3",
      "name": "python3"
    }
  },
  "cells": [
    {
      "cell_type": "markdown",
      "metadata": {
        "id": "view-in-github",
        "colab_type": "text"
      },
      "source": [
        "<a href=\"https://colab.research.google.com/github/Chri1629/dsim_project/blob/main/audio/audio.ipynb\" target=\"_parent\"><img src=\"https://colab.research.google.com/assets/colab-badge.svg\" alt=\"Open In Colab\"/></a>"
      ]
    },
    {
      "cell_type": "code",
      "metadata": {
        "id": "q8WBuvpmJSiQ"
      },
      "source": [
        "import os\n",
        "import numpy as np\n",
        "from time import time\n",
        "from scipy.io import wavfile as wav\n",
        "import librosa\n",
        "import re\n",
        "import seaborn as sns\n",
        "\n",
        "import matplotlib.pyplot as plt\n",
        "\n",
        "import pandas as pd\n",
        "# Classification tools\n",
        "from sklearn.svm import SVC\n",
        "from sklearn.model_selection import train_test_split\n",
        "from sklearn.metrics import classification_report, confusion_matrix\n",
        "from sklearn.linear_model import LogisticRegression\n",
        "\n",
        "\n",
        "# Advanced audio features\n",
        "import librosa.display\n",
        "from sklearn.preprocessing import scale\n",
        "\n",
        "import cv2"
      ],
      "execution_count": null,
      "outputs": []
    },
    {
      "cell_type": "markdown",
      "metadata": {
        "id": "UNyFUmqLdEsr"
      },
      "source": [
        "# Dati\n",
        "\n",
        "Importiamo per prima cosa i dati da google drive. La strada deve essere quella prima di importare tutti i dati e poi di trasformarli in immagini. Una volta fatto questo le si salvano nuovamente dove sono già e poi le si importano con un image generator in modo che siano compatibili con la rete che vogliamo usare"
      ]
    },
    {
      "cell_type": "code",
      "metadata": {
        "colab": {
          "base_uri": "https://localhost:8080/"
        },
        "id": "DRrYDqkeJWF8",
        "outputId": "3d46360f-ee0a-4ba4-97e7-6ed4dd103d7f"
      },
      "source": [
        "from google.colab import drive\n",
        "drive.mount('/content/gdrive', force_remount=True)\n",
        "\n",
        "base_dir = \"gdrive/MyDrive/DigitalSignal/corretti/\""
      ],
      "execution_count": null,
      "outputs": [
        {
          "output_type": "stream",
          "text": [
            "Mounted at /content/gdrive\n"
          ],
          "name": "stdout"
        }
      ]
    },
    {
      "cell_type": "markdown",
      "metadata": {
        "id": "Ath1lNK72uWa"
      },
      "source": [
        "# Modello CSV\r\n",
        "\r\n",
        "## Feature Extractor\r\n",
        "\r\n",
        "Definiamo come prima cosa un po' di funzioni che ci possono essere utili per aggiungere feature ai dati audio. Funzioni come la zcr infatti possono apportare miglioramenti significativi alla classificazione."
      ]
    },
    {
      "cell_type": "code",
      "metadata": {
        "id": "hZi4BH_J2xqe"
      },
      "source": [
        "def combo(input):\n",
        "    return np.concatenate((aavg(input), duration(input), zcr(input), sdev(input)))"
      ],
      "execution_count": null,
      "outputs": []
    },
    {
      "cell_type": "code",
      "metadata": {
        "id": "OwD4_OyO27yg"
      },
      "source": [
        "def zcr(input, n_shift = 1):    \n",
        "    # Remove all 0's as said before\n",
        "    input = [x for x in input if x != 0]\n",
        "    # It adds a number of 0 to the end equal to the n_shifts and deletes the first n_shift elements\n",
        "    shifted = np.concatenate((input, np.zeros(n_shift)))[n_shift:]\n",
        "    # If the signs agree and at least one of the two is 0, the value 0 is inserted, if the signs are discordant, the value 1 is inserted\n",
        "    r = np.where((np.sign(shifted) * np.sign(input) >= 0),\n",
        "                       0, 1)\n",
        "    # Counts the number of 1's\n",
        "    return np.sum(r[:-1], keepdims = True)"
      ],
      "execution_count": null,
      "outputs": []
    },
    {
      "cell_type": "code",
      "metadata": {
        "id": "N4TY4o-G27qc"
      },
      "source": [
        "def duration(input):\n",
        "    return input.shape"
      ],
      "execution_count": null,
      "outputs": []
    },
    {
      "cell_type": "code",
      "metadata": {
        "id": "bRsdXWsx3B1v"
      },
      "source": [
        "def aavg(input):\n",
        "    return np.mean(np.abs(input), keepdims=True)"
      ],
      "execution_count": null,
      "outputs": []
    },
    {
      "cell_type": "code",
      "metadata": {
        "id": "vnTVZa6Z3Bu4"
      },
      "source": [
        "def sdev(input):\n",
        "    return np.std(input, keepdims = True)"
      ],
      "execution_count": null,
      "outputs": []
    },
    {
      "cell_type": "code",
      "metadata": {
        "id": "CnN-I2lV27gL"
      },
      "source": [
        "def crop(input, size =100):\n",
        "    output = input[0:min(size, input.shape[0])]        \n",
        "    # Aggiungo tanti zeri quanti ne passano tra la differenza tra la dimensione voluta e quella effettiva del file\n",
        "    output = np.concatenate((output, np.zeros(size - output.shape[0])))        \n",
        "    return output"
      ],
      "execution_count": null,
      "outputs": []
    },
    {
      "cell_type": "markdown",
      "metadata": {
        "id": "zm2p-LvKZQtj"
      },
      "source": [
        "## Data loader\n",
        "\n",
        "La funzione **data loader** ci permette di importare i dati già suddivisi in cartelle ed assegnargli l'etichetta corretta. Inoltre, divide già i dati in train e validation. Opzionalmente è possibile normalizzare i dati oppure definire *feature extractor* che permette di aggiungere feature in coda alle tracce audio."
      ]
    },
    {
      "cell_type": "code",
      "metadata": {
        "id": "qSPNKJr-iR6o"
      },
      "source": [
        "def identity(input):\n",
        "    return input\n",
        "\n",
        "# Data loader\n",
        "def load_data(feature_extractor=identity, normalize=False):\n",
        "\n",
        "    labels = []\n",
        "    features = []\n",
        "    \n",
        "\n",
        "    for f in sorted(os.listdir(base_dir)):\n",
        "        if f.endswith('.mp3'):\n",
        "            signal, sr = librosa.load(base_dir + f, duration= 7.0, sr=None)\n",
        "            cur_features = feature_extractor(signal)\n",
        "            features.append(cur_features)\n",
        "            print(f)\n",
        "            label = re.search(r'^(\\d+)_([01])\\.mp3$', f).group(2)\n",
        "            labels.append(label)\n",
        "\n",
        "\n",
        "    # X: features, y: labels\n",
        "    X_train, X_validation, y_train, y_validation = train_test_split(features, labels, test_size=0.3, random_state=1)\n",
        "\n",
        "    if normalize:\n",
        "        eps = 0.001\n",
        "        X_train = np.array(X_train)\n",
        "        X_train_mean = X_train.mean(axis=0)\n",
        "        X_train_std = X_train.std(axis=0)\n",
        "        X_train = (X_train - X_train_mean + eps)/(X_train_std + eps)\n",
        "        X_train = [row for row in X_train]\n",
        "\n",
        "        X_validation = [row for row in (np.array(X_validation) - X_train_mean + eps)/(X_train_std + eps)]\n",
        "\n",
        "    return X_train, X_validation, y_train, y_validation"
      ],
      "execution_count": null,
      "outputs": []
    },
    {
      "cell_type": "code",
      "metadata": {
        "colab": {
          "base_uri": "https://localhost:8080/"
        },
        "id": "u-I5RiQDjkMx",
        "outputId": "4109cc8b-477f-4caf-ee83-cd4c461e33c2"
      },
      "source": [
        "X_train, X_validation, y_train, y_validation = load_data(feature_extractor=combo, normalize = True)"
      ],
      "execution_count": null,
      "outputs": [
        {
          "output_type": "stream",
          "text": [
            "001_1.mp3\n",
            "002_1.mp3\n",
            "003_1.mp3\n",
            "004_1.mp3\n",
            "005_1.mp3\n",
            "006_1.mp3\n",
            "007_1.mp3\n",
            "008_1.mp3\n",
            "009_1.mp3\n",
            "010_1.mp3\n",
            "011_1.mp3\n",
            "012_1.mp3\n",
            "013_1.mp3\n",
            "014_1.mp3\n",
            "015_1.mp3\n",
            "016_1.mp3\n",
            "017_1.mp3\n",
            "018_1.mp3\n",
            "019_1.mp3\n",
            "020_1.mp3\n",
            "021_1.mp3\n",
            "022_1.mp3\n",
            "023_1.mp3\n",
            "024_1.mp3\n",
            "025_1.mp3\n",
            "555_0.mp3\n",
            "556_0.mp3\n",
            "557_0.mp3\n",
            "558_0.mp3\n",
            "559_0.mp3\n",
            "560_0.mp3\n",
            "561_0.mp3\n",
            "562_0.mp3\n",
            "563_0.mp3\n",
            "564_0.mp3\n",
            "565_0.mp3\n",
            "566_0.mp3\n",
            "567_0.mp3\n",
            "568_0.mp3\n",
            "569_0.mp3\n",
            "570_0.mp3\n",
            "571_0.mp3\n",
            "572_0.mp3\n",
            "573_0.mp3\n",
            "574_0.mp3\n",
            "575_0.mp3\n",
            "576_0.mp3\n",
            "577_0.mp3\n",
            "578_0.mp3\n",
            "579_0.mp3\n"
          ],
          "name": "stdout"
        }
      ]
    },
    {
      "cell_type": "markdown",
      "metadata": {
        "id": "CXcJ7UAIUcyV"
      },
      "source": [
        "Utilizziamo una SVC per classificare i dati. Utilizziamo inoltre un kernel di tipo Gaussiano in modo da rendere più flessibile l'iperpiano che separa i dati."
      ]
    },
    {
      "cell_type": "code",
      "metadata": {
        "id": "VRbMRd5BxmTP"
      },
      "source": [
        "clf = SVC(kernel ='rbf', class_weight='balanced')\n",
        "clf = clf.fit(X_train, y_train)\n",
        "y_pred = clf.predict(X_validation)"
      ],
      "execution_count": null,
      "outputs": []
    },
    {
      "cell_type": "code",
      "metadata": {
        "colab": {
          "base_uri": "https://localhost:8080/"
        },
        "id": "fJxch3syx8ks",
        "outputId": "d993143c-7a1f-490f-a687-8a704458e3fd"
      },
      "source": [
        "print(classification_report(y_validation, y_pred))"
      ],
      "execution_count": null,
      "outputs": [
        {
          "output_type": "stream",
          "text": [
            "              precision    recall  f1-score   support\n",
            "\n",
            "           0       1.00      0.91      0.95        11\n",
            "           1       0.80      1.00      0.89         4\n",
            "\n",
            "    accuracy                           0.93        15\n",
            "   macro avg       0.90      0.95      0.92        15\n",
            "weighted avg       0.95      0.93      0.94        15\n",
            "\n"
          ],
          "name": "stdout"
        }
      ]
    },
    {
      "cell_type": "code",
      "metadata": {
        "colab": {
          "base_uri": "https://localhost:8080/",
          "height": 232
        },
        "id": "82iQE_cLyPzu",
        "outputId": "5e16592b-2a55-46eb-bc0e-ef6a54ced518"
      },
      "source": [
        "cm = confusion_matrix(y_validation, y_pred)\n",
        "\n",
        "fig = plt.figure(figsize = (6,6))\n",
        "ax = plt.subplot()\n",
        "sns.heatmap(cm, annot=True, annot_kws={\"size\": 16},\n",
        "           linewidths=.1, cmap=\"YlGnBu\")\n",
        "plt.xlabel(\"True Class\", size = 15)\n",
        "plt.ylabel(\"Predicted Class\", size = 15)\n",
        "plt.xticks(size = 12)\n",
        "plt.yticks(size = 12)\n",
        "ax.yaxis.set_ticklabels(['Letto', 'Improvvisato']) \n",
        "ax.xaxis.set_ticklabels(['Letto', 'Improvvisato']) \n",
        "\n",
        "plt.title(\"Confusion matrix\", size = 20)"
      ],
      "execution_count": null,
      "outputs": [
        {
          "output_type": "error",
          "ename": "NameError",
          "evalue": "ignored",
          "traceback": [
            "\u001b[0;31m---------------------------------------------------------------------------\u001b[0m",
            "\u001b[0;31mNameError\u001b[0m                                 Traceback (most recent call last)",
            "\u001b[0;32m<ipython-input-224-76d4106f4132>\u001b[0m in \u001b[0;36m<module>\u001b[0;34m()\u001b[0m\n\u001b[0;32m----> 1\u001b[0;31m \u001b[0mcm\u001b[0m \u001b[0;34m=\u001b[0m \u001b[0mconfusion_matrix\u001b[0m\u001b[0;34m(\u001b[0m\u001b[0my_validation\u001b[0m\u001b[0;34m,\u001b[0m \u001b[0my_pred\u001b[0m\u001b[0;34m)\u001b[0m\u001b[0;34m\u001b[0m\u001b[0;34m\u001b[0m\u001b[0m\n\u001b[0m\u001b[1;32m      2\u001b[0m \u001b[0;34m\u001b[0m\u001b[0m\n\u001b[1;32m      3\u001b[0m \u001b[0mfig\u001b[0m \u001b[0;34m=\u001b[0m \u001b[0mplt\u001b[0m\u001b[0;34m.\u001b[0m\u001b[0mfigure\u001b[0m\u001b[0;34m(\u001b[0m\u001b[0mfigsize\u001b[0m \u001b[0;34m=\u001b[0m \u001b[0;34m(\u001b[0m\u001b[0;36m6\u001b[0m\u001b[0;34m,\u001b[0m\u001b[0;36m6\u001b[0m\u001b[0;34m)\u001b[0m\u001b[0;34m)\u001b[0m\u001b[0;34m\u001b[0m\u001b[0;34m\u001b[0m\u001b[0m\n\u001b[1;32m      4\u001b[0m \u001b[0max\u001b[0m \u001b[0;34m=\u001b[0m \u001b[0mplt\u001b[0m\u001b[0;34m.\u001b[0m\u001b[0msubplot\u001b[0m\u001b[0;34m(\u001b[0m\u001b[0;34m)\u001b[0m\u001b[0;34m\u001b[0m\u001b[0;34m\u001b[0m\u001b[0m\n\u001b[1;32m      5\u001b[0m sns.heatmap(cm, annot=True, annot_kws={\"size\": 16},\n",
            "\u001b[0;31mNameError\u001b[0m: name 'y_pred' is not defined"
          ]
        }
      ]
    },
    {
      "cell_type": "markdown",
      "metadata": {
        "id": "_5sfKySD8wop"
      },
      "source": [
        "Dai risultati del classification report si può notare che le performance sono discrete ma sicuramente migliorabili. Dalla confusion matrix si nota invece che molti audio **improvvisati** venivano classificati come **letti**; questo è un risultato che ci si poteva aspettare in quanto è facile che si possa rispondere ad una domanda con prontezza in modo da sembrare che sia letta."
      ]
    },
    {
      "cell_type": "markdown",
      "metadata": {
        "id": "UdFfvATy_Pbv"
      },
      "source": [
        "# CNN 2D\n",
        "\n",
        "## Spettrogrammi\n",
        "\n",
        "Creiamo una nuova funzione che prende ciascun audio all'interno della directory e crei il relativo spettrogramma di MEL."
      ]
    },
    {
      "cell_type": "code",
      "metadata": {
        "id": "RhE6d3MB_7fb"
      },
      "source": [
        "def create_spect():\n",
        "  for f in sorted(os.listdir(base_dir)):\n",
        "    if f.endswith('.mp3'):\n",
        "            signal, sr = librosa.load(base_dir + f, duration= 7.0, sr=None)\n",
        "            name = re.search(r'^(\\d+)_([01])\\.mp3$', f).group(1)\n",
        "            label = re.search(r'^(\\d+)_([01])\\.mp3$', f).group(2)\n",
        "            spect = librosa.feature.melspectrogram(y=signal, n_mels=128)\n",
        "            fig = plt.figure(figsize=(4,4))\n",
        "            ax = fig.add_subplot(111)\n",
        "            ax.axes.get_xaxis().set_visible(False)\n",
        "            ax.axes.get_yaxis().set_visible(False)\n",
        "            ax.set_frame_on(False)\n",
        "            S_dB = librosa.power_to_db(spect, ref=np.max)\n",
        "            img = librosa.display.specshow(S_dB, x_axis='time', y_axis='mel', ax=ax)\n",
        "            if int(label) == 0:\n",
        "              fig.savefig(\"gdrive/MyDrive/spectrograms/letto/{}_{}.png\".format(name, label), dpi = 100)\n",
        "            else:\n",
        "              fig.savefig(\"gdrive/MyDrive/spectrograms/improvvisato/{}_{}.png\".format(name, label), dpi = 100)\n",
        "            plt.close(\"all\")"
      ],
      "execution_count": null,
      "outputs": []
    },
    {
      "cell_type": "code",
      "metadata": {
        "colab": {
          "base_uri": "https://localhost:8080/"
        },
        "id": "iQAxdO8dGV0S",
        "outputId": "bf5afdcd-10c7-4912-bca8-2a6e60c83485"
      },
      "source": [
        "create_spect()"
      ],
      "execution_count": null,
      "outputs": [
        {
          "output_type": "stream",
          "text": [
            "001_1.mp3\n",
            "002_1.mp3\n",
            "003_1.mp3\n",
            "004_1.mp3\n",
            "005_1.mp3\n",
            "006_1.mp3\n",
            "007_1.mp3\n",
            "008_1.mp3\n",
            "009_1.mp3\n",
            "010_1.mp3\n",
            "011_1.mp3\n",
            "012_1.mp3\n",
            "013_1.mp3\n",
            "014_1.mp3\n",
            "015_1.mp3\n",
            "016_1.mp3\n",
            "017_1.mp3\n",
            "018_1.mp3\n",
            "019_1.mp3\n",
            "020_1.mp3\n",
            "021_1.mp3\n",
            "022_1.mp3\n",
            "023_1.mp3\n",
            "024_1.mp3\n",
            "025_1.mp3\n",
            "026_1.mp3\n",
            "027_1.mp3\n",
            "028_1.mp3\n",
            "029_1.mp3\n",
            "030_1.mp3\n",
            "031_1.mp3\n",
            "032_1.mp3\n",
            "033_1.mp3\n",
            "034_1.mp3\n",
            "035_1.mp3\n",
            "036_1.mp3\n",
            "037_1.mp3\n",
            "038_1.mp3\n",
            "039_1.mp3\n",
            "040_1.mp3\n",
            "041_1.mp3\n",
            "042_1.mp3\n",
            "043_1.mp3\n",
            "044_1.mp3\n",
            "045_1.mp3\n",
            "046_1.mp3\n",
            "047_1.mp3\n",
            "048_1.mp3\n",
            "049_1.mp3\n",
            "050_1.mp3\n",
            "051_1.mp3\n",
            "052_1.mp3\n",
            "053_1.mp3\n",
            "054_1.mp3\n",
            "055_1.mp3\n",
            "056_1.mp3\n",
            "057_1.mp3\n",
            "058_1.mp3\n",
            "059_1.mp3\n",
            "060_1.mp3\n",
            "061_1.mp3\n",
            "062_1.mp3\n",
            "063_1.mp3\n",
            "064_1.mp3\n",
            "065_1.mp3\n",
            "066_1.mp3\n",
            "067_1.mp3\n",
            "068_1.mp3\n",
            "069_1.mp3\n",
            "070_1.mp3\n",
            "071_1.mp3\n",
            "072_1.mp3\n",
            "073_1.mp3\n",
            "074_1.mp3\n",
            "075_1.mp3\n",
            "076_1.mp3\n",
            "077_1.mp3\n",
            "078_1.mp3\n",
            "079_1.mp3\n",
            "080_1.mp3\n",
            "081_1.mp3\n",
            "082_1.mp3\n",
            "083_1.mp3\n",
            "084_1.mp3\n",
            "085_1.mp3\n",
            "086_1.mp3\n",
            "087_1.mp3\n",
            "088_1.mp3\n",
            "089_1.mp3\n",
            "090_1.mp3\n",
            "091_1.mp3\n",
            "092_1.mp3\n",
            "093_1.mp3\n",
            "094_1.mp3\n",
            "095_1.mp3\n",
            "096_1.mp3\n",
            "097_1.mp3\n",
            "098_1.mp3\n",
            "099_1.mp3\n",
            "100_0.mp3\n",
            "101_1.mp3\n",
            "102_1.mp3\n",
            "103_1.mp3\n",
            "104_1.mp3\n",
            "105_1.mp3\n",
            "106_1.mp3\n",
            "107_1.mp3\n",
            "108_1.mp3\n",
            "109_1.mp3\n",
            "110_1.mp3\n",
            "111_1.mp3\n",
            "112_1.mp3\n",
            "113_1.mp3\n",
            "114_1.mp3\n",
            "115_1.mp3\n",
            "116_1.mp3\n",
            "117_1.mp3\n",
            "118_1.mp3\n",
            "119_1.mp3\n",
            "120_1.mp3\n",
            "121_1.mp3\n",
            "122_1.mp3\n",
            "123_1.mp3\n",
            "124_1.mp3\n",
            "125_1.mp3\n",
            "126_1.mp3\n",
            "127_1.mp3\n",
            "128_1.mp3\n",
            "129_1.mp3\n",
            "130_1.mp3\n",
            "131_1.mp3\n",
            "132_1.mp3\n",
            "133_1.mp3\n",
            "134_1.mp3\n",
            "135_1.mp3\n",
            "136_1.mp3\n",
            "137_1.mp3\n",
            "138_1.mp3\n",
            "139_1.mp3\n",
            "140_1.mp3\n",
            "141_1.mp3\n",
            "142_1.mp3\n",
            "143_1.mp3\n",
            "144_1.mp3\n",
            "145_1.mp3\n",
            "146_1.mp3\n",
            "147_1.mp3\n",
            "148_1.mp3\n",
            "149_1.mp3\n",
            "150_1.mp3\n",
            "151_1.mp3\n",
            "152_1.mp3\n",
            "153_1.mp3\n",
            "154_1.mp3\n",
            "155_1.mp3\n",
            "156_1.mp3\n",
            "157_1.mp3\n",
            "158_1.mp3\n",
            "159_1.mp3\n",
            "160_1.mp3\n",
            "161_1.mp3\n",
            "162_1.mp3\n",
            "163_1.mp3\n",
            "164_1.mp3\n",
            "165_1.mp3\n",
            "166_1.mp3\n",
            "167_1.mp3\n",
            "168_1.mp3\n",
            "169_1.mp3\n",
            "170_1.mp3\n",
            "171_1.mp3\n",
            "172_1.mp3\n",
            "173_1.mp3\n",
            "174_1.mp3\n",
            "175_1.mp3\n",
            "176_1.mp3\n",
            "177_1.mp3\n",
            "178_1.mp3\n",
            "179_1.mp3\n",
            "180_1.mp3\n",
            "181_1.mp3\n",
            "182_1.mp3\n",
            "183_1.mp3\n",
            "184_1.mp3\n",
            "185_1.mp3\n",
            "186_1.mp3\n",
            "187_1.mp3\n",
            "188_1.mp3\n",
            "189_1.mp3\n",
            "190_1.mp3\n",
            "191_1.mp3\n",
            "192_1.mp3\n",
            "193_1.mp3\n",
            "194_1.mp3\n",
            "195_1.mp3\n",
            "196_1.mp3\n",
            "197_1.mp3\n",
            "198_1.mp3\n",
            "199_1.mp3\n",
            "200_1.mp3\n",
            "201_1.mp3\n",
            "202_1.mp3\n",
            "203_1.mp3\n",
            "204_1.mp3\n",
            "205_1.mp3\n",
            "206_1.mp3\n",
            "207_1.mp3\n",
            "208_1.mp3\n",
            "209_1.mp3\n",
            "210_1.mp3\n",
            "211_1.mp3\n",
            "212_1.mp3\n",
            "213_1.mp3\n",
            "214_1.mp3\n",
            "215_1.mp3\n",
            "216_1.mp3\n",
            "217_1.mp3\n",
            "218_1.mp3\n",
            "219_1.mp3\n",
            "220_1.mp3\n",
            "221_1.mp3\n",
            "222_1.mp3\n",
            "223_1.mp3\n",
            "224_1.mp3\n",
            "225_1.mp3\n",
            "226_1.mp3\n",
            "227_1.mp3\n",
            "228_1.mp3\n",
            "229_1.mp3\n",
            "230_1.mp3\n",
            "231_1.mp3\n",
            "232_1.mp3\n",
            "233_1.mp3\n",
            "234_1.mp3\n",
            "235_1.mp3\n",
            "236_1.mp3\n",
            "237_1.mp3\n",
            "238_1.mp3\n",
            "239_1.mp3\n",
            "240_1.mp3\n",
            "241_1.mp3\n",
            "242_1.mp3\n",
            "243_1.mp3\n",
            "244_1.mp3\n",
            "245_1.mp3\n",
            "246_1.mp3\n",
            "247_1.mp3\n",
            "248_1.mp3\n",
            "249_1.mp3\n",
            "250_1.mp3\n",
            "251_1.mp3\n",
            "252_1.mp3\n",
            "253_1.mp3\n",
            "254_1.mp3\n",
            "255_1.mp3\n",
            "256_1.mp3\n",
            "257_1.mp3\n",
            "258_1.mp3\n",
            "259_1.mp3\n",
            "260_1.mp3\n",
            "261_1.mp3\n",
            "262_1.mp3\n",
            "263_1.mp3\n",
            "264_1.mp3\n",
            "265_1.mp3\n",
            "266_1.mp3\n",
            "267_1.mp3\n",
            "268_1.mp3\n",
            "269_1.mp3\n",
            "270_1.mp3\n",
            "271_1.mp3\n",
            "272_1.mp3\n",
            "273_1.mp3\n",
            "274_1.mp3\n",
            "275_1.mp3\n",
            "276_1.mp3\n",
            "277_1.mp3\n",
            "278_1.mp3\n",
            "279_1.mp3\n",
            "280_1.mp3\n",
            "281_1.mp3\n",
            "282_1.mp3\n",
            "283_1.mp3\n",
            "284_1.mp3\n",
            "285_1.mp3\n",
            "286_1.mp3\n",
            "287_1.mp3\n",
            "288_1.mp3\n",
            "289_1.mp3\n",
            "290_1.mp3\n",
            "291_1.mp3\n",
            "292_1.mp3\n",
            "293_1.mp3\n",
            "294_1.mp3\n",
            "295_1.mp3\n",
            "296_1.mp3\n",
            "297_1.mp3\n",
            "298_1.mp3\n",
            "299_1.mp3\n",
            "300_1.mp3\n",
            "301_1.mp3\n",
            "302_1.mp3\n",
            "303_1.mp3\n",
            "304_1.mp3\n",
            "305_1.mp3\n",
            "306_1.mp3\n",
            "307_1.mp3\n",
            "308_1.mp3\n",
            "309_1.mp3\n",
            "310_1.mp3\n",
            "311_1.mp3\n",
            "312_1.mp3\n",
            "313_1.mp3\n",
            "314_1.mp3\n",
            "315_1.mp3\n",
            "316_1.mp3\n",
            "317_1.mp3\n",
            "318_1.mp3\n",
            "319_1.mp3\n",
            "320_1.mp3\n",
            "321_1.mp3\n",
            "322_0.mp3\n",
            "323_0.mp3\n",
            "324_0.mp3\n",
            "325_0.mp3\n",
            "326_0.mp3\n",
            "327_0.mp3\n",
            "328_0.mp3\n",
            "329_0.mp3\n",
            "330_0.mp3\n",
            "331_1.mp3\n",
            "332_1.mp3\n",
            "333_1.mp3\n",
            "335_1.mp3\n",
            "336_1.mp3\n",
            "337_1.mp3\n",
            "338_1.mp3\n",
            "339_1.mp3\n",
            "340_0.mp3\n",
            "341_0.mp3\n",
            "344_0.mp3\n",
            "345_0.mp3\n",
            "346_0.mp3\n",
            "347_0.mp3\n",
            "348_0.mp3\n",
            "349_0.mp3\n",
            "350_0.mp3\n",
            "351_0.mp3\n",
            "352_0.mp3\n",
            "353_0.mp3\n",
            "354_0.mp3\n",
            "355_0.mp3\n",
            "356_0.mp3\n",
            "357_0.mp3\n",
            "358_0.mp3\n",
            "359_0.mp3\n",
            "360_0.mp3\n",
            "361_0.mp3\n",
            "362_0.mp3\n",
            "363_0.mp3\n",
            "364_0.mp3\n",
            "365_0.mp3\n",
            "366_0.mp3\n",
            "367_0.mp3\n",
            "368_0.mp3\n",
            "369_0.mp3\n",
            "370_0.mp3\n",
            "371_0.mp3\n",
            "372_0.mp3\n",
            "373_0.mp3\n",
            "374_0.mp3\n",
            "375_0.mp3\n",
            "376_0.mp3\n",
            "377_0.mp3\n",
            "378_0.mp3\n",
            "379_0.mp3\n",
            "380_0.mp3\n",
            "381_0.mp3\n",
            "382_0.mp3\n",
            "383_0.mp3\n",
            "384_0.mp3\n",
            "385_0.mp3\n",
            "386_0.mp3\n",
            "387_0.mp3\n",
            "388_0.mp3\n",
            "389_0.mp3\n",
            "390_0.mp3\n",
            "391_0.mp3\n",
            "392_0.mp3\n",
            "393_0.mp3\n",
            "394_0.mp3\n",
            "395_0.mp3\n",
            "396_0.mp3\n",
            "397_0.mp3\n",
            "398_0.mp3\n",
            "399_0.mp3\n",
            "400_0.mp3\n",
            "401_0.mp3\n",
            "402_0.mp3\n",
            "403_0.mp3\n",
            "404_0.mp3\n",
            "405_0.mp3\n",
            "406_0.mp3\n",
            "407_0.mp3\n",
            "408_0.mp3\n",
            "409_0.mp3\n",
            "410_0.mp3\n",
            "411_0.mp3\n",
            "412_0.mp3\n",
            "413_0.mp3\n",
            "414_0.mp3\n",
            "415_0.mp3\n",
            "416_0.mp3\n",
            "417_0.mp3\n",
            "418_0.mp3\n",
            "419_0.mp3\n",
            "420_0.mp3\n",
            "421_0.mp3\n",
            "422_0.mp3\n",
            "423_0.mp3\n",
            "424_0.mp3\n",
            "425_0.mp3\n",
            "426_0.mp3\n",
            "427_0.mp3\n",
            "428_0.mp3\n",
            "429_0.mp3\n",
            "430_0.mp3\n",
            "431_0.mp3\n",
            "432_0.mp3\n",
            "433_0.mp3\n",
            "434_0.mp3\n",
            "435_0.mp3\n",
            "436_0.mp3\n",
            "437_0.mp3\n",
            "438_0.mp3\n",
            "439_1.mp3\n",
            "440_1.mp3\n",
            "441_1.mp3\n",
            "442_1.mp3\n",
            "443_1.mp3\n",
            "444_1.mp3\n",
            "445_1.mp3\n",
            "446_1.mp3\n",
            "447_1.mp3\n",
            "448_1.mp3\n",
            "449_1.mp3\n",
            "450_1.mp3\n",
            "451_1.mp3\n",
            "452_1.mp3\n",
            "453_1.mp3\n",
            "454_1.mp3\n",
            "455_1.mp3\n",
            "456_1.mp3\n",
            "457_1.mp3\n",
            "458_1.mp3\n",
            "459_1.mp3\n",
            "460_1.mp3\n",
            "461_1.mp3\n",
            "462_1.mp3\n",
            "463_1.mp3\n",
            "464_1.mp3\n",
            "465_1.mp3\n",
            "466_1.mp3\n",
            "467_1.mp3\n",
            "468_1.mp3\n",
            "469_1.mp3\n",
            "470_1.mp3\n",
            "471_1.mp3\n",
            "472_1.mp3\n",
            "473_1.mp3\n",
            "474_1.mp3\n",
            "475_1.mp3\n",
            "476_1.mp3\n",
            "477_1.mp3\n",
            "478_1.mp3\n",
            "479_1.mp3\n",
            "480_1.mp3\n",
            "481_1.mp3\n",
            "482_1.mp3\n",
            "483_1.mp3\n",
            "484_1.mp3\n",
            "485_1.mp3\n",
            "486_1.mp3\n",
            "487_1.mp3\n",
            "488_1.mp3\n",
            "489_1.mp3\n",
            "490_1.mp3\n",
            "491_1.mp3\n",
            "492_1.mp3\n",
            "493_1.mp3\n",
            "494_1.mp3\n",
            "495_1.mp3\n",
            "496_1.mp3\n",
            "497_1.mp3\n",
            "498_1.mp3\n",
            "499_1.mp3\n",
            "500_0.mp3\n",
            "501_1.mp3\n",
            "502_1.mp3\n",
            "503_1.mp3\n",
            "504_1.mp3\n",
            "505_1.mp3\n",
            "506_1.mp3\n",
            "507_1.mp3\n",
            "508_1.mp3\n",
            "509_1.mp3\n",
            "510_1.mp3\n",
            "511_0.mp3\n",
            "512_0.mp3\n",
            "513_0.mp3\n",
            "514_0.mp3\n",
            "515_0.mp3\n",
            "516_0.mp3\n",
            "517_0.mp3\n",
            "518_0.mp3\n",
            "519_0.mp3\n",
            "520_0.mp3\n",
            "521_0.mp3\n",
            "522_0.mp3\n",
            "523_0.mp3\n",
            "524_0.mp3\n",
            "525_0.mp3\n",
            "526_0.mp3\n",
            "527_0.mp3\n",
            "528_0.mp3\n",
            "529_0.mp3\n",
            "530_0.mp3\n",
            "531_0.mp3\n",
            "532_0.mp3\n",
            "533_0.mp3\n",
            "534_0.mp3\n",
            "535_0.mp3\n",
            "536_0.mp3\n",
            "537_0.mp3\n",
            "538_0.mp3\n",
            "539_0.mp3\n",
            "540_0.mp3\n",
            "541_0.mp3\n",
            "542_0.mp3\n",
            "543_0.mp3\n",
            "544_0.mp3\n",
            "545_0.mp3\n",
            "546_0.mp3\n",
            "547_0.mp3\n",
            "548_0.mp3\n",
            "549_0.mp3\n",
            "550_0.mp3\n",
            "551_0.mp3\n",
            "552_0.mp3\n",
            "553_0.mp3\n",
            "554_0.mp3\n",
            "555_0.mp3\n",
            "556_0.mp3\n",
            "557_0.mp3\n",
            "558_0.mp3\n",
            "559_0.mp3\n",
            "560_0.mp3\n",
            "561_0.mp3\n",
            "562_0.mp3\n",
            "563_0.mp3\n",
            "564_0.mp3\n",
            "565_0.mp3\n",
            "566_0.mp3\n",
            "567_0.mp3\n",
            "568_0.mp3\n",
            "569_0.mp3\n",
            "570_0.mp3\n",
            "571_0.mp3\n",
            "572_0.mp3\n",
            "573_0.mp3\n",
            "574_0.mp3\n",
            "575_0.mp3\n",
            "576_0.mp3\n",
            "577_0.mp3\n",
            "578_0.mp3\n",
            "579_0.mp3\n",
            "580_0.mp3\n",
            "581_0.mp3\n",
            "582_0.mp3\n",
            "583_0.mp3\n",
            "584_0.mp3\n",
            "585_0.mp3\n",
            "586_0.mp3\n",
            "587_0.mp3\n",
            "588_0.mp3\n",
            "589_0.mp3\n",
            "590_0.mp3\n",
            "591_0.mp3\n",
            "592_0.mp3\n",
            "593_0.mp3\n",
            "594_0.mp3\n",
            "595_0.mp3\n",
            "596_0.mp3\n",
            "597_0.mp3\n",
            "598_0.mp3\n",
            "599_0.mp3\n",
            "600_0.mp3\n",
            "601_0.mp3\n",
            "602_0.mp3\n",
            "603_0.mp3\n",
            "604_1.mp3\n",
            "605_0.mp3\n",
            "606_0.mp3\n",
            "607_0.mp3\n",
            "608_0.mp3\n",
            "609_0.mp3\n",
            "610_0.mp3\n",
            "611_0.mp3\n",
            "612_0.mp3\n",
            "613_0.mp3\n",
            "614_0.mp3\n",
            "615_0.mp3\n",
            "616_0.mp3\n",
            "617_0.mp3\n",
            "618_0.mp3\n",
            "619_0.mp3\n",
            "620_0.mp3\n",
            "621_0.mp3\n",
            "622_0.mp3\n",
            "623_0.mp3\n",
            "624_0.mp3\n",
            "625_0.mp3\n",
            "626_0.mp3\n",
            "627_0.mp3\n",
            "628_0.mp3\n",
            "629_0.mp3\n",
            "630_0.mp3\n",
            "631_0.mp3\n",
            "632_0.mp3\n",
            "633_0.mp3\n",
            "634_0.mp3\n",
            "635_0.mp3\n",
            "636_0.mp3\n",
            "637_0.mp3\n",
            "638_0.mp3\n",
            "639_0.mp3\n",
            "640_0.mp3\n",
            "641_0.mp3\n",
            "642_0.mp3\n",
            "643_0.mp3\n",
            "644_0.mp3\n",
            "645_0.mp3\n",
            "646_0.mp3\n",
            "647_0.mp3\n",
            "648_0.mp3\n",
            "649_0.mp3\n",
            "650_0.mp3\n",
            "651_0.mp3\n",
            "652_0.mp3\n",
            "653_0.mp3\n",
            "654_0.mp3\n",
            "655_0.mp3\n",
            "656_0.mp3\n",
            "657_0.mp3\n",
            "658_0.mp3\n",
            "659_0.mp3\n",
            "660_0.mp3\n",
            "661_0.mp3\n",
            "662_0.mp3\n",
            "663_0.mp3\n",
            "664_0.mp3\n",
            "665_0.mp3\n",
            "666_0.mp3\n",
            "667_0.mp3\n",
            "668_0.mp3\n",
            "669_0.mp3\n",
            "670_0.mp3\n",
            "671_0.mp3\n",
            "672_0.mp3\n",
            "673_0.mp3\n",
            "674_0.mp3\n",
            "675_0.mp3\n",
            "676_0.mp3\n",
            "677_0.mp3\n",
            "678_0.mp3\n",
            "679_0.mp3\n",
            "680_0.mp3\n",
            "681_0.mp3\n",
            "682_0.mp3\n",
            "683_0.mp3\n",
            "684_0.mp3\n",
            "685_0.mp3\n",
            "686_0.mp3\n",
            "687_0.mp3\n",
            "688_0.mp3\n",
            "689_0.mp3\n",
            "690_0.mp3\n",
            "691_0.mp3\n",
            "692_0.mp3\n",
            "693_0.mp3\n",
            "694_0.mp3\n",
            "695_0.mp3\n",
            "696_0.mp3\n",
            "697_0.mp3\n",
            "698_0.mp3\n",
            "699_0.mp3\n",
            "700_0.mp3\n",
            "701_0.mp3\n",
            "702_0.mp3\n",
            "703_0.mp3\n",
            "704_0.mp3\n",
            "705_0.mp3\n",
            "706_0.mp3\n",
            "707_0.mp3\n",
            "708_0.mp3\n",
            "709_0.mp3\n",
            "710_0.mp3\n",
            "711_0.mp3\n",
            "712_0.mp3\n",
            "713_0.mp3\n",
            "714_0.mp3\n",
            "715_0.mp3\n",
            "716_0.mp3\n",
            "717_0.mp3\n",
            "718_0.mp3\n",
            "719_0.mp3\n",
            "720_0.mp3\n",
            "721_0.mp3\n",
            "722_0.mp3\n",
            "723_0.mp3\n",
            "724_0.mp3\n",
            "725_0.mp3\n",
            "726_0.mp3\n",
            "727_0.mp3\n",
            "728_0.mp3\n",
            "729_0.mp3\n",
            "730_0.mp3\n",
            "731_0.mp3\n",
            "732_0.mp3\n",
            "733_0.mp3\n",
            "734_0.mp3\n",
            "735_0.mp3\n",
            "736_0.mp3\n",
            "737_0.mp3\n",
            "738_0.mp3\n",
            "739_0.mp3\n",
            "740_0.mp3\n",
            "741_0.mp3\n",
            "742_0.mp3\n",
            "743_0.mp3\n",
            "744_0.mp3\n",
            "745_0.mp3\n",
            "746_0.mp3\n",
            "747_0.mp3\n",
            "748_0.mp3\n",
            "749_0.mp3\n",
            "750_0.mp3\n",
            "751_0.mp3\n",
            "752_0.mp3\n",
            "753_0.mp3\n",
            "754_0.mp3\n",
            "755_0.mp3\n",
            "756_0.mp3\n",
            "757_0.mp3\n",
            "758_0.mp3\n",
            "759_0.mp3\n",
            "760_0.mp3\n",
            "761_0.mp3\n",
            "762_0.mp3\n",
            "763_0.mp3\n",
            "764_0.mp3\n",
            "765_0.mp3\n",
            "766_0.mp3\n",
            "767_0.mp3\n",
            "768_0.mp3\n",
            "769_0.mp3\n",
            "770_0.mp3\n",
            "771_0.mp3\n",
            "772_0.mp3\n",
            "773_0.mp3\n",
            "774_0.mp3\n",
            "775_0.mp3\n",
            "776_0.mp3\n",
            "777_0.mp3\n",
            "778_0.mp3\n",
            "779_0.mp3\n",
            "780_0.mp3\n",
            "781_0.mp3\n",
            "782_0.mp3\n",
            "783_0.mp3\n",
            "784_0.mp3\n",
            "785_0.mp3\n",
            "786_0.mp3\n",
            "787_0.mp3\n",
            "788_0.mp3\n",
            "789_0.mp3\n",
            "790_0.mp3\n",
            "791_0.mp3\n",
            "792_0.mp3\n",
            "793_0.mp3\n",
            "794_0.mp3\n",
            "795_0.mp3\n",
            "796_0.mp3\n",
            "797_0.mp3\n",
            "798_0.mp3\n",
            "799_0.mp3\n",
            "800_0.mp3\n",
            "801_0.mp3\n",
            "802_0.mp3\n",
            "803_0.mp3\n"
          ],
          "name": "stdout"
        }
      ]
    },
    {
      "cell_type": "markdown",
      "metadata": {
        "id": "-jqh02RfPxsN"
      },
      "source": [
        "## Split train - validaiton - test\n",
        "\n",
        "Splittiamo ora la cartella spectrograms attraverso la funzione splitfolders della libreria splitfolders che permette di dividere i dati in modo che siano facilmente importabili tramite i generatori di keras."
      ]
    },
    {
      "cell_type": "code",
      "metadata": {
        "colab": {
          "base_uri": "https://localhost:8080/"
        },
        "id": "qoVIdg_5xzR2",
        "outputId": "9c5c621e-fd3d-4b3a-dcc0-500b41bd2d07"
      },
      "source": [
        "!pip install split-folders"
      ],
      "execution_count": null,
      "outputs": [
        {
          "output_type": "stream",
          "text": [
            "Collecting split-folders\n",
            "  Downloading https://files.pythonhosted.org/packages/b8/5f/3c2b2f7ea5e047c8cdc3bb00ae582c5438fcdbbedcc23b3cc1c2c7aae642/split_folders-0.4.3-py3-none-any.whl\n",
            "Installing collected packages: split-folders\n",
            "Successfully installed split-folders-0.4.3\n"
          ],
          "name": "stdout"
        }
      ]
    },
    {
      "cell_type": "code",
      "metadata": {
        "id": "5sd8gg0FPwVF",
        "colab": {
          "base_uri": "https://localhost:8080/"
        },
        "outputId": "4e5ee5ac-ac40-4e70-f17d-236b29a2eaba"
      },
      "source": [
        "import splitfolders\n",
        "splitfolders.ratio(\"gdrive/MyDrive/spectrograms\", output=\"gdrive/MyDrive/spectrograms_model\", ratio=(0.6, 0.3, 0.1))"
      ],
      "execution_count": null,
      "outputs": [
        {
          "output_type": "stream",
          "text": [
            "Copying files: 800 files [00:10, 73.44 files/s]\n"
          ],
          "name": "stderr"
        }
      ]
    },
    {
      "cell_type": "markdown",
      "metadata": {
        "id": "_dfnp-NjH44h"
      },
      "source": [
        "## Generator\n",
        "\n",
        "importiamo ora i file con il generator di keras. "
      ]
    },
    {
      "cell_type": "code",
      "metadata": {
        "id": "-juPM6rCGW5m"
      },
      "source": [
        "import tensorflow as tf\n",
        "from tensorflow import keras\n",
        "from tensorflow.keras.applications import mobilenet"
      ],
      "execution_count": null,
      "outputs": []
    },
    {
      "cell_type": "code",
      "metadata": {
        "colab": {
          "base_uri": "https://localhost:8080/"
        },
        "id": "69LG5NygJh0P",
        "outputId": "ba41b8fb-c5b7-42c5-c32d-d535bff95335"
      },
      "source": [
        "train_processing = keras.preprocessing.image.ImageDataGenerator(preprocessing_function = mobilenet.preprocess_input)\n",
        "\n",
        "train_generator = train_processing.flow_from_directory(\"gdrive/MyDrive/DigitalSignal/spectrograms_model/train\",\n",
        "                                    target_size = (224, 224),\n",
        "                                    color_mode = \"rgb\",\n",
        "                                    batch_size = 640,\n",
        "                                    class_mode = \"categorical\",\n",
        "                                    shuffle = False,\n",
        "                                    seed = 1 )\n",
        "\n",
        "x_train, y_train = next(train_generator)"
      ],
      "execution_count": null,
      "outputs": [
        {
          "output_type": "stream",
          "text": [
            "Found 640 images belonging to 2 classes.\n"
          ],
          "name": "stdout"
        }
      ]
    },
    {
      "cell_type": "code",
      "metadata": {
        "id": "7mQIn3nSzAxK",
        "colab": {
          "base_uri": "https://localhost:8080/"
        },
        "outputId": "3475456d-21c2-42b4-fa8b-b03947f7567b"
      },
      "source": [
        "validation_processing = keras.preprocessing.image.ImageDataGenerator(preprocessing_function= mobilenet.preprocess_input)\n",
        "\n",
        "validation_generator = validation_processing.flow_from_directory(\"gdrive/MyDrive/DigitalSignal/spectrograms_model/val\",\n",
        "                                    target_size = (224, 224),\n",
        "                                    color_mode = \"rgb\",\n",
        "                                    batch_size = 240,\n",
        "                                    class_mode = \"categorical\",\n",
        "                                    shuffle = False,\n",
        "                                    seed = 1)\n",
        "\n",
        "x_validation, y_validation = next(validation_generator)"
      ],
      "execution_count": null,
      "outputs": [
        {
          "output_type": "stream",
          "text": [
            "Found 240 images belonging to 2 classes.\n"
          ],
          "name": "stdout"
        }
      ]
    },
    {
      "cell_type": "code",
      "metadata": {
        "colab": {
          "base_uri": "https://localhost:8080/"
        },
        "id": "XbCoURRyL7B6",
        "outputId": "f022854e-c818-41fe-9d77-24427ec4b834"
      },
      "source": [
        "test_processing = keras.preprocessing.image.ImageDataGenerator(preprocessing_function= mobilenet.preprocess_input)\n",
        "\n",
        "test_generator = test_processing.flow_from_directory(\"gdrive/MyDrive/DigitalSignal/spectrograms_model/test\",\n",
        "                                    target_size = (224, 224),\n",
        "                                    color_mode = \"rgb\",\n",
        "                                    batch_size = 80,\n",
        "                                    class_mode = \"categorical\",\n",
        "                                    shuffle = False,\n",
        "                                    seed = 1)\n",
        "\n",
        "x_test, y_test = next(test_generator)"
      ],
      "execution_count": null,
      "outputs": [
        {
          "output_type": "stream",
          "text": [
            "Found 80 images belonging to 2 classes.\n"
          ],
          "name": "stdout"
        }
      ]
    },
    {
      "cell_type": "markdown",
      "metadata": {
        "id": "QkpaWBFrZm-H"
      },
      "source": [
        "## MobileNet tagliata\n",
        "\n",
        "Usiamo la rete MobileNet in quanto presenta un numero non troppo elevato di parametri ed è quindi facilmente riaddestrabile."
      ]
    },
    {
      "cell_type": "code",
      "metadata": {
        "id": "gRCgYFYPKFT2"
      },
      "source": [
        "base_model = mobilenet.MobileNet(input_shape = (224,224,3),\n",
        "                        weights = 'imagenet',\n",
        "                        include_top = False,\n",
        "                        pooling = 'avg')"
      ],
      "execution_count": null,
      "outputs": []
    },
    {
      "cell_type": "code",
      "metadata": {
        "colab": {
          "base_uri": "https://localhost:8080/"
        },
        "id": "Aj7wtQOWL5zY",
        "outputId": "568ba07c-503e-4f4a-c674-592efdce2123"
      },
      "source": [
        "base_model.summary()"
      ],
      "execution_count": null,
      "outputs": [
        {
          "output_type": "stream",
          "text": [
            "Model: \"mobilenet_1.00_224\"\n",
            "_________________________________________________________________\n",
            "Layer (type)                 Output Shape              Param #   \n",
            "=================================================================\n",
            "input_3 (InputLayer)         [(None, 224, 224, 3)]     0         \n",
            "_________________________________________________________________\n",
            "conv1 (Conv2D)               (None, 112, 112, 32)      864       \n",
            "_________________________________________________________________\n",
            "conv1_bn (BatchNormalization (None, 112, 112, 32)      128       \n",
            "_________________________________________________________________\n",
            "conv1_relu (ReLU)            (None, 112, 112, 32)      0         \n",
            "_________________________________________________________________\n",
            "conv_dw_1 (DepthwiseConv2D)  (None, 112, 112, 32)      288       \n",
            "_________________________________________________________________\n",
            "conv_dw_1_bn (BatchNormaliza (None, 112, 112, 32)      128       \n",
            "_________________________________________________________________\n",
            "conv_dw_1_relu (ReLU)        (None, 112, 112, 32)      0         \n",
            "_________________________________________________________________\n",
            "conv_pw_1 (Conv2D)           (None, 112, 112, 64)      2048      \n",
            "_________________________________________________________________\n",
            "conv_pw_1_bn (BatchNormaliza (None, 112, 112, 64)      256       \n",
            "_________________________________________________________________\n",
            "conv_pw_1_relu (ReLU)        (None, 112, 112, 64)      0         \n",
            "_________________________________________________________________\n",
            "conv_pad_2 (ZeroPadding2D)   (None, 113, 113, 64)      0         \n",
            "_________________________________________________________________\n",
            "conv_dw_2 (DepthwiseConv2D)  (None, 56, 56, 64)        576       \n",
            "_________________________________________________________________\n",
            "conv_dw_2_bn (BatchNormaliza (None, 56, 56, 64)        256       \n",
            "_________________________________________________________________\n",
            "conv_dw_2_relu (ReLU)        (None, 56, 56, 64)        0         \n",
            "_________________________________________________________________\n",
            "conv_pw_2 (Conv2D)           (None, 56, 56, 128)       8192      \n",
            "_________________________________________________________________\n",
            "conv_pw_2_bn (BatchNormaliza (None, 56, 56, 128)       512       \n",
            "_________________________________________________________________\n",
            "conv_pw_2_relu (ReLU)        (None, 56, 56, 128)       0         \n",
            "_________________________________________________________________\n",
            "conv_dw_3 (DepthwiseConv2D)  (None, 56, 56, 128)       1152      \n",
            "_________________________________________________________________\n",
            "conv_dw_3_bn (BatchNormaliza (None, 56, 56, 128)       512       \n",
            "_________________________________________________________________\n",
            "conv_dw_3_relu (ReLU)        (None, 56, 56, 128)       0         \n",
            "_________________________________________________________________\n",
            "conv_pw_3 (Conv2D)           (None, 56, 56, 128)       16384     \n",
            "_________________________________________________________________\n",
            "conv_pw_3_bn (BatchNormaliza (None, 56, 56, 128)       512       \n",
            "_________________________________________________________________\n",
            "conv_pw_3_relu (ReLU)        (None, 56, 56, 128)       0         \n",
            "_________________________________________________________________\n",
            "conv_pad_4 (ZeroPadding2D)   (None, 57, 57, 128)       0         \n",
            "_________________________________________________________________\n",
            "conv_dw_4 (DepthwiseConv2D)  (None, 28, 28, 128)       1152      \n",
            "_________________________________________________________________\n",
            "conv_dw_4_bn (BatchNormaliza (None, 28, 28, 128)       512       \n",
            "_________________________________________________________________\n",
            "conv_dw_4_relu (ReLU)        (None, 28, 28, 128)       0         \n",
            "_________________________________________________________________\n",
            "conv_pw_4 (Conv2D)           (None, 28, 28, 256)       32768     \n",
            "_________________________________________________________________\n",
            "conv_pw_4_bn (BatchNormaliza (None, 28, 28, 256)       1024      \n",
            "_________________________________________________________________\n",
            "conv_pw_4_relu (ReLU)        (None, 28, 28, 256)       0         \n",
            "_________________________________________________________________\n",
            "conv_dw_5 (DepthwiseConv2D)  (None, 28, 28, 256)       2304      \n",
            "_________________________________________________________________\n",
            "conv_dw_5_bn (BatchNormaliza (None, 28, 28, 256)       1024      \n",
            "_________________________________________________________________\n",
            "conv_dw_5_relu (ReLU)        (None, 28, 28, 256)       0         \n",
            "_________________________________________________________________\n",
            "conv_pw_5 (Conv2D)           (None, 28, 28, 256)       65536     \n",
            "_________________________________________________________________\n",
            "conv_pw_5_bn (BatchNormaliza (None, 28, 28, 256)       1024      \n",
            "_________________________________________________________________\n",
            "conv_pw_5_relu (ReLU)        (None, 28, 28, 256)       0         \n",
            "_________________________________________________________________\n",
            "conv_pad_6 (ZeroPadding2D)   (None, 29, 29, 256)       0         \n",
            "_________________________________________________________________\n",
            "conv_dw_6 (DepthwiseConv2D)  (None, 14, 14, 256)       2304      \n",
            "_________________________________________________________________\n",
            "conv_dw_6_bn (BatchNormaliza (None, 14, 14, 256)       1024      \n",
            "_________________________________________________________________\n",
            "conv_dw_6_relu (ReLU)        (None, 14, 14, 256)       0         \n",
            "_________________________________________________________________\n",
            "conv_pw_6 (Conv2D)           (None, 14, 14, 512)       131072    \n",
            "_________________________________________________________________\n",
            "conv_pw_6_bn (BatchNormaliza (None, 14, 14, 512)       2048      \n",
            "_________________________________________________________________\n",
            "conv_pw_6_relu (ReLU)        (None, 14, 14, 512)       0         \n",
            "_________________________________________________________________\n",
            "conv_dw_7 (DepthwiseConv2D)  (None, 14, 14, 512)       4608      \n",
            "_________________________________________________________________\n",
            "conv_dw_7_bn (BatchNormaliza (None, 14, 14, 512)       2048      \n",
            "_________________________________________________________________\n",
            "conv_dw_7_relu (ReLU)        (None, 14, 14, 512)       0         \n",
            "_________________________________________________________________\n",
            "conv_pw_7 (Conv2D)           (None, 14, 14, 512)       262144    \n",
            "_________________________________________________________________\n",
            "conv_pw_7_bn (BatchNormaliza (None, 14, 14, 512)       2048      \n",
            "_________________________________________________________________\n",
            "conv_pw_7_relu (ReLU)        (None, 14, 14, 512)       0         \n",
            "_________________________________________________________________\n",
            "conv_dw_8 (DepthwiseConv2D)  (None, 14, 14, 512)       4608      \n",
            "_________________________________________________________________\n",
            "conv_dw_8_bn (BatchNormaliza (None, 14, 14, 512)       2048      \n",
            "_________________________________________________________________\n",
            "conv_dw_8_relu (ReLU)        (None, 14, 14, 512)       0         \n",
            "_________________________________________________________________\n",
            "conv_pw_8 (Conv2D)           (None, 14, 14, 512)       262144    \n",
            "_________________________________________________________________\n",
            "conv_pw_8_bn (BatchNormaliza (None, 14, 14, 512)       2048      \n",
            "_________________________________________________________________\n",
            "conv_pw_8_relu (ReLU)        (None, 14, 14, 512)       0         \n",
            "_________________________________________________________________\n",
            "conv_dw_9 (DepthwiseConv2D)  (None, 14, 14, 512)       4608      \n",
            "_________________________________________________________________\n",
            "conv_dw_9_bn (BatchNormaliza (None, 14, 14, 512)       2048      \n",
            "_________________________________________________________________\n",
            "conv_dw_9_relu (ReLU)        (None, 14, 14, 512)       0         \n",
            "_________________________________________________________________\n",
            "conv_pw_9 (Conv2D)           (None, 14, 14, 512)       262144    \n",
            "_________________________________________________________________\n",
            "conv_pw_9_bn (BatchNormaliza (None, 14, 14, 512)       2048      \n",
            "_________________________________________________________________\n",
            "conv_pw_9_relu (ReLU)        (None, 14, 14, 512)       0         \n",
            "_________________________________________________________________\n",
            "conv_dw_10 (DepthwiseConv2D) (None, 14, 14, 512)       4608      \n",
            "_________________________________________________________________\n",
            "conv_dw_10_bn (BatchNormaliz (None, 14, 14, 512)       2048      \n",
            "_________________________________________________________________\n",
            "conv_dw_10_relu (ReLU)       (None, 14, 14, 512)       0         \n",
            "_________________________________________________________________\n",
            "conv_pw_10 (Conv2D)          (None, 14, 14, 512)       262144    \n",
            "_________________________________________________________________\n",
            "conv_pw_10_bn (BatchNormaliz (None, 14, 14, 512)       2048      \n",
            "_________________________________________________________________\n",
            "conv_pw_10_relu (ReLU)       (None, 14, 14, 512)       0         \n",
            "_________________________________________________________________\n",
            "conv_dw_11 (DepthwiseConv2D) (None, 14, 14, 512)       4608      \n",
            "_________________________________________________________________\n",
            "conv_dw_11_bn (BatchNormaliz (None, 14, 14, 512)       2048      \n",
            "_________________________________________________________________\n",
            "conv_dw_11_relu (ReLU)       (None, 14, 14, 512)       0         \n",
            "_________________________________________________________________\n",
            "conv_pw_11 (Conv2D)          (None, 14, 14, 512)       262144    \n",
            "_________________________________________________________________\n",
            "conv_pw_11_bn (BatchNormaliz (None, 14, 14, 512)       2048      \n",
            "_________________________________________________________________\n",
            "conv_pw_11_relu (ReLU)       (None, 14, 14, 512)       0         \n",
            "_________________________________________________________________\n",
            "conv_pad_12 (ZeroPadding2D)  (None, 15, 15, 512)       0         \n",
            "_________________________________________________________________\n",
            "conv_dw_12 (DepthwiseConv2D) (None, 7, 7, 512)         4608      \n",
            "_________________________________________________________________\n",
            "conv_dw_12_bn (BatchNormaliz (None, 7, 7, 512)         2048      \n",
            "_________________________________________________________________\n",
            "conv_dw_12_relu (ReLU)       (None, 7, 7, 512)         0         \n",
            "_________________________________________________________________\n",
            "conv_pw_12 (Conv2D)          (None, 7, 7, 1024)        524288    \n",
            "_________________________________________________________________\n",
            "conv_pw_12_bn (BatchNormaliz (None, 7, 7, 1024)        4096      \n",
            "_________________________________________________________________\n",
            "conv_pw_12_relu (ReLU)       (None, 7, 7, 1024)        0         \n",
            "_________________________________________________________________\n",
            "conv_dw_13 (DepthwiseConv2D) (None, 7, 7, 1024)        9216      \n",
            "_________________________________________________________________\n",
            "conv_dw_13_bn (BatchNormaliz (None, 7, 7, 1024)        4096      \n",
            "_________________________________________________________________\n",
            "conv_dw_13_relu (ReLU)       (None, 7, 7, 1024)        0         \n",
            "_________________________________________________________________\n",
            "conv_pw_13 (Conv2D)          (None, 7, 7, 1024)        1048576   \n",
            "_________________________________________________________________\n",
            "conv_pw_13_bn (BatchNormaliz (None, 7, 7, 1024)        4096      \n",
            "_________________________________________________________________\n",
            "conv_pw_13_relu (ReLU)       (None, 7, 7, 1024)        0         \n",
            "_________________________________________________________________\n",
            "global_average_pooling2d_1 ( (None, 1024)              0         \n",
            "=================================================================\n",
            "Total params: 3,228,864\n",
            "Trainable params: 3,206,976\n",
            "Non-trainable params: 21,888\n",
            "_________________________________________________________________\n"
          ],
          "name": "stdout"
        }
      ]
    },
    {
      "cell_type": "markdown",
      "metadata": {
        "id": "ftilDVosaDYZ"
      },
      "source": [
        "Tagliamo la rete al **conv_dw_10** in modo che le feature che vengano estratte siano generali e che possano essere usate per classificazione di spettrogrammi. Questa operazione è molto importante in quanto la rete è inizialmente addestrata su un task completamente diverso (quello di *imagenet*), quindi i pesi dati alle variabili non sarebbero compatibili.\n"
      ]
    },
    {
      "cell_type": "code",
      "metadata": {
        "id": "JT6eJLSRZ7h7",
        "colab": {
          "base_uri": "https://localhost:8080/"
        },
        "outputId": "8ef745d5-8af2-41aa-f14a-0138e9a75337"
      },
      "source": [
        "model_1 = keras.Model(inputs=base_model.input, outputs=base_model.get_layer('conv_dw_10').output)\r\n",
        "model_1.summary()"
      ],
      "execution_count": null,
      "outputs": [
        {
          "output_type": "stream",
          "text": [
            "Model: \"model_1\"\n",
            "_________________________________________________________________\n",
            "Layer (type)                 Output Shape              Param #   \n",
            "=================================================================\n",
            "input_3 (InputLayer)         [(None, 224, 224, 3)]     0         \n",
            "_________________________________________________________________\n",
            "conv1 (Conv2D)               (None, 112, 112, 32)      864       \n",
            "_________________________________________________________________\n",
            "conv1_bn (BatchNormalization (None, 112, 112, 32)      128       \n",
            "_________________________________________________________________\n",
            "conv1_relu (ReLU)            (None, 112, 112, 32)      0         \n",
            "_________________________________________________________________\n",
            "conv_dw_1 (DepthwiseConv2D)  (None, 112, 112, 32)      288       \n",
            "_________________________________________________________________\n",
            "conv_dw_1_bn (BatchNormaliza (None, 112, 112, 32)      128       \n",
            "_________________________________________________________________\n",
            "conv_dw_1_relu (ReLU)        (None, 112, 112, 32)      0         \n",
            "_________________________________________________________________\n",
            "conv_pw_1 (Conv2D)           (None, 112, 112, 64)      2048      \n",
            "_________________________________________________________________\n",
            "conv_pw_1_bn (BatchNormaliza (None, 112, 112, 64)      256       \n",
            "_________________________________________________________________\n",
            "conv_pw_1_relu (ReLU)        (None, 112, 112, 64)      0         \n",
            "_________________________________________________________________\n",
            "conv_pad_2 (ZeroPadding2D)   (None, 113, 113, 64)      0         \n",
            "_________________________________________________________________\n",
            "conv_dw_2 (DepthwiseConv2D)  (None, 56, 56, 64)        576       \n",
            "_________________________________________________________________\n",
            "conv_dw_2_bn (BatchNormaliza (None, 56, 56, 64)        256       \n",
            "_________________________________________________________________\n",
            "conv_dw_2_relu (ReLU)        (None, 56, 56, 64)        0         \n",
            "_________________________________________________________________\n",
            "conv_pw_2 (Conv2D)           (None, 56, 56, 128)       8192      \n",
            "_________________________________________________________________\n",
            "conv_pw_2_bn (BatchNormaliza (None, 56, 56, 128)       512       \n",
            "_________________________________________________________________\n",
            "conv_pw_2_relu (ReLU)        (None, 56, 56, 128)       0         \n",
            "_________________________________________________________________\n",
            "conv_dw_3 (DepthwiseConv2D)  (None, 56, 56, 128)       1152      \n",
            "_________________________________________________________________\n",
            "conv_dw_3_bn (BatchNormaliza (None, 56, 56, 128)       512       \n",
            "_________________________________________________________________\n",
            "conv_dw_3_relu (ReLU)        (None, 56, 56, 128)       0         \n",
            "_________________________________________________________________\n",
            "conv_pw_3 (Conv2D)           (None, 56, 56, 128)       16384     \n",
            "_________________________________________________________________\n",
            "conv_pw_3_bn (BatchNormaliza (None, 56, 56, 128)       512       \n",
            "_________________________________________________________________\n",
            "conv_pw_3_relu (ReLU)        (None, 56, 56, 128)       0         \n",
            "_________________________________________________________________\n",
            "conv_pad_4 (ZeroPadding2D)   (None, 57, 57, 128)       0         \n",
            "_________________________________________________________________\n",
            "conv_dw_4 (DepthwiseConv2D)  (None, 28, 28, 128)       1152      \n",
            "_________________________________________________________________\n",
            "conv_dw_4_bn (BatchNormaliza (None, 28, 28, 128)       512       \n",
            "_________________________________________________________________\n",
            "conv_dw_4_relu (ReLU)        (None, 28, 28, 128)       0         \n",
            "_________________________________________________________________\n",
            "conv_pw_4 (Conv2D)           (None, 28, 28, 256)       32768     \n",
            "_________________________________________________________________\n",
            "conv_pw_4_bn (BatchNormaliza (None, 28, 28, 256)       1024      \n",
            "_________________________________________________________________\n",
            "conv_pw_4_relu (ReLU)        (None, 28, 28, 256)       0         \n",
            "_________________________________________________________________\n",
            "conv_dw_5 (DepthwiseConv2D)  (None, 28, 28, 256)       2304      \n",
            "_________________________________________________________________\n",
            "conv_dw_5_bn (BatchNormaliza (None, 28, 28, 256)       1024      \n",
            "_________________________________________________________________\n",
            "conv_dw_5_relu (ReLU)        (None, 28, 28, 256)       0         \n",
            "_________________________________________________________________\n",
            "conv_pw_5 (Conv2D)           (None, 28, 28, 256)       65536     \n",
            "_________________________________________________________________\n",
            "conv_pw_5_bn (BatchNormaliza (None, 28, 28, 256)       1024      \n",
            "_________________________________________________________________\n",
            "conv_pw_5_relu (ReLU)        (None, 28, 28, 256)       0         \n",
            "_________________________________________________________________\n",
            "conv_pad_6 (ZeroPadding2D)   (None, 29, 29, 256)       0         \n",
            "_________________________________________________________________\n",
            "conv_dw_6 (DepthwiseConv2D)  (None, 14, 14, 256)       2304      \n",
            "_________________________________________________________________\n",
            "conv_dw_6_bn (BatchNormaliza (None, 14, 14, 256)       1024      \n",
            "_________________________________________________________________\n",
            "conv_dw_6_relu (ReLU)        (None, 14, 14, 256)       0         \n",
            "_________________________________________________________________\n",
            "conv_pw_6 (Conv2D)           (None, 14, 14, 512)       131072    \n",
            "_________________________________________________________________\n",
            "conv_pw_6_bn (BatchNormaliza (None, 14, 14, 512)       2048      \n",
            "_________________________________________________________________\n",
            "conv_pw_6_relu (ReLU)        (None, 14, 14, 512)       0         \n",
            "_________________________________________________________________\n",
            "conv_dw_7 (DepthwiseConv2D)  (None, 14, 14, 512)       4608      \n",
            "_________________________________________________________________\n",
            "conv_dw_7_bn (BatchNormaliza (None, 14, 14, 512)       2048      \n",
            "_________________________________________________________________\n",
            "conv_dw_7_relu (ReLU)        (None, 14, 14, 512)       0         \n",
            "_________________________________________________________________\n",
            "conv_pw_7 (Conv2D)           (None, 14, 14, 512)       262144    \n",
            "_________________________________________________________________\n",
            "conv_pw_7_bn (BatchNormaliza (None, 14, 14, 512)       2048      \n",
            "_________________________________________________________________\n",
            "conv_pw_7_relu (ReLU)        (None, 14, 14, 512)       0         \n",
            "_________________________________________________________________\n",
            "conv_dw_8 (DepthwiseConv2D)  (None, 14, 14, 512)       4608      \n",
            "_________________________________________________________________\n",
            "conv_dw_8_bn (BatchNormaliza (None, 14, 14, 512)       2048      \n",
            "_________________________________________________________________\n",
            "conv_dw_8_relu (ReLU)        (None, 14, 14, 512)       0         \n",
            "_________________________________________________________________\n",
            "conv_pw_8 (Conv2D)           (None, 14, 14, 512)       262144    \n",
            "_________________________________________________________________\n",
            "conv_pw_8_bn (BatchNormaliza (None, 14, 14, 512)       2048      \n",
            "_________________________________________________________________\n",
            "conv_pw_8_relu (ReLU)        (None, 14, 14, 512)       0         \n",
            "_________________________________________________________________\n",
            "conv_dw_9 (DepthwiseConv2D)  (None, 14, 14, 512)       4608      \n",
            "_________________________________________________________________\n",
            "conv_dw_9_bn (BatchNormaliza (None, 14, 14, 512)       2048      \n",
            "_________________________________________________________________\n",
            "conv_dw_9_relu (ReLU)        (None, 14, 14, 512)       0         \n",
            "_________________________________________________________________\n",
            "conv_pw_9 (Conv2D)           (None, 14, 14, 512)       262144    \n",
            "_________________________________________________________________\n",
            "conv_pw_9_bn (BatchNormaliza (None, 14, 14, 512)       2048      \n",
            "_________________________________________________________________\n",
            "conv_pw_9_relu (ReLU)        (None, 14, 14, 512)       0         \n",
            "_________________________________________________________________\n",
            "conv_dw_10 (DepthwiseConv2D) (None, 14, 14, 512)       4608      \n",
            "=================================================================\n",
            "Total params: 1,090,752\n",
            "Trainable params: 1,080,128\n",
            "Non-trainable params: 10,624\n",
            "_________________________________________________________________\n"
          ],
          "name": "stdout"
        }
      ]
    },
    {
      "cell_type": "markdown",
      "metadata": {
        "id": "oE5t2SrrXmLv"
      },
      "source": [
        "Questa fase è la più importante e consiste nel mettere nel formato giusto i dati di train/validation e test in modo che possano essere usati per il classificatore classico che definiremo successivamente."
      ]
    },
    {
      "cell_type": "code",
      "metadata": {
        "colab": {
          "base_uri": "https://localhost:8080/"
        },
        "id": "pYBdDGmpNsDX",
        "outputId": "58050c9b-5310-4c73-ee72-fcbd786e6f91"
      },
      "source": [
        "model_1_features = model_1.predict(x_train)\n",
        "print(model_1_features.shape)"
      ],
      "execution_count": null,
      "outputs": [
        {
          "output_type": "stream",
          "text": [
            "(640, 14, 14, 512)\n"
          ],
          "name": "stdout"
        }
      ]
    },
    {
      "cell_type": "code",
      "metadata": {
        "id": "jOi8KFctZ73O"
      },
      "source": [
        "model_1_features = model_1_features.reshape((model_1_features.shape[0], \r\n",
        "                                             model_1_features.shape[1]*model_1_features.shape[2]*model_1_features.shape[3]))"
      ],
      "execution_count": null,
      "outputs": []
    },
    {
      "cell_type": "markdown",
      "metadata": {
        "id": "YvmyD6mPX0Jl"
      },
      "source": [
        "Per questo tipo di problema di classificazione abbiamo deciso di usare un classificatore Logistico. Questa scelta è stata fatta empiricamente poiché abbiamo notato che con questo tipo di classificatore le performance erano davvero molto buone."
      ]
    },
    {
      "cell_type": "code",
      "metadata": {
        "id": "inWnA7llZ77F",
        "colab": {
          "base_uri": "https://localhost:8080/"
        },
        "outputId": "ea7e0d47-92c2-4eda-8b3e-20db50842b62"
      },
      "source": [
        "lr_1 = LogisticRegression(solver=\"lbfgs\", multi_class=\"auto\", max_iter=30, penalty ='l2', verbose = 1)\r\n",
        "lr_1.fit(model_1_features, tf.argmax(y_train, axis=1))"
      ],
      "execution_count": null,
      "outputs": [
        {
          "output_type": "stream",
          "text": [
            "[Parallel(n_jobs=1)]: Using backend SequentialBackend with 1 concurrent workers.\n",
            "/usr/local/lib/python3.6/dist-packages/sklearn/linear_model/_logistic.py:940: ConvergenceWarning: lbfgs failed to converge (status=1):\n",
            "STOP: TOTAL NO. of ITERATIONS REACHED LIMIT.\n",
            "\n",
            "Increase the number of iterations (max_iter) or scale the data as shown in:\n",
            "    https://scikit-learn.org/stable/modules/preprocessing.html\n",
            "Please also refer to the documentation for alternative solver options:\n",
            "    https://scikit-learn.org/stable/modules/linear_model.html#logistic-regression\n",
            "  extra_warning_msg=_LOGISTIC_SOLVER_CONVERGENCE_MSG)\n",
            "[Parallel(n_jobs=1)]: Done   1 out of   1 | elapsed:    4.8s finished\n"
          ],
          "name": "stderr"
        },
        {
          "output_type": "execute_result",
          "data": {
            "text/plain": [
              "LogisticRegression(C=1.0, class_weight=None, dual=False, fit_intercept=True,\n",
              "                   intercept_scaling=1, l1_ratio=None, max_iter=30,\n",
              "                   multi_class='auto', n_jobs=None, penalty='l2',\n",
              "                   random_state=None, solver='lbfgs', tol=0.0001, verbose=1,\n",
              "                   warm_start=False)"
            ]
          },
          "metadata": {
            "tags": []
          },
          "execution_count": 80
        }
      ]
    },
    {
      "cell_type": "code",
      "metadata": {
        "id": "WkrihKCNZ7_Y"
      },
      "source": [
        "y_pred_train_1 = lr_1.predict(model_1_features)"
      ],
      "execution_count": null,
      "outputs": []
    },
    {
      "cell_type": "code",
      "metadata": {
        "id": "PoxjU1nXZ8D1",
        "colab": {
          "base_uri": "https://localhost:8080/"
        },
        "outputId": "d458818a-cdcb-40a7-b797-7f71fd205a43"
      },
      "source": [
        "classification_report_train_1 = classification_report(np.argmax(y_train, axis=1),y_pred_train_1)\r\n",
        "print(classification_report_train_1)\r\n",
        "classification_report_train_1= classification_report(np.argmax(y_train, axis=1),y_pred_train_1, output_dict=True)\r\n",
        "classification_report_train_1 = pd.DataFrame(classification_report_train_1).transpose()"
      ],
      "execution_count": null,
      "outputs": [
        {
          "output_type": "stream",
          "text": [
            "              precision    recall  f1-score   support\n",
            "\n",
            "           0       1.00      1.00      1.00       320\n",
            "           1       1.00      1.00      1.00       320\n",
            "\n",
            "    accuracy                           1.00       640\n",
            "   macro avg       1.00      1.00      1.00       640\n",
            "weighted avg       1.00      1.00      1.00       640\n",
            "\n"
          ],
          "name": "stdout"
        }
      ]
    },
    {
      "cell_type": "markdown",
      "metadata": {
        "id": "RObK1n9sYEZh"
      },
      "source": [
        "Ovviamente l'accuratezza sul train è 1 in quanto è stato l'insieme su cui il classificatore è stato allenato."
      ]
    },
    {
      "cell_type": "code",
      "metadata": {
        "id": "ZIuXWb5VZ8Im"
      },
      "source": [
        "model_1_validation_features = model_1.predict(x_validation)\r\n",
        "model_1_validation_features = model_1_validation_features.reshape(model_1_validation_features.shape[0],\r\n",
        "                                                                  model_1_validation_features.shape[1]*model_1_validation_features.shape[2]*model_1_validation_features.shape[3])"
      ],
      "execution_count": null,
      "outputs": []
    },
    {
      "cell_type": "code",
      "metadata": {
        "id": "FckNAkvWaaA6"
      },
      "source": [
        "y_pred_validation_1 = lr_1.predict(model_1_validation_features)"
      ],
      "execution_count": null,
      "outputs": []
    },
    {
      "cell_type": "code",
      "metadata": {
        "id": "6Cmig6ZoaaEm",
        "colab": {
          "base_uri": "https://localhost:8080/"
        },
        "outputId": "dec76717-b3e2-453f-aa2c-cbf55e00134c"
      },
      "source": [
        "classification_report_validation_1= classification_report(np.argmax(y_validation, axis=1),y_pred_validation_1)\r\n",
        "print(classification_report_validation_1)\r\n",
        "classification_report_validation_1= classification_report(np.argmax(y_validation, axis=1),y_pred_validation_1, output_dict=True)\r\n",
        "classification_report_validation_1 = pd.DataFrame(classification_report_validation_1).transpose()"
      ],
      "execution_count": null,
      "outputs": [
        {
          "output_type": "stream",
          "text": [
            "              precision    recall  f1-score   support\n",
            "\n",
            "           0       1.00      0.99      1.00       120\n",
            "           1       0.99      1.00      1.00       120\n",
            "\n",
            "    accuracy                           1.00       240\n",
            "   macro avg       1.00      1.00      1.00       240\n",
            "weighted avg       1.00      1.00      1.00       240\n",
            "\n"
          ],
          "name": "stdout"
        }
      ]
    },
    {
      "cell_type": "code",
      "metadata": {
        "id": "vnRDgnixaaH8"
      },
      "source": [
        "model_1_test_features = model_1.predict(x_test)\r\n",
        "model_1_test_features = model_1_test_features.reshape(model_1_test_features.shape[0],\r\n",
        "                                                      model_1_test_features.shape[1]*model_1_test_features.shape[2]*model_1_test_features.shape[3])"
      ],
      "execution_count": null,
      "outputs": []
    },
    {
      "cell_type": "code",
      "metadata": {
        "id": "UE47U7kJaaLT"
      },
      "source": [
        "y_pred_test_1 = lr_1.predict(model_1_test_features)"
      ],
      "execution_count": null,
      "outputs": []
    },
    {
      "cell_type": "code",
      "metadata": {
        "id": "T4Q--zLNaaO1",
        "colab": {
          "base_uri": "https://localhost:8080/"
        },
        "outputId": "042d1b32-84ae-40c9-9074-460671869f20"
      },
      "source": [
        "classification_report_test_1= classification_report(np.argmax(y_test, axis=1),y_pred_test_1)\r\n",
        "print(classification_report_test_1)\r\n",
        "classification_report_test_1= classification_report(np.argmax(y_test, axis=1),y_pred_test_1, output_dict=True)\r\n",
        "classification_report_test_1 = pd.DataFrame(classification_report_test_1).transpose()"
      ],
      "execution_count": null,
      "outputs": [
        {
          "output_type": "stream",
          "text": [
            "              precision    recall  f1-score   support\n",
            "\n",
            "           0       0.98      1.00      0.99        40\n",
            "           1       1.00      0.97      0.99        40\n",
            "\n",
            "    accuracy                           0.99        80\n",
            "   macro avg       0.99      0.99      0.99        80\n",
            "weighted avg       0.99      0.99      0.99        80\n",
            "\n"
          ],
          "name": "stdout"
        }
      ]
    },
    {
      "cell_type": "markdown",
      "metadata": {
        "id": "KmwQYVnlYSm3"
      },
      "source": [
        "Come possiamo notare anche dal classification report le performance sono davvero ottime per questo tipo di task. Alla fine del notebook verrà comunque lasciato un esempio di prova per far vedere come questo sia vero."
      ]
    },
    {
      "cell_type": "code",
      "metadata": {
        "id": "2VUz-Tr0d86D"
      },
      "source": [
        "model_1.save('gdrive/MyDrive/modello_audio')"
      ],
      "execution_count": null,
      "outputs": []
    },
    {
      "cell_type": "markdown",
      "metadata": {
        "id": "RQhyZPge0PR3"
      },
      "source": [
        "## MobileNet intera\n",
        "\n",
        "In questo caso invece non tagliamo la rete in nessun layer ma aggiungiamo alla fine due layer densi in modo da provare ad aumentare il numero di parametri e vedere come sono le performance della rete. \n",
        "\n",
        "Aggiungiamo quindi due layer con funzione di attivazione ReLU e un layer di output con funzione di attivazione sigmoide poiché il problema è di classificazione binaria. Ricordiamo di importare nuovamente i dati in modo da usare la batch corretta, sennò sono inutilizzabili da questo generator."
      ]
    },
    {
      "cell_type": "code",
      "metadata": {
        "id": "GgW6eFHYpDf1",
        "colab": {
          "base_uri": "https://localhost:8080/"
        },
        "outputId": "c6f69413-36ff-471a-e4ed-6b36063b44be"
      },
      "source": [
        "train_processing = keras.preprocessing.image.ImageDataGenerator(preprocessing_function = mobilenet.preprocess_input)\n",
        "\n",
        "train_generator = train_processing.flow_from_directory(\"gdrive/MyDrive/DigitalSignal/spectrograms_model/train\",\n",
        "                                    target_size = (224, 224),\n",
        "                                    color_mode = \"rgb\",\n",
        "                                    batch_size = 32,\n",
        "                                    class_mode = \"categorical\",\n",
        "                                    shuffle = False,\n",
        "                                    seed = 1 )"
      ],
      "execution_count": null,
      "outputs": [
        {
          "output_type": "stream",
          "text": [
            "Found 640 images belonging to 2 classes.\n"
          ],
          "name": "stdout"
        }
      ]
    },
    {
      "cell_type": "code",
      "metadata": {
        "id": "KeSEggjnpDRt",
        "colab": {
          "base_uri": "https://localhost:8080/"
        },
        "outputId": "3701f397-143a-48df-8868-d1f221da3b32"
      },
      "source": [
        "validation_processing = keras.preprocessing.image.ImageDataGenerator(preprocessing_function= mobilenet.preprocess_input)\n",
        "\n",
        "validation_generator = validation_processing.flow_from_directory(\"gdrive/MyDrive/DigitalSignal/spectrograms_model/val\",\n",
        "                                    target_size = (224, 224),\n",
        "                                    color_mode = \"rgb\",\n",
        "                                    batch_size = 32,\n",
        "                                    class_mode = \"categorical\",\n",
        "                                    shuffle = False,\n",
        "                                    seed = 1)"
      ],
      "execution_count": null,
      "outputs": [
        {
          "output_type": "stream",
          "text": [
            "Found 240 images belonging to 2 classes.\n"
          ],
          "name": "stdout"
        }
      ]
    },
    {
      "cell_type": "code",
      "metadata": {
        "id": "SGpA5fsLpC-8",
        "colab": {
          "base_uri": "https://localhost:8080/"
        },
        "outputId": "84414127-bfdc-4337-ee04-0217410aa034"
      },
      "source": [
        "test_processing = keras.preprocessing.image.ImageDataGenerator(preprocessing_function= mobilenet.preprocess_input)\n",
        "\n",
        "test_generator = test_processing.flow_from_directory(\"gdrive/MyDrive/DigitalSignal/spectrograms_model/test\",\n",
        "                                    target_size = (224, 224),\n",
        "                                    color_mode = \"rgb\",\n",
        "                                    batch_size = 32,\n",
        "                                    class_mode = \"categorical\",\n",
        "                                    shuffle = False,\n",
        "                                    seed = 1)"
      ],
      "execution_count": null,
      "outputs": [
        {
          "output_type": "stream",
          "text": [
            "Found 80 images belonging to 2 classes.\n"
          ],
          "name": "stdout"
        }
      ]
    },
    {
      "cell_type": "code",
      "metadata": {
        "id": "3u5uZAW30A-A"
      },
      "source": [
        "base_net = mobilenet.MobileNet(input_shape = (224,224,3),\n",
        "                        weights = 'imagenet',\n",
        "                        include_top = False,\n",
        "                        pooling = 'avg')\n",
        "\n",
        "x = base_net.output\n",
        "\n",
        "x = keras.layers.Dense(64, activation = \"relu\") (x)\n",
        "pred = keras.layers.Dense(2, activation = 'sigmoid') (x)"
      ],
      "execution_count": null,
      "outputs": []
    },
    {
      "cell_type": "code",
      "metadata": {
        "id": "dR4HomGL0ba7"
      },
      "source": [
        "net2 = keras.Model(inputs = base_net.input, outputs = pred)"
      ],
      "execution_count": null,
      "outputs": []
    },
    {
      "cell_type": "code",
      "metadata": {
        "id": "TQINmg6N3hhc"
      },
      "source": [
        "net2.compile(loss = keras.losses.categorical_crossentropy,\n",
        "           optimizer = keras.optimizers.Adam(),\n",
        "           metrics = ['accuracy'])"
      ],
      "execution_count": null,
      "outputs": []
    },
    {
      "cell_type": "code",
      "metadata": {
        "colab": {
          "base_uri": "https://localhost:8080/"
        },
        "id": "j51KVNQ33haP",
        "outputId": "3f22c931-90cb-4787-d519-6351b315b73c"
      },
      "source": [
        "hist2 = net2.fit(train_generator,\n",
        "       epochs = 30,\n",
        "       validation_data = validation_generator)"
      ],
      "execution_count": null,
      "outputs": [
        {
          "output_type": "stream",
          "text": [
            "Epoch 1/30\n",
            "20/20 [==============================] - 6s 307ms/step - loss: 0.4374 - accuracy: 0.8031 - val_loss: 0.7676 - val_accuracy: 0.6375\n",
            "Epoch 2/30\n",
            "20/20 [==============================] - 6s 295ms/step - loss: 0.2062 - accuracy: 0.9219 - val_loss: 0.6231 - val_accuracy: 0.6917\n",
            "Epoch 3/30\n",
            "20/20 [==============================] - 6s 294ms/step - loss: 0.0825 - accuracy: 0.9859 - val_loss: 0.8171 - val_accuracy: 0.7375\n",
            "Epoch 4/30\n",
            "20/20 [==============================] - 6s 294ms/step - loss: 0.0216 - accuracy: 1.0000 - val_loss: 0.6977 - val_accuracy: 0.6917\n",
            "Epoch 5/30\n",
            "20/20 [==============================] - 6s 295ms/step - loss: 0.0100 - accuracy: 1.0000 - val_loss: 0.6739 - val_accuracy: 0.7042\n",
            "Epoch 6/30\n",
            "20/20 [==============================] - 6s 295ms/step - loss: 0.0044 - accuracy: 1.0000 - val_loss: 0.7203 - val_accuracy: 0.6792\n",
            "Epoch 7/30\n",
            "20/20 [==============================] - 6s 307ms/step - loss: 0.0031 - accuracy: 1.0000 - val_loss: 0.7330 - val_accuracy: 0.7000\n",
            "Epoch 8/30\n",
            "20/20 [==============================] - 6s 295ms/step - loss: 0.0026 - accuracy: 1.0000 - val_loss: 0.7045 - val_accuracy: 0.7125\n",
            "Epoch 9/30\n",
            "20/20 [==============================] - 6s 293ms/step - loss: 0.0022 - accuracy: 1.0000 - val_loss: 0.6929 - val_accuracy: 0.7167\n",
            "Epoch 10/30\n",
            "20/20 [==============================] - 6s 294ms/step - loss: 0.0019 - accuracy: 1.0000 - val_loss: 0.7022 - val_accuracy: 0.7250\n",
            "Epoch 11/30\n",
            "20/20 [==============================] - 6s 298ms/step - loss: 0.0016 - accuracy: 1.0000 - val_loss: 0.7009 - val_accuracy: 0.7250\n",
            "Epoch 12/30\n",
            "20/20 [==============================] - 6s 294ms/step - loss: 0.0015 - accuracy: 1.0000 - val_loss: 0.6991 - val_accuracy: 0.7167\n",
            "Epoch 13/30\n",
            "20/20 [==============================] - 6s 297ms/step - loss: 0.0013 - accuracy: 1.0000 - val_loss: 0.7027 - val_accuracy: 0.7000\n",
            "Epoch 14/30\n",
            "20/20 [==============================] - 6s 296ms/step - loss: 0.0012 - accuracy: 1.0000 - val_loss: 0.6974 - val_accuracy: 0.6958\n",
            "Epoch 15/30\n",
            "20/20 [==============================] - 6s 296ms/step - loss: 0.0011 - accuracy: 1.0000 - val_loss: 0.6768 - val_accuracy: 0.7000\n",
            "Epoch 16/30\n",
            "20/20 [==============================] - 6s 299ms/step - loss: 9.9189e-04 - accuracy: 1.0000 - val_loss: 0.6846 - val_accuracy: 0.7000\n",
            "Epoch 17/30\n",
            "20/20 [==============================] - 6s 293ms/step - loss: 9.1156e-04 - accuracy: 1.0000 - val_loss: 0.7006 - val_accuracy: 0.7042\n",
            "Epoch 18/30\n",
            "20/20 [==============================] - 6s 297ms/step - loss: 8.4965e-04 - accuracy: 1.0000 - val_loss: 0.7094 - val_accuracy: 0.6958\n",
            "Epoch 19/30\n",
            "20/20 [==============================] - 6s 296ms/step - loss: 7.8340e-04 - accuracy: 1.0000 - val_loss: 0.6995 - val_accuracy: 0.7000\n",
            "Epoch 20/30\n",
            "20/20 [==============================] - 6s 298ms/step - loss: 7.3196e-04 - accuracy: 1.0000 - val_loss: 0.7025 - val_accuracy: 0.6917\n",
            "Epoch 21/30\n",
            "20/20 [==============================] - 6s 297ms/step - loss: 6.8241e-04 - accuracy: 1.0000 - val_loss: 0.6995 - val_accuracy: 0.6917\n",
            "Epoch 22/30\n",
            "20/20 [==============================] - 6s 295ms/step - loss: 6.4102e-04 - accuracy: 1.0000 - val_loss: 0.7022 - val_accuracy: 0.6958\n",
            "Epoch 23/30\n",
            "20/20 [==============================] - 6s 299ms/step - loss: 6.0072e-04 - accuracy: 1.0000 - val_loss: 0.7057 - val_accuracy: 0.6917\n",
            "Epoch 24/30\n",
            "20/20 [==============================] - 6s 296ms/step - loss: 5.6572e-04 - accuracy: 1.0000 - val_loss: 0.6991 - val_accuracy: 0.6958\n",
            "Epoch 25/30\n",
            "20/20 [==============================] - 6s 293ms/step - loss: 5.3586e-04 - accuracy: 1.0000 - val_loss: 0.7071 - val_accuracy: 0.6958\n",
            "Epoch 26/30\n",
            "20/20 [==============================] - 6s 297ms/step - loss: 5.0279e-04 - accuracy: 1.0000 - val_loss: 0.7144 - val_accuracy: 0.6917\n",
            "Epoch 27/30\n",
            "20/20 [==============================] - 6s 298ms/step - loss: 4.7697e-04 - accuracy: 1.0000 - val_loss: 0.7150 - val_accuracy: 0.6917\n",
            "Epoch 28/30\n",
            "20/20 [==============================] - 6s 294ms/step - loss: 4.5393e-04 - accuracy: 1.0000 - val_loss: 0.7163 - val_accuracy: 0.6917\n",
            "Epoch 29/30\n",
            "20/20 [==============================] - 6s 292ms/step - loss: 4.2960e-04 - accuracy: 1.0000 - val_loss: 0.7045 - val_accuracy: 0.6958\n",
            "Epoch 30/30\n",
            "20/20 [==============================] - 6s 291ms/step - loss: 4.0881e-04 - accuracy: 1.0000 - val_loss: 0.7016 - val_accuracy: 0.7000\n"
          ],
          "name": "stdout"
        }
      ]
    },
    {
      "cell_type": "code",
      "metadata": {
        "id": "9gUP24zWYmfI"
      },
      "source": [
        "def acc_loss(history):\n",
        "    plt.figure(figsize=(14,5))\n",
        "    plt.subplot(1,2,1)\n",
        "    plt.plot(history.history['loss'], label = \"Train loss\", color = \"red\")\n",
        "    plt.plot(history.history['val_loss'], label=\"Validation loss\", color = \"skyblue\")\n",
        "    plt.legend(loc='upper right', fontsize = 12)\n",
        "    plt.xticks(fontsize = 12)\n",
        "    plt.yticks(fontsize = 12)\n",
        "    plt.xlabel('Epochs', size = 15)\n",
        "    plt.ylabel('Loss', size = 15) \n",
        "    \n",
        "    plt.subplot(1,2,2)\n",
        "    plt.plot(history.history['accuracy'], label = \"Train accuracy\", color = \"red\")\n",
        "    plt.plot(history.history['val_accuracy'], label=\"Validation accuracy\", color = \"skyblue\")\n",
        "    plt.legend(loc='upper right', fontsize = 12)\n",
        "    plt.xticks(fontsize = 12)\n",
        "    plt.yticks(fontsize = 12)\n",
        "    plt.xlabel('Epochs', size = 15)\n",
        "    plt.ylabel('Accuracy', size = 15) "
      ],
      "execution_count": null,
      "outputs": []
    },
    {
      "cell_type": "code",
      "metadata": {
        "colab": {
          "base_uri": "https://localhost:8080/",
          "height": 342
        },
        "id": "0pOcH7VH3hS_",
        "outputId": "c3a3c685-8fc5-44f2-88c6-721b2ce9ab37"
      },
      "source": [
        "acc_loss(hist2)"
      ],
      "execution_count": null,
      "outputs": [
        {
          "output_type": "display_data",
          "data": {
            "image/png": "[encoded data removed]",
            "text/plain": [
              "<Figure size 1008x360 with 2 Axes>"
            ]
          },
          "metadata": {
            "tags": [],
            "needs_background": "light"
          }
        }
      ]
    },
    {
      "cell_type": "code",
      "metadata": {
        "colab": {
          "base_uri": "https://localhost:8080/"
        },
        "id": "SfunpOht3hMf",
        "outputId": "04b2263e-0c67-4e40-9db9-4b60753327b3"
      },
      "source": [
        "acc2 = net2.evaluate(test_generator)"
      ],
      "execution_count": null,
      "outputs": [
        {
          "output_type": "stream",
          "text": [
            "3/3 [==============================] - 1s 135ms/step - loss: 1.0569 - accuracy: 0.5000\n"
          ],
          "name": "stdout"
        }
      ]
    },
    {
      "cell_type": "code",
      "metadata": {
        "id": "gp7PyMvg3hF1"
      },
      "source": [
        "pred_2 = net2.predict(test_generator)"
      ],
      "execution_count": null,
      "outputs": []
    },
    {
      "cell_type": "code",
      "metadata": {
        "id": "VSp0PASL3g7o"
      },
      "source": [
        "pred_2 = np.argmax(pred_2, axis = 1)"
      ],
      "execution_count": null,
      "outputs": []
    },
    {
      "cell_type": "code",
      "metadata": {
        "colab": {
          "base_uri": "https://localhost:8080/"
        },
        "id": "CoYuc_Cn3g2-",
        "outputId": "9ab0f493-44d9-431a-ec68-b733eeef3095"
      },
      "source": [
        "print(classification_report(test_generator.classes, pred_2))"
      ],
      "execution_count": null,
      "outputs": [
        {
          "output_type": "stream",
          "text": [
            "              precision    recall  f1-score   support\n",
            "\n",
            "           0       0.50      0.70      0.58        40\n",
            "           1       0.50      0.30      0.37        40\n",
            "\n",
            "    accuracy                           0.50        80\n",
            "   macro avg       0.50      0.50      0.48        80\n",
            "weighted avg       0.50      0.50      0.48        80\n",
            "\n"
          ],
          "name": "stdout"
        }
      ]
    },
    {
      "cell_type": "code",
      "metadata": {
        "colab": {
          "base_uri": "https://localhost:8080/",
          "height": 434
        },
        "id": "_eTfV-vO3gvI",
        "outputId": "adc64480-34fa-4b8f-fa26-863daa59c6b2"
      },
      "source": [
        "cm = confusion_matrix(test_generator.classes, pred_2)\n",
        "\n",
        "fig = plt.figure(figsize = (6,6))\n",
        "ax = plt.subplot()\n",
        "sns.heatmap(cm, annot=True, annot_kws={\"size\": 16},\n",
        "           linewidths=.1, cmap=\"YlGnBu\")\n",
        "plt.xlabel(\"True Class\", size = 15)\n",
        "plt.ylabel(\"Predicted Class\", size = 15)\n",
        "plt.xticks(size = 12)\n",
        "plt.yticks(size = 12)\n",
        "ax.yaxis.set_ticklabels(['Letto', 'Improvvisato']) \n",
        "ax.xaxis.set_ticklabels(['Letto', 'Improvvisato']) \n",
        "\n",
        "plt.title(\"Confusion matrix\", size = 20)"
      ],
      "execution_count": null,
      "outputs": [
        {
          "output_type": "execute_result",
          "data": {
            "text/plain": [
              "Text(0.5, 1.0, 'Confusion matrix')"
            ]
          },
          "metadata": {
            "tags": []
          },
          "execution_count": 259
        },
        {
          "output_type": "display_data",
          "data": {
            "image/png": "[encoded data removed]",
            "text/plain": [
              "<Figure size 432x432 with 2 Axes>"
            ]
          },
          "metadata": {
            "tags": [],
            "needs_background": "light"
          }
        }
      ]
    },
    {
      "cell_type": "markdown",
      "metadata": {
        "id": "1VA8TS_Vqoey"
      },
      "source": [
        "Come ci aspettavamo date le considerazioni precedenti, si ha un peggioramento significativo delle performance, dato dal fatto che questa rete è pre trainata su un tipo di dataset completamente diverso. L'aggiunta di un ulteriore layer denso complica ancora di più le cose rendendo la rete totalmente inutilizzabile per questo tipo di task."
      ]
    },
    {
      "cell_type": "markdown",
      "metadata": {
        "id": "C2WhsR6O5rOp"
      },
      "source": [
        "## CNN\n",
        "\n",
        "Di seguito lasciamo una rete CNN costruita da 0. E' molto importante provare le performance di una rete più piccola sul nostro problema di classificazione poiché solitamente le reti pre-addestrate hanno bisogno di insiemi molto più grandi per performare al meglio mentre il nostro insieme non è così tanto grande. Definiamo quindi una rete \"standard\" fatta da 2 blocchi convoluzionali con relativo Pooling in cui alla fine è stato attaccato un layer denso con 124 neuroni. E' stato infine attaccato un layer di output con una funzione di attivazione softmax."
      ]
    },
    {
      "cell_type": "code",
      "metadata": {
        "id": "RDQ2P9-F6P5R"
      },
      "source": [
        "from keras import layers"
      ],
      "execution_count": null,
      "outputs": []
    },
    {
      "cell_type": "code",
      "metadata": {
        "colab": {
          "base_uri": "https://localhost:8080/"
        },
        "id": "FVZdfXkO3gqB",
        "outputId": "4113c6a5-cb2d-4ce2-8ec1-d11880d5d218"
      },
      "source": [
        "model = keras.Sequential(\n",
        "    [\n",
        "     keras.Input(shape = (224,224,3)),\n",
        "     layers.Conv2D(16, kernel_size = (3,3), activation = 'relu'),\n",
        "     layers.MaxPooling2D(pool_size = (2,2)),\n",
        "     layers.Conv2D(16, kernel_size = (3,3), activation = 'relu'),\n",
        "     layers.MaxPooling2D(pool_size = (2,2)),\n",
        "     layers.Flatten(),\n",
        "     layers.Dense(124, activation = \"relu\"),\n",
        "     layers.Dropout(0.5),\n",
        "     layers.Dense(2, activation = 'softmax')\n",
        "    ]\n",
        ")\n",
        "model.summary()"
      ],
      "execution_count": null,
      "outputs": [
        {
          "output_type": "stream",
          "text": [
            "Model: \"sequential\"\n",
            "_________________________________________________________________\n",
            "Layer (type)                 Output Shape              Param #   \n",
            "=================================================================\n",
            "conv2d (Conv2D)              (None, 222, 222, 16)      448       \n",
            "_________________________________________________________________\n",
            "max_pooling2d (MaxPooling2D) (None, 111, 111, 16)      0         \n",
            "_________________________________________________________________\n",
            "conv2d_1 (Conv2D)            (None, 109, 109, 16)      2320      \n",
            "_________________________________________________________________\n",
            "max_pooling2d_1 (MaxPooling2 (None, 54, 54, 16)        0         \n",
            "_________________________________________________________________\n",
            "flatten (Flatten)            (None, 46656)             0         \n",
            "_________________________________________________________________\n",
            "dense_3 (Dense)              (None, 124)               5785468   \n",
            "_________________________________________________________________\n",
            "dropout (Dropout)            (None, 124)               0         \n",
            "_________________________________________________________________\n",
            "dense_4 (Dense)              (None, 2)                 250       \n",
            "=================================================================\n",
            "Total params: 5,788,486\n",
            "Trainable params: 5,788,486\n",
            "Non-trainable params: 0\n",
            "_________________________________________________________________\n"
          ],
          "name": "stdout"
        }
      ]
    },
    {
      "cell_type": "code",
      "metadata": {
        "colab": {
          "base_uri": "https://localhost:8080/"
        },
        "id": "SvbUUgPn6GwO",
        "outputId": "22d7ae71-7342-4cba-9110-4298ffeae05a"
      },
      "source": [
        "model.compile(loss = \"categorical_crossentropy\",\n",
        "              optimizer = keras.optimizers.Adam(),\n",
        "              metrics = [\"accuracy\"])\n",
        "\n",
        "histo_best = model.fit(train_generator, \n",
        "                       epochs = 30, \n",
        "                       batch_size = 128, \n",
        "                       validation_data = validation_generator)"
      ],
      "execution_count": null,
      "outputs": [
        {
          "output_type": "stream",
          "text": [
            "Epoch 1/30\n",
            "1/1 [==============================] - 8s 8s/step - loss: 0.7252 - accuracy: 0.5063 - val_loss: 16.9552 - val_accuracy: 0.5000\n",
            "Epoch 2/30\n",
            "1/1 [==============================] - 5s 5s/step - loss: 17.0436 - accuracy: 0.5000 - val_loss: 1.4897 - val_accuracy: 0.5000\n",
            "Epoch 3/30\n",
            "1/1 [==============================] - 5s 5s/step - loss: 2.3844 - accuracy: 0.5219 - val_loss: 4.0783 - val_accuracy: 0.5000\n",
            "Epoch 4/30\n",
            "1/1 [==============================] - 5s 5s/step - loss: 4.2834 - accuracy: 0.5016 - val_loss: 3.2379 - val_accuracy: 0.5000\n",
            "Epoch 5/30\n",
            "1/1 [==============================] - 5s 5s/step - loss: 3.7814 - accuracy: 0.4953 - val_loss: 1.9943 - val_accuracy: 0.5000\n",
            "Epoch 6/30\n",
            "1/1 [==============================] - 5s 5s/step - loss: 2.4166 - accuracy: 0.5000 - val_loss: 0.9642 - val_accuracy: 0.5000\n",
            "Epoch 7/30\n",
            "1/1 [==============================] - 5s 5s/step - loss: 1.7778 - accuracy: 0.5031 - val_loss: 0.6802 - val_accuracy: 0.5375\n",
            "Epoch 8/30\n",
            "1/1 [==============================] - 5s 5s/step - loss: 1.4825 - accuracy: 0.5078 - val_loss: 0.8149 - val_accuracy: 0.5000\n",
            "Epoch 9/30\n",
            "1/1 [==============================] - 5s 5s/step - loss: 1.2479 - accuracy: 0.5609 - val_loss: 0.9386 - val_accuracy: 0.5000\n",
            "Epoch 10/30\n",
            "1/1 [==============================] - 5s 5s/step - loss: 1.1504 - accuracy: 0.5469 - val_loss: 0.8924 - val_accuracy: 0.5000\n",
            "Epoch 11/30\n",
            "1/1 [==============================] - 5s 5s/step - loss: 1.1296 - accuracy: 0.4844 - val_loss: 0.8388 - val_accuracy: 0.5000\n",
            "Epoch 12/30\n",
            "1/1 [==============================] - 5s 5s/step - loss: 0.9638 - accuracy: 0.5031 - val_loss: 0.7471 - val_accuracy: 0.5000\n",
            "Epoch 13/30\n",
            "1/1 [==============================] - 5s 5s/step - loss: 0.7989 - accuracy: 0.5109 - val_loss: 0.7039 - val_accuracy: 0.5000\n",
            "Epoch 14/30\n",
            "1/1 [==============================] - 5s 5s/step - loss: 0.7160 - accuracy: 0.5250 - val_loss: 0.6867 - val_accuracy: 0.5042\n",
            "Epoch 15/30\n",
            "1/1 [==============================] - 5s 5s/step - loss: 0.6875 - accuracy: 0.5359 - val_loss: 0.6905 - val_accuracy: 0.5000\n",
            "Epoch 16/30\n",
            "1/1 [==============================] - 5s 5s/step - loss: 0.6935 - accuracy: 0.5078 - val_loss: 0.6899 - val_accuracy: 0.5000\n",
            "Epoch 17/30\n",
            "1/1 [==============================] - 5s 5s/step - loss: 0.6907 - accuracy: 0.5078 - val_loss: 0.6912 - val_accuracy: 0.5000\n",
            "Epoch 18/30\n",
            "1/1 [==============================] - 5s 5s/step - loss: 0.6915 - accuracy: 0.5156 - val_loss: 0.6882 - val_accuracy: 0.5000\n",
            "Epoch 19/30\n",
            "1/1 [==============================] - 5s 5s/step - loss: 0.6946 - accuracy: 0.5016 - val_loss: 0.6869 - val_accuracy: 0.7167\n",
            "Epoch 20/30\n",
            "1/1 [==============================] - 5s 5s/step - loss: 0.6866 - accuracy: 0.5609 - val_loss: 0.6866 - val_accuracy: 0.5042\n",
            "Epoch 21/30\n",
            "1/1 [==============================] - 5s 5s/step - loss: 0.6927 - accuracy: 0.4875 - val_loss: 0.6851 - val_accuracy: 0.7500\n",
            "Epoch 22/30\n",
            "1/1 [==============================] - 5s 5s/step - loss: 0.6828 - accuracy: 0.5500 - val_loss: 0.6837 - val_accuracy: 0.7042\n",
            "Epoch 23/30\n",
            "1/1 [==============================] - 5s 5s/step - loss: 0.6881 - accuracy: 0.5469 - val_loss: 0.6823 - val_accuracy: 0.5500\n",
            "Epoch 24/30\n",
            "1/1 [==============================] - 5s 5s/step - loss: 0.6849 - accuracy: 0.5688 - val_loss: 0.6812 - val_accuracy: 0.5000\n",
            "Epoch 25/30\n",
            "1/1 [==============================] - 5s 5s/step - loss: 0.6820 - accuracy: 0.5672 - val_loss: 0.6840 - val_accuracy: 0.5083\n",
            "Epoch 26/30\n",
            "1/1 [==============================] - 5s 5s/step - loss: 0.6849 - accuracy: 0.5844 - val_loss: 0.6801 - val_accuracy: 0.6625\n",
            "Epoch 27/30\n",
            "1/1 [==============================] - 5s 5s/step - loss: 0.6806 - accuracy: 0.6203 - val_loss: 0.6774 - val_accuracy: 0.8083\n",
            "Epoch 28/30\n",
            "1/1 [==============================] - 5s 5s/step - loss: 0.6770 - accuracy: 0.5891 - val_loss: 0.6756 - val_accuracy: 0.7750\n",
            "Epoch 29/30\n",
            "1/1 [==============================] - 5s 5s/step - loss: 0.6797 - accuracy: 0.5047 - val_loss: 0.6741 - val_accuracy: 0.8000\n",
            "Epoch 30/30\n",
            "1/1 [==============================] - 5s 5s/step - loss: 0.6748 - accuracy: 0.5594 - val_loss: 0.6724 - val_accuracy: 0.8500\n"
          ],
          "name": "stdout"
        }
      ]
    },
    {
      "cell_type": "code",
      "metadata": {
        "colab": {
          "base_uri": "https://localhost:8080/",
          "height": 342
        },
        "id": "kBKruoIZ6nzy",
        "outputId": "54ac67fa-cc48-44a1-ac7e-a56931176a32"
      },
      "source": [
        "acc_loss(histo_best)"
      ],
      "execution_count": null,
      "outputs": [
        {
          "output_type": "display_data",
          "data": {
            "image/png": "[encoded data removed]",
            "text/plain": [
              "<Figure size 1008x360 with 2 Axes>"
            ]
          },
          "metadata": {
            "tags": [],
            "needs_background": "light"
          }
        }
      ]
    },
    {
      "cell_type": "code",
      "metadata": {
        "colab": {
          "base_uri": "https://localhost:8080/"
        },
        "id": "WB2cbKyf62al",
        "outputId": "8307d75d-5e4f-46f9-859d-e6a514779f0d"
      },
      "source": [
        "acc_best = model.evaluate(test_generator)"
      ],
      "execution_count": null,
      "outputs": [
        {
          "output_type": "stream",
          "text": [
            "1/1 [==============================] - 1s 613ms/step - loss: 0.6736 - accuracy: 0.8375\n"
          ],
          "name": "stdout"
        }
      ]
    },
    {
      "cell_type": "markdown",
      "metadata": {
        "id": "ptTnxM2dbq14"
      },
      "source": [
        "Come si può notare le performance sul test set sono abbastanza buone. Stampiamo comunque di seguito sia il classification report che la confusion matrix per vedere effettivamente come sono le predizioni."
      ]
    },
    {
      "cell_type": "code",
      "metadata": {
        "id": "GzJw0uwu7Nqb"
      },
      "source": [
        "yc_pred = model.predict(test_generator)\n",
        "y_pred_best = np.argmax(yc_pred, axis = 1)"
      ],
      "execution_count": null,
      "outputs": []
    },
    {
      "cell_type": "code",
      "metadata": {
        "colab": {
          "base_uri": "https://localhost:8080/"
        },
        "id": "DPj_tQUp7ZpK",
        "outputId": "14964018-2a89-4b51-af87-b79226269b42"
      },
      "source": [
        "print(classification_report(test_generator.classes, y_pred_best))"
      ],
      "execution_count": null,
      "outputs": [
        {
          "output_type": "stream",
          "text": [
            "              precision    recall  f1-score   support\n",
            "\n",
            "           0       0.83      0.85      0.84        40\n",
            "           1       0.85      0.82      0.84        40\n",
            "\n",
            "    accuracy                           0.84        80\n",
            "   macro avg       0.84      0.84      0.84        80\n",
            "weighted avg       0.84      0.84      0.84        80\n",
            "\n"
          ],
          "name": "stdout"
        }
      ]
    },
    {
      "cell_type": "markdown",
      "metadata": {
        "id": "6y7LcIoub5hA"
      },
      "source": [
        "Come si può notare i valori di f1-score sono molto alti ma comunque inferiori a quelli della MobileNet tagliata."
      ]
    },
    {
      "cell_type": "code",
      "metadata": {
        "colab": {
          "base_uri": "https://localhost:8080/",
          "height": 434
        },
        "id": "UoRqH03K7jUt",
        "outputId": "b7a439ea-ef93-4334-e2a1-dea93b3b1896"
      },
      "source": [
        "cm = confusion_matrix(test_generator.classes, y_pred_best)\n",
        "fig = plt.figure(figsize = (6,6))\n",
        "ax = plt.subplot()\n",
        "sns.heatmap(cm, annot=True, annot_kws={\"size\": 16},\n",
        "           linewidths=.1, cmap=\"YlGnBu\")\n",
        "plt.xlabel(\"True Class\", size = 15)\n",
        "plt.ylabel(\"Predicted Class\", size = 15)\n",
        "plt.xticks(size = 12)\n",
        "plt.yticks(size = 12)\n",
        "ax.yaxis.set_ticklabels(['Letto', 'Improvvisato']) \n",
        "ax.xaxis.set_ticklabels(['Letto', 'Improvvisato']) \n",
        "\n",
        "plt.title(\"Confusion matrix\", size = 20)"
      ],
      "execution_count": null,
      "outputs": [
        {
          "output_type": "execute_result",
          "data": {
            "text/plain": [
              "Text(0.5, 1.0, 'Confusion matrix')"
            ]
          },
          "metadata": {
            "tags": []
          },
          "execution_count": 148
        },
        {
          "output_type": "display_data",
          "data": {
            "image/png": "[encoded data removed]",
            "text/plain": [
              "<Figure size 432x432 with 2 Axes>"
            ]
          },
          "metadata": {
            "tags": [],
            "needs_background": "light"
          }
        }
      ]
    },
    {
      "cell_type": "markdown",
      "metadata": {
        "id": "RkC_Gz_pcc61"
      },
      "source": [
        "# Demo\n",
        "\n",
        "Di seguito proponiamo una demo in cui viene caricato un audio real time e si ha una classificazione da parte del miglior classificatore trovato in precedenza."
      ]
    },
    {
      "cell_type": "code",
      "metadata": {
        "id": "3KKGw3PZBSCy",
        "colab": {
          "base_uri": "https://localhost:8080/",
          "height": 248
        },
        "outputId": "ac842d59-ba18-4da8-ff66-9c9553da6b0f"
      },
      "source": [
        "path = \"gdrive/MyDrive/DigitalSignal/\"\r\n",
        "signal, sr = librosa.load(path + \"prova8.mp3\", duration= 7.0, sr=None) \r\n",
        "spect = librosa.feature.melspectrogram(y=signal, n_mels=128)\r\n",
        "fig = plt.figure(figsize=(4,4))\r\n",
        "ax = fig.add_subplot(111)\r\n",
        "ax.axes.get_xaxis().set_visible(False)\r\n",
        "ax.axes.get_yaxis().set_visible(False)\r\n",
        "ax.set_frame_on(False)\r\n",
        "S_dB = librosa.power_to_db(spect, ref=np.max)\r\n",
        "img = librosa.display.specshow(S_dB, x_axis='time', y_axis='mel', ax=ax)\r\n",
        "fig.savefig(path + \"single/test/\"+\"prova8.png\", dpi = 100)"
      ],
      "execution_count": null,
      "outputs": [
        {
          "output_type": "display_data",
          "data": {
            "image/png": "[encoded data removed]",
            "text/plain": [
              "<Figure size 288x288 with 1 Axes>"
            ]
          },
          "metadata": {
            "tags": [],
            "needs_background": "light"
          }
        }
      ]
    },
    {
      "cell_type": "code",
      "metadata": {
        "id": "wCtyNiI4Kt0i",
        "colab": {
          "base_uri": "https://localhost:8080/"
        },
        "outputId": "844eddc9-6d8a-46ab-dacb-a5b7fc06be74"
      },
      "source": [
        "single_processing = keras.preprocessing.image.ImageDataGenerator(preprocessing_function= mobilenet.preprocess_input)\r\n",
        "\r\n",
        "single_generator = single_processing.flow_from_directory(\"gdrive/MyDrive/DigitalSignal/single\",\r\n",
        "                                    target_size = (224, 224),\r\n",
        "                                    color_mode = \"rgb\",\r\n",
        "                                    batch_size = 1,\r\n",
        "                                    class_mode = \"categorical\",\r\n",
        "                                    shuffle = False,\r\n",
        "                                    seed = 1)\r\n",
        "test,label_test = next(single_generator)"
      ],
      "execution_count": null,
      "outputs": [
        {
          "output_type": "stream",
          "text": [
            "Found 1 images belonging to 1 classes.\n"
          ],
          "name": "stdout"
        }
      ]
    },
    {
      "cell_type": "markdown",
      "metadata": {
        "id": "JS72HD4GrRqj"
      },
      "source": [
        "## Predizioni MobileNet tagliata\n",
        "\n",
        "Di seguito vediamo la predizione della combinazione di MobileNet e classificatore logistico"
      ]
    },
    {
      "cell_type": "code",
      "metadata": {
        "id": "gf9LOe1eOldP"
      },
      "source": [
        "test_features = model_1.predict(test)\n",
        "test_features = test_features.reshape(test_features.shape[0],\n",
        "                                      test_features.shape[1]*test_features.shape[2]*test_features.shape[3])"
      ],
      "execution_count": null,
      "outputs": []
    },
    {
      "cell_type": "code",
      "metadata": {
        "id": "Pw9TJPD1OlRx"
      },
      "source": [
        "pred_finali = lr_1.predict(test_features)"
      ],
      "execution_count": null,
      "outputs": []
    },
    {
      "cell_type": "code",
      "metadata": {
        "colab": {
          "base_uri": "https://localhost:8080/"
        },
        "id": "wlyfU3ZhOk7z",
        "outputId": "e875cc2d-4e72-4fe6-9a01-bc98215612ca"
      },
      "source": [
        "pred_finali"
      ],
      "execution_count": null,
      "outputs": [
        {
          "output_type": "execute_result",
          "data": {
            "text/plain": [
              "array([0])"
            ]
          },
          "metadata": {
            "tags": []
          },
          "execution_count": 153
        }
      ]
    },
    {
      "cell_type": "code",
      "metadata": {
        "colab": {
          "base_uri": "https://localhost:8080/"
        },
        "id": "daMTC7bLPbVI",
        "outputId": "10f69d29-492c-487d-e5e3-40f22bee1284"
      },
      "source": [
        "labels = (train_generator.class_indices)\n",
        "labels = dict((v,k) for k,v in labels.items())\n",
        "predictions = [labels[k] for k in pred_finali]\n",
        "\n",
        "predictions"
      ],
      "execution_count": null,
      "outputs": [
        {
          "output_type": "execute_result",
          "data": {
            "text/plain": [
              "['improvvisato']"
            ]
          },
          "metadata": {
            "tags": []
          },
          "execution_count": 154
        }
      ]
    },
    {
      "cell_type": "markdown",
      "metadata": {
        "id": "AjaWf3dkrcC9"
      },
      "source": [
        "## Predizioni CNN\n",
        "\n",
        "Di seguito vediamo la predizione della rete CNN che è stata costruita da 0."
      ]
    },
    {
      "cell_type": "code",
      "metadata": {
        "id": "Wj0N1uX1BSKu",
        "colab": {
          "base_uri": "https://localhost:8080/"
        },
        "outputId": "5af7c1f0-2e4b-4dd2-e673-58f2b10cae77"
      },
      "source": [
        "prova_pred = model.predict(single_generator)\r\n",
        "result = np.argmax(prova_pred, axis = 1)\r\n",
        "result"
      ],
      "execution_count": null,
      "outputs": [
        {
          "output_type": "execute_result",
          "data": {
            "text/plain": [
              "array([1])"
            ]
          },
          "metadata": {
            "tags": []
          },
          "execution_count": 155
        }
      ]
    },
    {
      "cell_type": "code",
      "metadata": {
        "id": "7y-WiulBBSSX"
      },
      "source": [
        "labels = (train_generator.class_indices)\r\n",
        "labels = dict((v,k) for k,v in labels.items())\r\n",
        "predictions = [labels[k] for k in result]"
      ],
      "execution_count": null,
      "outputs": []
    },
    {
      "cell_type": "code",
      "metadata": {
        "id": "H4RXJCJyBSWh",
        "colab": {
          "base_uri": "https://localhost:8080/"
        },
        "outputId": "88598b20-cfb2-4f2f-a36e-fe14e6c8e3b4"
      },
      "source": [
        "predictions"
      ],
      "execution_count": null,
      "outputs": [
        {
          "output_type": "execute_result",
          "data": {
            "text/plain": [
              "['letto']"
            ]
          },
          "metadata": {
            "tags": []
          },
          "execution_count": 157
        }
      ]
    },
    {
      "cell_type": "code",
      "metadata": {
        "id": "SnDqpnJ8BSZU",
        "colab": {
          "base_uri": "https://localhost:8080/"
        },
        "outputId": "5e3800cd-a329-490a-9fa0-dba9db622c13"
      },
      "source": [
        "prova_pred"
      ],
      "execution_count": null,
      "outputs": [
        {
          "output_type": "execute_result",
          "data": {
            "text/plain": [
              "array([[0.49596626, 0.50403374]], dtype=float32)"
            ]
          },
          "metadata": {
            "tags": []
          },
          "execution_count": 158
        }
      ]
    }
  ]
}