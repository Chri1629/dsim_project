{
  "nbformat": 4,
  "nbformat_minor": 0,
  "metadata": {
    "accelerator": "GPU",
    "colab": {
      "name": "Audio.ipynb",
      "provenance": [],
      "collapsed_sections": [],
      "include_colab_link": true
    },
    "kernelspec": {
      "display_name": "Python 3",
      "name": "python3"
    }
  },
  "cells": [
    {
      "cell_type": "markdown",
      "metadata": {
        "id": "view-in-github",
        "colab_type": "text"
      },
      "source": [
        "<a href=\"https://colab.research.google.com/github/Chri1629/dsim_project/blob/main/audio/audio.ipynb\" target=\"_parent\"><img src=\"https://colab.research.google.com/assets/colab-badge.svg\" alt=\"Open In Colab\"/></a>"
      ]
    },
    {
      "cell_type": "code",
      "metadata": {
        "id": "q8WBuvpmJSiQ"
      },
      "source": [
        "import os\n",
        "import numpy as np\n",
        "from time import time\n",
        "from scipy.io import wavfile as wav\n",
        "import librosa\n",
        "import re\n",
        "import seaborn as sns\n",
        "\n",
        "import matplotlib.pyplot as plt\n",
        "\n",
        "\n",
        "# Classification tools\n",
        "from sklearn.svm import SVC\n",
        "from sklearn.model_selection import train_test_split\n",
        "from sklearn.metrics import classification_report, confusion_matrix\n",
        "\n",
        "\n",
        "# Advanced audio features\n",
        "import librosa.display\n",
        "from sklearn.preprocessing import scale\n",
        "\n",
        "import cv2\n"
      ],
      "execution_count": 1,
      "outputs": []
    },
    {
      "cell_type": "markdown",
      "metadata": {
        "id": "UNyFUmqLdEsr"
      },
      "source": [
        "# Dati\n",
        "\n",
        "Importiamo per prima cosa i dati da google drive. La strada deve essere quella prima di importare tutti i dati e poi di trasformarli in immagini. Una volta fatto questo le si salvano nuovamente dove sono già e poi le si importano con un image generator in modo che siano compatibili con la rete che vogliamo usare"
      ]
    },
    {
      "cell_type": "code",
      "metadata": {
        "colab": {
          "base_uri": "https://localhost:8080/"
        },
        "id": "DRrYDqkeJWF8",
        "outputId": "9f50b056-10f1-429d-b373-d6e708d22079"
      },
      "source": [
        "from google.colab import drive\n",
        "drive.mount('/content/gdrive', force_remount=True)\n",
        "\n",
        "base_dir = \"gdrive/MyDrive/DigitalSignal/corretti/\""
      ],
      "execution_count": 29,
      "outputs": [
        {
          "output_type": "stream",
          "text": [
            "Mounted at /content/gdrive\n"
          ],
          "name": "stdout"
        }
      ]
    },
    {
      "cell_type": "markdown",
      "metadata": {
        "id": "Ath1lNK72uWa"
      },
      "source": [
        "## FUNZIONI"
      ]
    },
    {
      "cell_type": "code",
      "metadata": {
        "id": "hZi4BH_J2xqe"
      },
      "source": [
        "def combo(input):\n",
        "    return np.concatenate((aavg(input), duration(input), zcr(input), sdev(input)))"
      ],
      "execution_count": null,
      "outputs": []
    },
    {
      "cell_type": "code",
      "metadata": {
        "id": "OwD4_OyO27yg"
      },
      "source": [
        "def zcr(input, n_shift = 1):    \n",
        "    # Remove all 0's as said before\n",
        "    input = [x for x in input if x != 0]\n",
        "    # It adds a number of 0 to the end equal to the n_shifts and deletes the first n_shift elements\n",
        "    shifted = np.concatenate((input, np.zeros(n_shift)))[n_shift:]\n",
        "    # If the signs agree and at least one of the two is 0, the value 0 is inserted, if the signs are discordant, the value 1 is inserted\n",
        "    r = np.where((np.sign(shifted) * np.sign(input) >= 0),\n",
        "                       0, 1)\n",
        "    # Counts the number of 1's\n",
        "    return np.sum(r[:-1], keepdims = True)"
      ],
      "execution_count": null,
      "outputs": []
    },
    {
      "cell_type": "code",
      "metadata": {
        "id": "N4TY4o-G27qc"
      },
      "source": [
        "def duration(input):\n",
        "    return input.shape"
      ],
      "execution_count": null,
      "outputs": []
    },
    {
      "cell_type": "code",
      "metadata": {
        "id": "bRsdXWsx3B1v"
      },
      "source": [
        "def aavg(input):\n",
        "    return np.mean(np.abs(input), keepdims=True)"
      ],
      "execution_count": null,
      "outputs": []
    },
    {
      "cell_type": "code",
      "metadata": {
        "id": "vnTVZa6Z3Bu4"
      },
      "source": [
        "def sdev(input):\n",
        "    return np.std(input, keepdims = True)"
      ],
      "execution_count": null,
      "outputs": []
    },
    {
      "cell_type": "code",
      "metadata": {
        "id": "CnN-I2lV27gL"
      },
      "source": [
        "def crop(input, size =100):\n",
        "    output = input[0:min(size, input.shape[0])]        \n",
        "    # Aggiungo tanti zeri quanti ne passano tra la differenza tra la dimensione voluta e quella effettiva del file\n",
        "    output = np.concatenate((output, np.zeros(size - output.shape[0])))        \n",
        "    return output"
      ],
      "execution_count": null,
      "outputs": []
    },
    {
      "cell_type": "code",
      "metadata": {
        "id": "qSPNKJr-iR6o"
      },
      "source": [
        "def identity(input):\n",
        "    return input\n",
        "\n",
        "# Data loader\n",
        "def load_data(feature_extractor=identity, normalize=False):\n",
        "\n",
        "    labels = []\n",
        "    features = []\n",
        "    \n",
        "\n",
        "    for f in sorted(os.listdir(base_dir)):\n",
        "        if f.endswith('.mp3'):\n",
        "            # Load file and compute the requested features cambiare la duration\n",
        "            signal, sr = librosa.load(base_dir + f, duration= 7.0, sr=None)\n",
        "            cur_features = feature_extractor(signal)\n",
        "            features.append(cur_features)\n",
        "            print(f)\n",
        "            # Classes\n",
        "            label = re.search(r'^(\\d+)_([01])\\.mp3$', f).group(2)\n",
        "            labels.append(label)\n",
        "            #print(labels)\n",
        "\n",
        "\n",
        "    # X: features, y: labels\n",
        "    X_train, X_validation, y_train, y_validation = train_test_split(features, labels, test_size=0.3, random_state=1)\n",
        "\n",
        "    if normalize:\n",
        "        eps = 0.001\n",
        "        X_train = np.array(X_train)\n",
        "        X_train_mean = X_train.mean(axis=0)\n",
        "        X_train_std = X_train.std(axis=0)\n",
        "        X_train = (X_train - X_train_mean + eps)/(X_train_std + eps)\n",
        "        X_train = [row for row in X_train]\n",
        "\n",
        "        X_validation = [row for row in (np.array(X_validation) - X_train_mean + eps)/(X_train_std + eps)]\n",
        "\n",
        "    return X_train, X_validation, y_train, y_validation"
      ],
      "execution_count": null,
      "outputs": []
    },
    {
      "cell_type": "markdown",
      "metadata": {
        "id": "lIBTWS4L2yxp"
      },
      "source": [
        "## MODELLO 1"
      ]
    },
    {
      "cell_type": "markdown",
      "metadata": {
        "id": "l82aAMH5CYja"
      },
      "source": [
        "Se importiamo solo il dataloader senza aggiungere feature riusciamo a disegnare i diagrammi di MEL però perdiamo performance."
      ]
    },
    {
      "cell_type": "code",
      "metadata": {
        "colab": {
          "base_uri": "https://localhost:8080/"
        },
        "id": "u-I5RiQDjkMx",
        "outputId": "4109cc8b-477f-4caf-ee83-cd4c461e33c2"
      },
      "source": [
        "X_train, X_validation, y_train, y_validation = load_data(feature_extractor=combo, normalize = True)"
      ],
      "execution_count": null,
      "outputs": [
        {
          "output_type": "stream",
          "text": [
            "001_1.mp3\n",
            "002_1.mp3\n",
            "003_1.mp3\n",
            "004_1.mp3\n",
            "005_1.mp3\n",
            "006_1.mp3\n",
            "007_1.mp3\n",
            "008_1.mp3\n",
            "009_1.mp3\n",
            "010_1.mp3\n",
            "011_1.mp3\n",
            "012_1.mp3\n",
            "013_1.mp3\n",
            "014_1.mp3\n",
            "015_1.mp3\n",
            "016_1.mp3\n",
            "017_1.mp3\n",
            "018_1.mp3\n",
            "019_1.mp3\n",
            "020_1.mp3\n",
            "021_1.mp3\n",
            "022_1.mp3\n",
            "023_1.mp3\n",
            "024_1.mp3\n",
            "025_1.mp3\n",
            "555_0.mp3\n",
            "556_0.mp3\n",
            "557_0.mp3\n",
            "558_0.mp3\n",
            "559_0.mp3\n",
            "560_0.mp3\n",
            "561_0.mp3\n",
            "562_0.mp3\n",
            "563_0.mp3\n",
            "564_0.mp3\n",
            "565_0.mp3\n",
            "566_0.mp3\n",
            "567_0.mp3\n",
            "568_0.mp3\n",
            "569_0.mp3\n",
            "570_0.mp3\n",
            "571_0.mp3\n",
            "572_0.mp3\n",
            "573_0.mp3\n",
            "574_0.mp3\n",
            "575_0.mp3\n",
            "576_0.mp3\n",
            "577_0.mp3\n",
            "578_0.mp3\n",
            "579_0.mp3\n"
          ],
          "name": "stdout"
        }
      ]
    },
    {
      "cell_type": "code",
      "metadata": {
        "colab": {
          "base_uri": "https://localhost:8080/"
        },
        "id": "xTliRmnXBV9k",
        "outputId": "72338aba-d4e9-4939-c6a7-364d9280c28d"
      },
      "source": [
        "print(\"La frequenza di campionamento è: {}\".format(len(X_train[30])))"
      ],
      "execution_count": null,
      "outputs": [
        {
          "output_type": "stream",
          "text": [
            "La frequenza di campionamento è: 4\n"
          ],
          "name": "stdout"
        }
      ]
    },
    {
      "cell_type": "code",
      "metadata": {
        "id": "VRbMRd5BxmTP"
      },
      "source": [
        "param_grid = {'C': [1e2, 5e2, 1e3],\n",
        "            'gamma':[0.005, 0.01, 0.1, 0.5,1]}\n",
        "\n",
        "clf = SVC(kernel ='rbf', class_weight='balanced')\n",
        "clf = clf.fit(X_train, y_train)\n",
        "y_pred = clf.predict(X_validation)"
      ],
      "execution_count": null,
      "outputs": []
    },
    {
      "cell_type": "code",
      "metadata": {
        "colab": {
          "base_uri": "https://localhost:8080/"
        },
        "id": "fJxch3syx8ks",
        "outputId": "d993143c-7a1f-490f-a687-8a704458e3fd"
      },
      "source": [
        "print(classification_report(y_validation, y_pred))"
      ],
      "execution_count": null,
      "outputs": [
        {
          "output_type": "stream",
          "text": [
            "              precision    recall  f1-score   support\n",
            "\n",
            "           0       1.00      0.91      0.95        11\n",
            "           1       0.80      1.00      0.89         4\n",
            "\n",
            "    accuracy                           0.93        15\n",
            "   macro avg       0.90      0.95      0.92        15\n",
            "weighted avg       0.95      0.93      0.94        15\n",
            "\n"
          ],
          "name": "stdout"
        }
      ]
    },
    {
      "cell_type": "markdown",
      "metadata": {
        "id": "LEbzEviN19TS"
      },
      "source": [
        "Ora vanno aggiunte più feature durante il data loader"
      ]
    },
    {
      "cell_type": "code",
      "metadata": {
        "colab": {
          "base_uri": "https://localhost:8080/",
          "height": 232
        },
        "id": "82iQE_cLyPzu",
        "outputId": "5e16592b-2a55-46eb-bc0e-ef6a54ced518"
      },
      "source": [
        "cm = confusion_matrix(y_validation, y_pred)\n",
        "\n",
        "fig = plt.figure(figsize = (6,6))\n",
        "ax = plt.subplot()\n",
        "sns.heatmap(cm, annot=True, annot_kws={\"size\": 16},\n",
        "           linewidths=.1, cmap=\"YlGnBu\")\n",
        "plt.xlabel(\"True Class\", size = 15)\n",
        "plt.ylabel(\"Predicted Class\", size = 15)\n",
        "plt.xticks(size = 12)\n",
        "plt.yticks(size = 12)\n",
        "ax.yaxis.set_ticklabels(['Letto', 'Improvvisato']) \n",
        "ax.xaxis.set_ticklabels(['Letto', 'Improvvisato']) \n",
        "#ax.set_yticklabels(['Letto', 'Improvvisato'], rotation=90, ha='right', minor=False)\n",
        "\n",
        "plt.title(\"Confusion matrix\", size = 20)"
      ],
      "execution_count": null,
      "outputs": [
        {
          "output_type": "error",
          "ename": "NameError",
          "evalue": "ignored",
          "traceback": [
            "\u001b[0;31m---------------------------------------------------------------------------\u001b[0m",
            "\u001b[0;31mNameError\u001b[0m                                 Traceback (most recent call last)",
            "\u001b[0;32m<ipython-input-224-76d4106f4132>\u001b[0m in \u001b[0;36m<module>\u001b[0;34m()\u001b[0m\n\u001b[0;32m----> 1\u001b[0;31m \u001b[0mcm\u001b[0m \u001b[0;34m=\u001b[0m \u001b[0mconfusion_matrix\u001b[0m\u001b[0;34m(\u001b[0m\u001b[0my_validation\u001b[0m\u001b[0;34m,\u001b[0m \u001b[0my_pred\u001b[0m\u001b[0;34m)\u001b[0m\u001b[0;34m\u001b[0m\u001b[0;34m\u001b[0m\u001b[0m\n\u001b[0m\u001b[1;32m      2\u001b[0m \u001b[0;34m\u001b[0m\u001b[0m\n\u001b[1;32m      3\u001b[0m \u001b[0mfig\u001b[0m \u001b[0;34m=\u001b[0m \u001b[0mplt\u001b[0m\u001b[0;34m.\u001b[0m\u001b[0mfigure\u001b[0m\u001b[0;34m(\u001b[0m\u001b[0mfigsize\u001b[0m \u001b[0;34m=\u001b[0m \u001b[0;34m(\u001b[0m\u001b[0;36m6\u001b[0m\u001b[0;34m,\u001b[0m\u001b[0;36m6\u001b[0m\u001b[0;34m)\u001b[0m\u001b[0;34m)\u001b[0m\u001b[0;34m\u001b[0m\u001b[0;34m\u001b[0m\u001b[0m\n\u001b[1;32m      4\u001b[0m \u001b[0max\u001b[0m \u001b[0;34m=\u001b[0m \u001b[0mplt\u001b[0m\u001b[0;34m.\u001b[0m\u001b[0msubplot\u001b[0m\u001b[0;34m(\u001b[0m\u001b[0;34m)\u001b[0m\u001b[0;34m\u001b[0m\u001b[0;34m\u001b[0m\u001b[0m\n\u001b[1;32m      5\u001b[0m sns.heatmap(cm, annot=True, annot_kws={\"size\": 16},\n",
            "\u001b[0;31mNameError\u001b[0m: name 'y_pred' is not defined"
          ]
        }
      ]
    },
    {
      "cell_type": "markdown",
      "metadata": {
        "id": "_5sfKySD8wop"
      },
      "source": [
        "Sarebbe interessante tenere una feature che senta il numero di silenzi"
      ]
    },
    {
      "cell_type": "markdown",
      "metadata": {
        "id": "UdFfvATy_Pbv"
      },
      "source": [
        "## Spectrogram\n",
        "\n",
        "Proviamo a fare degli spettrogrammi. Per farlo dobbiamo reimportare nuovamente i dati ma senza aggiungere feature"
      ]
    },
    {
      "cell_type": "code",
      "metadata": {
        "colab": {
          "base_uri": "https://localhost:8080/"
        },
        "id": "20e-ibwTClmn",
        "outputId": "d9ce5498-596f-4bf9-d2e9-295feab8858b"
      },
      "source": [
        "#X_train, X_validation, y_train, y_validation = load_data()"
      ],
      "execution_count": null,
      "outputs": [
        {
          "output_type": "stream",
          "text": [
            "001_1.mp3\n",
            "002_1.mp3\n",
            "003_1.mp3\n",
            "004_1.mp3\n",
            "005_1.mp3\n",
            "006_1.mp3\n",
            "007_1.mp3\n",
            "008_1.mp3\n",
            "009_1.mp3\n",
            "010_1.mp3\n",
            "011_1.mp3\n",
            "012_1.mp3\n",
            "013_1.mp3\n",
            "014_1.mp3\n",
            "015_1.mp3\n",
            "016_1.mp3\n",
            "017_1.mp3\n",
            "018_1.mp3\n",
            "019_1.mp3\n",
            "020_1.mp3\n",
            "021_1.mp3\n",
            "022_1.mp3\n",
            "023_1.mp3\n",
            "024_1.mp3\n",
            "025_1.mp3\n",
            "555_0.mp3\n",
            "556_0.mp3\n",
            "557_0.mp3\n",
            "558_0.mp3\n",
            "559_0.mp3\n",
            "560_0.mp3\n",
            "561_0.mp3\n",
            "562_0.mp3\n",
            "563_0.mp3\n",
            "564_0.mp3\n",
            "565_0.mp3\n",
            "566_0.mp3\n",
            "567_0.mp3\n",
            "568_0.mp3\n",
            "569_0.mp3\n",
            "570_0.mp3\n",
            "571_0.mp3\n",
            "572_0.mp3\n",
            "573_0.mp3\n",
            "574_0.mp3\n",
            "575_0.mp3\n",
            "576_0.mp3\n",
            "577_0.mp3\n",
            "578_0.mp3\n",
            "579_0.mp3\n"
          ],
          "name": "stdout"
        }
      ]
    },
    {
      "cell_type": "code",
      "metadata": {
        "id": "51dJ83II2ZU3"
      },
      "source": [
        "#spect = librosa.feature.melspectrogram(y=X_train[2], n_mels=128)"
      ],
      "execution_count": null,
      "outputs": []
    },
    {
      "cell_type": "code",
      "metadata": {
        "colab": {
          "base_uri": "https://localhost:8080/",
          "height": 312
        },
        "id": "oVcwZCQZ_t9s",
        "outputId": "d0597ef5-b2ac-4626-e042-1ce29976cf65"
      },
      "source": [
        "#fig, ax = plt.subplots()\n",
        "#S_dB = librosa.power_to_db(spect, ref=np.max)\n",
        "#img = librosa.display.specshow(S_dB, x_axis='time', y_axis='mel', ax=ax)\n",
        "#plt.colorbar(img, ax=ax, format='%+2.0f dB')\n",
        "#ax.set(title='Mel-frequency spectrogram')"
      ],
      "execution_count": null,
      "outputs": [
        {
          "output_type": "execute_result",
          "data": {
            "text/plain": [
              "[Text(0.5, 1.0, 'Mel-frequency spectrogram')]"
            ]
          },
          "metadata": {
            "tags": []
          },
          "execution_count": 17
        },
        {
          "output_type": "display_data",
          "data": {
            "image/png": "[encoded data removed]",
            "text/plain": [
              "<Figure size 432x288 with 1 Axes>"
            ]
          },
          "metadata": {
            "tags": []
          }
        }
      ]
    },
    {
      "cell_type": "code",
      "metadata": {
        "id": "RhE6d3MB_7fb"
      },
      "source": [
        "def create_spect():\n",
        "  for f in sorted(os.listdir(base_dir)):\n",
        "    if f.endswith('.mp3'):\n",
        "            signal, sr = librosa.load(base_dir + f, duration= 7.0, sr=None) \n",
        "            print(f)\n",
        "            name = re.search(r'^(\\d+)_([01])\\.mp3$', f).group(1)\n",
        "            label = re.search(r'^(\\d+)_([01])\\.mp3$', f).group(2)\n",
        "            spect = librosa.feature.melspectrogram(y=signal, n_mels=128)\n",
        "            fig = plt.figure(figsize=(4,4))\n",
        "            ax = fig.add_subplot(111)\n",
        "            ax.axes.get_xaxis().set_visible(False)\n",
        "            ax.axes.get_yaxis().set_visible(False)\n",
        "            ax.set_frame_on(False)\n",
        "            S_dB = librosa.power_to_db(spect, ref=np.max)\n",
        "            img = librosa.display.specshow(S_dB, x_axis='time', y_axis='mel', ax=ax)\n",
        "            if int(label) == 0:\n",
        "              fig.savefig(\"gdrive/MyDrive/spectrograms/letto/{}_{}.png\".format(name, label), dpi = 100)\n",
        "            else:\n",
        "              fig.savefig(\"gdrive/MyDrive/spectrograms/improvvisato/{}_{}.png\".format(name, label), dpi = 100)\n",
        "            plt.close(\"all\")"
      ],
      "execution_count": null,
      "outputs": []
    },
    {
      "cell_type": "code",
      "metadata": {
        "colab": {
          "base_uri": "https://localhost:8080/"
        },
        "id": "iQAxdO8dGV0S",
        "outputId": "bf5afdcd-10c7-4912-bca8-2a6e60c83485"
      },
      "source": [
        "create_spect()"
      ],
      "execution_count": null,
      "outputs": [
        {
          "output_type": "stream",
          "text": [
            "001_1.mp3\n",
            "002_1.mp3\n",
            "003_1.mp3\n",
            "004_1.mp3\n",
            "005_1.mp3\n",
            "006_1.mp3\n",
            "007_1.mp3\n",
            "008_1.mp3\n",
            "009_1.mp3\n",
            "010_1.mp3\n",
            "011_1.mp3\n",
            "012_1.mp3\n",
            "013_1.mp3\n",
            "014_1.mp3\n",
            "015_1.mp3\n",
            "016_1.mp3\n",
            "017_1.mp3\n",
            "018_1.mp3\n",
            "019_1.mp3\n",
            "020_1.mp3\n",
            "021_1.mp3\n",
            "022_1.mp3\n",
            "023_1.mp3\n",
            "024_1.mp3\n",
            "025_1.mp3\n",
            "026_1.mp3\n",
            "027_1.mp3\n",
            "028_1.mp3\n",
            "029_1.mp3\n",
            "030_1.mp3\n",
            "031_1.mp3\n",
            "032_1.mp3\n",
            "033_1.mp3\n",
            "034_1.mp3\n",
            "035_1.mp3\n",
            "036_1.mp3\n",
            "037_1.mp3\n",
            "038_1.mp3\n",
            "039_1.mp3\n",
            "040_1.mp3\n",
            "041_1.mp3\n",
            "042_1.mp3\n",
            "043_1.mp3\n",
            "044_1.mp3\n",
            "045_1.mp3\n",
            "046_1.mp3\n",
            "047_1.mp3\n",
            "048_1.mp3\n",
            "049_1.mp3\n",
            "050_1.mp3\n",
            "051_1.mp3\n",
            "052_1.mp3\n",
            "053_1.mp3\n",
            "054_1.mp3\n",
            "055_1.mp3\n",
            "056_1.mp3\n",
            "057_1.mp3\n",
            "058_1.mp3\n",
            "059_1.mp3\n",
            "060_1.mp3\n",
            "061_1.mp3\n",
            "062_1.mp3\n",
            "063_1.mp3\n",
            "064_1.mp3\n",
            "065_1.mp3\n",
            "066_1.mp3\n",
            "067_1.mp3\n",
            "068_1.mp3\n",
            "069_1.mp3\n",
            "070_1.mp3\n",
            "071_1.mp3\n",
            "072_1.mp3\n",
            "073_1.mp3\n",
            "074_1.mp3\n",
            "075_1.mp3\n",
            "076_1.mp3\n",
            "077_1.mp3\n",
            "078_1.mp3\n",
            "079_1.mp3\n",
            "080_1.mp3\n",
            "081_1.mp3\n",
            "082_1.mp3\n",
            "083_1.mp3\n",
            "084_1.mp3\n",
            "085_1.mp3\n",
            "086_1.mp3\n",
            "087_1.mp3\n",
            "088_1.mp3\n",
            "089_1.mp3\n",
            "090_1.mp3\n",
            "091_1.mp3\n",
            "092_1.mp3\n",
            "093_1.mp3\n",
            "094_1.mp3\n",
            "095_1.mp3\n",
            "096_1.mp3\n",
            "097_1.mp3\n",
            "098_1.mp3\n",
            "099_1.mp3\n",
            "100_0.mp3\n",
            "101_1.mp3\n",
            "102_1.mp3\n",
            "103_1.mp3\n",
            "104_1.mp3\n",
            "105_1.mp3\n",
            "106_1.mp3\n",
            "107_1.mp3\n",
            "108_1.mp3\n",
            "109_1.mp3\n",
            "110_1.mp3\n",
            "111_1.mp3\n",
            "112_1.mp3\n",
            "113_1.mp3\n",
            "114_1.mp3\n",
            "115_1.mp3\n",
            "116_1.mp3\n",
            "117_1.mp3\n",
            "118_1.mp3\n",
            "119_1.mp3\n",
            "120_1.mp3\n",
            "121_1.mp3\n",
            "122_1.mp3\n",
            "123_1.mp3\n",
            "124_1.mp3\n",
            "125_1.mp3\n",
            "126_1.mp3\n",
            "127_1.mp3\n",
            "128_1.mp3\n",
            "129_1.mp3\n",
            "130_1.mp3\n",
            "131_1.mp3\n",
            "132_1.mp3\n",
            "133_1.mp3\n",
            "134_1.mp3\n",
            "135_1.mp3\n",
            "136_1.mp3\n",
            "137_1.mp3\n",
            "138_1.mp3\n",
            "139_1.mp3\n",
            "140_1.mp3\n",
            "141_1.mp3\n",
            "142_1.mp3\n",
            "143_1.mp3\n",
            "144_1.mp3\n",
            "145_1.mp3\n",
            "146_1.mp3\n",
            "147_1.mp3\n",
            "148_1.mp3\n",
            "149_1.mp3\n",
            "150_1.mp3\n",
            "151_1.mp3\n",
            "152_1.mp3\n",
            "153_1.mp3\n",
            "154_1.mp3\n",
            "155_1.mp3\n",
            "156_1.mp3\n",
            "157_1.mp3\n",
            "158_1.mp3\n",
            "159_1.mp3\n",
            "160_1.mp3\n",
            "161_1.mp3\n",
            "162_1.mp3\n",
            "163_1.mp3\n",
            "164_1.mp3\n",
            "165_1.mp3\n",
            "166_1.mp3\n",
            "167_1.mp3\n",
            "168_1.mp3\n",
            "169_1.mp3\n",
            "170_1.mp3\n",
            "171_1.mp3\n",
            "172_1.mp3\n",
            "173_1.mp3\n",
            "174_1.mp3\n",
            "175_1.mp3\n",
            "176_1.mp3\n",
            "177_1.mp3\n",
            "178_1.mp3\n",
            "179_1.mp3\n",
            "180_1.mp3\n",
            "181_1.mp3\n",
            "182_1.mp3\n",
            "183_1.mp3\n",
            "184_1.mp3\n",
            "185_1.mp3\n",
            "186_1.mp3\n",
            "187_1.mp3\n",
            "188_1.mp3\n",
            "189_1.mp3\n",
            "190_1.mp3\n",
            "191_1.mp3\n",
            "192_1.mp3\n",
            "193_1.mp3\n",
            "194_1.mp3\n",
            "195_1.mp3\n",
            "196_1.mp3\n",
            "197_1.mp3\n",
            "198_1.mp3\n",
            "199_1.mp3\n",
            "200_1.mp3\n",
            "201_1.mp3\n",
            "202_1.mp3\n",
            "203_1.mp3\n",
            "204_1.mp3\n",
            "205_1.mp3\n",
            "206_1.mp3\n",
            "207_1.mp3\n",
            "208_1.mp3\n",
            "209_1.mp3\n",
            "210_1.mp3\n",
            "211_1.mp3\n",
            "212_1.mp3\n",
            "213_1.mp3\n",
            "214_1.mp3\n",
            "215_1.mp3\n",
            "216_1.mp3\n",
            "217_1.mp3\n",
            "218_1.mp3\n",
            "219_1.mp3\n",
            "220_1.mp3\n",
            "221_1.mp3\n",
            "222_1.mp3\n",
            "223_1.mp3\n",
            "224_1.mp3\n",
            "225_1.mp3\n",
            "226_1.mp3\n",
            "227_1.mp3\n",
            "228_1.mp3\n",
            "229_1.mp3\n",
            "230_1.mp3\n",
            "231_1.mp3\n",
            "232_1.mp3\n",
            "233_1.mp3\n",
            "234_1.mp3\n",
            "235_1.mp3\n",
            "236_1.mp3\n",
            "237_1.mp3\n",
            "238_1.mp3\n",
            "239_1.mp3\n",
            "240_1.mp3\n",
            "241_1.mp3\n",
            "242_1.mp3\n",
            "243_1.mp3\n",
            "244_1.mp3\n",
            "245_1.mp3\n",
            "246_1.mp3\n",
            "247_1.mp3\n",
            "248_1.mp3\n",
            "249_1.mp3\n",
            "250_1.mp3\n",
            "251_1.mp3\n",
            "252_1.mp3\n",
            "253_1.mp3\n",
            "254_1.mp3\n",
            "255_1.mp3\n",
            "256_1.mp3\n",
            "257_1.mp3\n",
            "258_1.mp3\n",
            "259_1.mp3\n",
            "260_1.mp3\n",
            "261_1.mp3\n",
            "262_1.mp3\n",
            "263_1.mp3\n",
            "264_1.mp3\n",
            "265_1.mp3\n",
            "266_1.mp3\n",
            "267_1.mp3\n",
            "268_1.mp3\n",
            "269_1.mp3\n",
            "270_1.mp3\n",
            "271_1.mp3\n",
            "272_1.mp3\n",
            "273_1.mp3\n",
            "274_1.mp3\n",
            "275_1.mp3\n",
            "276_1.mp3\n",
            "277_1.mp3\n",
            "278_1.mp3\n",
            "279_1.mp3\n",
            "280_1.mp3\n",
            "281_1.mp3\n",
            "282_1.mp3\n",
            "283_1.mp3\n",
            "284_1.mp3\n",
            "285_1.mp3\n",
            "286_1.mp3\n",
            "287_1.mp3\n",
            "288_1.mp3\n",
            "289_1.mp3\n",
            "290_1.mp3\n",
            "291_1.mp3\n",
            "292_1.mp3\n",
            "293_1.mp3\n",
            "294_1.mp3\n",
            "295_1.mp3\n",
            "296_1.mp3\n",
            "297_1.mp3\n",
            "298_1.mp3\n",
            "299_1.mp3\n",
            "300_1.mp3\n",
            "301_1.mp3\n",
            "302_1.mp3\n",
            "303_1.mp3\n",
            "304_1.mp3\n",
            "305_1.mp3\n",
            "306_1.mp3\n",
            "307_1.mp3\n",
            "308_1.mp3\n",
            "309_1.mp3\n",
            "310_1.mp3\n",
            "311_1.mp3\n",
            "312_1.mp3\n",
            "313_1.mp3\n",
            "314_1.mp3\n",
            "315_1.mp3\n",
            "316_1.mp3\n",
            "317_1.mp3\n",
            "318_1.mp3\n",
            "319_1.mp3\n",
            "320_1.mp3\n",
            "321_1.mp3\n",
            "322_0.mp3\n",
            "323_0.mp3\n",
            "324_0.mp3\n",
            "325_0.mp3\n",
            "326_0.mp3\n",
            "327_0.mp3\n",
            "328_0.mp3\n",
            "329_0.mp3\n",
            "330_0.mp3\n",
            "331_1.mp3\n",
            "332_1.mp3\n",
            "333_1.mp3\n",
            "335_1.mp3\n",
            "336_1.mp3\n",
            "337_1.mp3\n",
            "338_1.mp3\n",
            "339_1.mp3\n",
            "340_0.mp3\n",
            "341_0.mp3\n",
            "344_0.mp3\n",
            "345_0.mp3\n",
            "346_0.mp3\n",
            "347_0.mp3\n",
            "348_0.mp3\n",
            "349_0.mp3\n",
            "350_0.mp3\n",
            "351_0.mp3\n",
            "352_0.mp3\n",
            "353_0.mp3\n",
            "354_0.mp3\n",
            "355_0.mp3\n",
            "356_0.mp3\n",
            "357_0.mp3\n",
            "358_0.mp3\n",
            "359_0.mp3\n",
            "360_0.mp3\n",
            "361_0.mp3\n",
            "362_0.mp3\n",
            "363_0.mp3\n",
            "364_0.mp3\n",
            "365_0.mp3\n",
            "366_0.mp3\n",
            "367_0.mp3\n",
            "368_0.mp3\n",
            "369_0.mp3\n",
            "370_0.mp3\n",
            "371_0.mp3\n",
            "372_0.mp3\n",
            "373_0.mp3\n",
            "374_0.mp3\n",
            "375_0.mp3\n",
            "376_0.mp3\n",
            "377_0.mp3\n",
            "378_0.mp3\n",
            "379_0.mp3\n",
            "380_0.mp3\n",
            "381_0.mp3\n",
            "382_0.mp3\n",
            "383_0.mp3\n",
            "384_0.mp3\n",
            "385_0.mp3\n",
            "386_0.mp3\n",
            "387_0.mp3\n",
            "388_0.mp3\n",
            "389_0.mp3\n",
            "390_0.mp3\n",
            "391_0.mp3\n",
            "392_0.mp3\n",
            "393_0.mp3\n",
            "394_0.mp3\n",
            "395_0.mp3\n",
            "396_0.mp3\n",
            "397_0.mp3\n",
            "398_0.mp3\n",
            "399_0.mp3\n",
            "400_0.mp3\n",
            "401_0.mp3\n",
            "402_0.mp3\n",
            "403_0.mp3\n",
            "404_0.mp3\n",
            "405_0.mp3\n",
            "406_0.mp3\n",
            "407_0.mp3\n",
            "408_0.mp3\n",
            "409_0.mp3\n",
            "410_0.mp3\n",
            "411_0.mp3\n",
            "412_0.mp3\n",
            "413_0.mp3\n",
            "414_0.mp3\n",
            "415_0.mp3\n",
            "416_0.mp3\n",
            "417_0.mp3\n",
            "418_0.mp3\n",
            "419_0.mp3\n",
            "420_0.mp3\n",
            "421_0.mp3\n",
            "422_0.mp3\n",
            "423_0.mp3\n",
            "424_0.mp3\n",
            "425_0.mp3\n",
            "426_0.mp3\n",
            "427_0.mp3\n",
            "428_0.mp3\n",
            "429_0.mp3\n",
            "430_0.mp3\n",
            "431_0.mp3\n",
            "432_0.mp3\n",
            "433_0.mp3\n",
            "434_0.mp3\n",
            "435_0.mp3\n",
            "436_0.mp3\n",
            "437_0.mp3\n",
            "438_0.mp3\n",
            "439_1.mp3\n",
            "440_1.mp3\n",
            "441_1.mp3\n",
            "442_1.mp3\n",
            "443_1.mp3\n",
            "444_1.mp3\n",
            "445_1.mp3\n",
            "446_1.mp3\n",
            "447_1.mp3\n",
            "448_1.mp3\n",
            "449_1.mp3\n",
            "450_1.mp3\n",
            "451_1.mp3\n",
            "452_1.mp3\n",
            "453_1.mp3\n",
            "454_1.mp3\n",
            "455_1.mp3\n",
            "456_1.mp3\n",
            "457_1.mp3\n",
            "458_1.mp3\n",
            "459_1.mp3\n",
            "460_1.mp3\n",
            "461_1.mp3\n",
            "462_1.mp3\n",
            "463_1.mp3\n",
            "464_1.mp3\n",
            "465_1.mp3\n",
            "466_1.mp3\n",
            "467_1.mp3\n",
            "468_1.mp3\n",
            "469_1.mp3\n",
            "470_1.mp3\n",
            "471_1.mp3\n",
            "472_1.mp3\n",
            "473_1.mp3\n",
            "474_1.mp3\n",
            "475_1.mp3\n",
            "476_1.mp3\n",
            "477_1.mp3\n",
            "478_1.mp3\n",
            "479_1.mp3\n",
            "480_1.mp3\n",
            "481_1.mp3\n",
            "482_1.mp3\n",
            "483_1.mp3\n",
            "484_1.mp3\n",
            "485_1.mp3\n",
            "486_1.mp3\n",
            "487_1.mp3\n",
            "488_1.mp3\n",
            "489_1.mp3\n",
            "490_1.mp3\n",
            "491_1.mp3\n",
            "492_1.mp3\n",
            "493_1.mp3\n",
            "494_1.mp3\n",
            "495_1.mp3\n",
            "496_1.mp3\n",
            "497_1.mp3\n",
            "498_1.mp3\n",
            "499_1.mp3\n",
            "500_0.mp3\n",
            "501_1.mp3\n",
            "502_1.mp3\n",
            "503_1.mp3\n",
            "504_1.mp3\n",
            "505_1.mp3\n",
            "506_1.mp3\n",
            "507_1.mp3\n",
            "508_1.mp3\n",
            "509_1.mp3\n",
            "510_1.mp3\n",
            "511_0.mp3\n",
            "512_0.mp3\n",
            "513_0.mp3\n",
            "514_0.mp3\n",
            "515_0.mp3\n",
            "516_0.mp3\n",
            "517_0.mp3\n",
            "518_0.mp3\n",
            "519_0.mp3\n",
            "520_0.mp3\n",
            "521_0.mp3\n",
            "522_0.mp3\n",
            "523_0.mp3\n",
            "524_0.mp3\n",
            "525_0.mp3\n",
            "526_0.mp3\n",
            "527_0.mp3\n",
            "528_0.mp3\n",
            "529_0.mp3\n",
            "530_0.mp3\n",
            "531_0.mp3\n",
            "532_0.mp3\n",
            "533_0.mp3\n",
            "534_0.mp3\n",
            "535_0.mp3\n",
            "536_0.mp3\n",
            "537_0.mp3\n",
            "538_0.mp3\n",
            "539_0.mp3\n",
            "540_0.mp3\n",
            "541_0.mp3\n",
            "542_0.mp3\n",
            "543_0.mp3\n",
            "544_0.mp3\n",
            "545_0.mp3\n",
            "546_0.mp3\n",
            "547_0.mp3\n",
            "548_0.mp3\n",
            "549_0.mp3\n",
            "550_0.mp3\n",
            "551_0.mp3\n",
            "552_0.mp3\n",
            "553_0.mp3\n",
            "554_0.mp3\n",
            "555_0.mp3\n",
            "556_0.mp3\n",
            "557_0.mp3\n",
            "558_0.mp3\n",
            "559_0.mp3\n",
            "560_0.mp3\n",
            "561_0.mp3\n",
            "562_0.mp3\n",
            "563_0.mp3\n",
            "564_0.mp3\n",
            "565_0.mp3\n",
            "566_0.mp3\n",
            "567_0.mp3\n",
            "568_0.mp3\n",
            "569_0.mp3\n",
            "570_0.mp3\n",
            "571_0.mp3\n",
            "572_0.mp3\n",
            "573_0.mp3\n",
            "574_0.mp3\n",
            "575_0.mp3\n",
            "576_0.mp3\n",
            "577_0.mp3\n",
            "578_0.mp3\n",
            "579_0.mp3\n",
            "580_0.mp3\n",
            "581_0.mp3\n",
            "582_0.mp3\n",
            "583_0.mp3\n",
            "584_0.mp3\n",
            "585_0.mp3\n",
            "586_0.mp3\n",
            "587_0.mp3\n",
            "588_0.mp3\n",
            "589_0.mp3\n",
            "590_0.mp3\n",
            "591_0.mp3\n",
            "592_0.mp3\n",
            "593_0.mp3\n",
            "594_0.mp3\n",
            "595_0.mp3\n",
            "596_0.mp3\n",
            "597_0.mp3\n",
            "598_0.mp3\n",
            "599_0.mp3\n",
            "600_0.mp3\n",
            "601_0.mp3\n",
            "602_0.mp3\n",
            "603_0.mp3\n",
            "604_1.mp3\n",
            "605_0.mp3\n",
            "606_0.mp3\n",
            "607_0.mp3\n",
            "608_0.mp3\n",
            "609_0.mp3\n",
            "610_0.mp3\n",
            "611_0.mp3\n",
            "612_0.mp3\n",
            "613_0.mp3\n",
            "614_0.mp3\n",
            "615_0.mp3\n",
            "616_0.mp3\n",
            "617_0.mp3\n",
            "618_0.mp3\n",
            "619_0.mp3\n",
            "620_0.mp3\n",
            "621_0.mp3\n",
            "622_0.mp3\n",
            "623_0.mp3\n",
            "624_0.mp3\n",
            "625_0.mp3\n",
            "626_0.mp3\n",
            "627_0.mp3\n",
            "628_0.mp3\n",
            "629_0.mp3\n",
            "630_0.mp3\n",
            "631_0.mp3\n",
            "632_0.mp3\n",
            "633_0.mp3\n",
            "634_0.mp3\n",
            "635_0.mp3\n",
            "636_0.mp3\n",
            "637_0.mp3\n",
            "638_0.mp3\n",
            "639_0.mp3\n",
            "640_0.mp3\n",
            "641_0.mp3\n",
            "642_0.mp3\n",
            "643_0.mp3\n",
            "644_0.mp3\n",
            "645_0.mp3\n",
            "646_0.mp3\n",
            "647_0.mp3\n",
            "648_0.mp3\n",
            "649_0.mp3\n",
            "650_0.mp3\n",
            "651_0.mp3\n",
            "652_0.mp3\n",
            "653_0.mp3\n",
            "654_0.mp3\n",
            "655_0.mp3\n",
            "656_0.mp3\n",
            "657_0.mp3\n",
            "658_0.mp3\n",
            "659_0.mp3\n",
            "660_0.mp3\n",
            "661_0.mp3\n",
            "662_0.mp3\n",
            "663_0.mp3\n",
            "664_0.mp3\n",
            "665_0.mp3\n",
            "666_0.mp3\n",
            "667_0.mp3\n",
            "668_0.mp3\n",
            "669_0.mp3\n",
            "670_0.mp3\n",
            "671_0.mp3\n",
            "672_0.mp3\n",
            "673_0.mp3\n",
            "674_0.mp3\n",
            "675_0.mp3\n",
            "676_0.mp3\n",
            "677_0.mp3\n",
            "678_0.mp3\n",
            "679_0.mp3\n",
            "680_0.mp3\n",
            "681_0.mp3\n",
            "682_0.mp3\n",
            "683_0.mp3\n",
            "684_0.mp3\n",
            "685_0.mp3\n",
            "686_0.mp3\n",
            "687_0.mp3\n",
            "688_0.mp3\n",
            "689_0.mp3\n",
            "690_0.mp3\n",
            "691_0.mp3\n",
            "692_0.mp3\n",
            "693_0.mp3\n",
            "694_0.mp3\n",
            "695_0.mp3\n",
            "696_0.mp3\n",
            "697_0.mp3\n",
            "698_0.mp3\n",
            "699_0.mp3\n",
            "700_0.mp3\n",
            "701_0.mp3\n",
            "702_0.mp3\n",
            "703_0.mp3\n",
            "704_0.mp3\n",
            "705_0.mp3\n",
            "706_0.mp3\n",
            "707_0.mp3\n",
            "708_0.mp3\n",
            "709_0.mp3\n",
            "710_0.mp3\n",
            "711_0.mp3\n",
            "712_0.mp3\n",
            "713_0.mp3\n",
            "714_0.mp3\n",
            "715_0.mp3\n",
            "716_0.mp3\n",
            "717_0.mp3\n",
            "718_0.mp3\n",
            "719_0.mp3\n",
            "720_0.mp3\n",
            "721_0.mp3\n",
            "722_0.mp3\n",
            "723_0.mp3\n",
            "724_0.mp3\n",
            "725_0.mp3\n",
            "726_0.mp3\n",
            "727_0.mp3\n",
            "728_0.mp3\n",
            "729_0.mp3\n",
            "730_0.mp3\n",
            "731_0.mp3\n",
            "732_0.mp3\n",
            "733_0.mp3\n",
            "734_0.mp3\n",
            "735_0.mp3\n",
            "736_0.mp3\n",
            "737_0.mp3\n",
            "738_0.mp3\n",
            "739_0.mp3\n",
            "740_0.mp3\n",
            "741_0.mp3\n",
            "742_0.mp3\n",
            "743_0.mp3\n",
            "744_0.mp3\n",
            "745_0.mp3\n",
            "746_0.mp3\n",
            "747_0.mp3\n",
            "748_0.mp3\n",
            "749_0.mp3\n",
            "750_0.mp3\n",
            "751_0.mp3\n",
            "752_0.mp3\n",
            "753_0.mp3\n",
            "754_0.mp3\n",
            "755_0.mp3\n",
            "756_0.mp3\n",
            "757_0.mp3\n",
            "758_0.mp3\n",
            "759_0.mp3\n",
            "760_0.mp3\n",
            "761_0.mp3\n",
            "762_0.mp3\n",
            "763_0.mp3\n",
            "764_0.mp3\n",
            "765_0.mp3\n",
            "766_0.mp3\n",
            "767_0.mp3\n",
            "768_0.mp3\n",
            "769_0.mp3\n",
            "770_0.mp3\n",
            "771_0.mp3\n",
            "772_0.mp3\n",
            "773_0.mp3\n",
            "774_0.mp3\n",
            "775_0.mp3\n",
            "776_0.mp3\n",
            "777_0.mp3\n",
            "778_0.mp3\n",
            "779_0.mp3\n",
            "780_0.mp3\n",
            "781_0.mp3\n",
            "782_0.mp3\n",
            "783_0.mp3\n",
            "784_0.mp3\n",
            "785_0.mp3\n",
            "786_0.mp3\n",
            "787_0.mp3\n",
            "788_0.mp3\n",
            "789_0.mp3\n",
            "790_0.mp3\n",
            "791_0.mp3\n",
            "792_0.mp3\n",
            "793_0.mp3\n",
            "794_0.mp3\n",
            "795_0.mp3\n",
            "796_0.mp3\n",
            "797_0.mp3\n",
            "798_0.mp3\n",
            "799_0.mp3\n",
            "800_0.mp3\n",
            "801_0.mp3\n",
            "802_0.mp3\n",
            "803_0.mp3\n"
          ],
          "name": "stdout"
        }
      ]
    },
    {
      "cell_type": "markdown",
      "metadata": {
        "id": "-jqh02RfPxsN"
      },
      "source": [
        "## Split\n",
        "\n",
        "Splittiamo ora la cartella spectrograms"
      ]
    },
    {
      "cell_type": "code",
      "metadata": {
        "colab": {
          "base_uri": "https://localhost:8080/"
        },
        "id": "qoVIdg_5xzR2",
        "outputId": "9c5c621e-fd3d-4b3a-dcc0-500b41bd2d07"
      },
      "source": [
        "!pip install split-folders"
      ],
      "execution_count": null,
      "outputs": [
        {
          "output_type": "stream",
          "text": [
            "Collecting split-folders\n",
            "  Downloading https://files.pythonhosted.org/packages/b8/5f/3c2b2f7ea5e047c8cdc3bb00ae582c5438fcdbbedcc23b3cc1c2c7aae642/split_folders-0.4.3-py3-none-any.whl\n",
            "Installing collected packages: split-folders\n",
            "Successfully installed split-folders-0.4.3\n"
          ],
          "name": "stdout"
        }
      ]
    },
    {
      "cell_type": "code",
      "metadata": {
        "id": "5sd8gg0FPwVF",
        "colab": {
          "base_uri": "https://localhost:8080/"
        },
        "outputId": "4e5ee5ac-ac40-4e70-f17d-236b29a2eaba"
      },
      "source": [
        "import splitfolders\n",
        "splitfolders.ratio(\"gdrive/MyDrive/spectrograms\", output=\"gdrive/MyDrive/spectrograms_model\", ratio=(0.6, 0.3, 0.1))"
      ],
      "execution_count": null,
      "outputs": [
        {
          "output_type": "stream",
          "text": [
            "Copying files: 800 files [00:10, 73.44 files/s]\n"
          ],
          "name": "stderr"
        }
      ]
    },
    {
      "cell_type": "markdown",
      "metadata": {
        "id": "_dfnp-NjH44h"
      },
      "source": [
        "# KERAS\n",
        "\n",
        "importiamo ora i file con il generator di keras. Bisogna metterli nel formato corretto."
      ]
    },
    {
      "cell_type": "code",
      "metadata": {
        "id": "-juPM6rCGW5m"
      },
      "source": [
        "import tensorflow as tf\n",
        "from tensorflow import keras\n",
        "from tensorflow.keras.applications import xception"
      ],
      "execution_count": 2,
      "outputs": []
    },
    {
      "cell_type": "markdown",
      "metadata": {
        "id": "tyW9U3Os4nfF"
      },
      "source": [
        "Nel train generator si può introdurre anche un po' di rumore"
      ]
    },
    {
      "cell_type": "code",
      "metadata": {
        "colab": {
          "base_uri": "https://localhost:8080/"
        },
        "id": "69LG5NygJh0P",
        "outputId": "dc72a630-a60a-4ec8-c731-ac1fa576282c"
      },
      "source": [
        "train_processing = keras.preprocessing.image.ImageDataGenerator(preprocessing_function = xception.preprocess_input)\n",
        "\n",
        "train_generator = train_processing.flow_from_directory(\"gdrive/MyDrive/DigitalSignal/spectrograms_model/train\",\n",
        "                                    target_size = (224, 224),\n",
        "                                    color_mode = \"rgb\",\n",
        "                                    batch_size = 32,\n",
        "                                    class_mode = \"categorical\",\n",
        "                                    shuffle = True,\n",
        "                                    seed = 1 )"
      ],
      "execution_count": 7,
      "outputs": [
        {
          "output_type": "stream",
          "text": [
            "Found 640 images belonging to 2 classes.\n"
          ],
          "name": "stdout"
        }
      ]
    },
    {
      "cell_type": "code",
      "metadata": {
        "id": "7mQIn3nSzAxK",
        "colab": {
          "base_uri": "https://localhost:8080/"
        },
        "outputId": "03df2ba2-e189-4080-fe05-1786d26ee80c"
      },
      "source": [
        "validation_processing = keras.preprocessing.image.ImageDataGenerator(preprocessing_function= xception.preprocess_input)\n",
        "\n",
        "validation_generator = validation_processing.flow_from_directory(\"gdrive/MyDrive/DigitalSignal/spectrograms_model/val\",\n",
        "                                    target_size = (224, 224),\n",
        "                                    color_mode = \"rgb\",\n",
        "                                    batch_size = 32,\n",
        "                                    class_mode = \"categorical\",\n",
        "                                    shuffle = True,\n",
        "                                    seed = 1)"
      ],
      "execution_count": 8,
      "outputs": [
        {
          "output_type": "stream",
          "text": [
            "Found 240 images belonging to 2 classes.\n"
          ],
          "name": "stdout"
        }
      ]
    },
    {
      "cell_type": "code",
      "metadata": {
        "colab": {
          "base_uri": "https://localhost:8080/"
        },
        "id": "XbCoURRyL7B6",
        "outputId": "7a857b44-262c-4b72-bf1d-c0c2de6df37f"
      },
      "source": [
        "test_processing = keras.preprocessing.image.ImageDataGenerator(preprocessing_function= xception.preprocess_input)\n",
        "\n",
        "test_generator = test_processing.flow_from_directory(\"gdrive/MyDrive/DigitalSignal/spectrograms_model/test\",\n",
        "                                    target_size = (224, 224),\n",
        "                                    color_mode = \"rgb\",\n",
        "                                    batch_size = 32,\n",
        "                                    class_mode = \"categorical\",\n",
        "                                    shuffle = True,\n",
        "                                    seed = 1)"
      ],
      "execution_count": 9,
      "outputs": [
        {
          "output_type": "stream",
          "text": [
            "Found 80 images belonging to 2 classes.\n"
          ],
          "name": "stdout"
        }
      ]
    },
    {
      "cell_type": "code",
      "metadata": {
        "id": "gRCgYFYPKFT2",
        "outputId": "7bbbd8e3-3809-439d-aed1-5e1fa6a8bcfe",
        "colab": {
          "base_uri": "https://localhost:8080/",
          "height": 358
        }
      },
      "source": [
        "from tensorflow.keras.applications import xception\n",
        "base_net = xception.Xception(input_shape = (224,224,3),\n",
        "                        weights = 'imagenet',\n",
        "                        include_top = True,\n",
        "                        pooling = 'avg')"
      ],
      "execution_count": 11,
      "outputs": [
        {
          "output_type": "error",
          "ename": "ValueError",
          "evalue": "ignored",
          "traceback": [
            "\u001b[0;31m---------------------------------------------------------------------------\u001b[0m",
            "\u001b[0;31mValueError\u001b[0m                                Traceback (most recent call last)",
            "\u001b[0;32m<ipython-input-11-18738ff19edf>\u001b[0m in \u001b[0;36m<module>\u001b[0;34m()\u001b[0m\n\u001b[1;32m      3\u001b[0m                         \u001b[0mweights\u001b[0m \u001b[0;34m=\u001b[0m \u001b[0;34m'imagenet'\u001b[0m\u001b[0;34m,\u001b[0m\u001b[0;34m\u001b[0m\u001b[0;34m\u001b[0m\u001b[0m\n\u001b[1;32m      4\u001b[0m                         \u001b[0minclude_top\u001b[0m \u001b[0;34m=\u001b[0m \u001b[0;32mTrue\u001b[0m\u001b[0;34m,\u001b[0m\u001b[0;34m\u001b[0m\u001b[0;34m\u001b[0m\u001b[0m\n\u001b[0;32m----> 5\u001b[0;31m                         pooling = 'avg')\n\u001b[0m",
            "\u001b[0;32m/usr/local/lib/python3.6/dist-packages/tensorflow/python/keras/applications/xception.py\u001b[0m in \u001b[0;36mXception\u001b[0;34m(include_top, weights, input_tensor, input_shape, pooling, classes, classifier_activation)\u001b[0m\n\u001b[1;32m    132\u001b[0m       \u001b[0mdata_format\u001b[0m\u001b[0;34m=\u001b[0m\u001b[0mbackend\u001b[0m\u001b[0;34m.\u001b[0m\u001b[0mimage_data_format\u001b[0m\u001b[0;34m(\u001b[0m\u001b[0;34m)\u001b[0m\u001b[0;34m,\u001b[0m\u001b[0;34m\u001b[0m\u001b[0;34m\u001b[0m\u001b[0m\n\u001b[1;32m    133\u001b[0m       \u001b[0mrequire_flatten\u001b[0m\u001b[0;34m=\u001b[0m\u001b[0minclude_top\u001b[0m\u001b[0;34m,\u001b[0m\u001b[0;34m\u001b[0m\u001b[0;34m\u001b[0m\u001b[0m\n\u001b[0;32m--> 134\u001b[0;31m       weights=weights)\n\u001b[0m\u001b[1;32m    135\u001b[0m \u001b[0;34m\u001b[0m\u001b[0m\n\u001b[1;32m    136\u001b[0m   \u001b[0;32mif\u001b[0m \u001b[0minput_tensor\u001b[0m \u001b[0;32mis\u001b[0m \u001b[0;32mNone\u001b[0m\u001b[0;34m:\u001b[0m\u001b[0;34m\u001b[0m\u001b[0;34m\u001b[0m\u001b[0m\n",
            "\u001b[0;32m/usr/local/lib/python3.6/dist-packages/tensorflow/python/keras/applications/imagenet_utils.py\u001b[0m in \u001b[0;36mobtain_input_shape\u001b[0;34m(input_shape, default_size, min_size, data_format, require_flatten, weights)\u001b[0m\n\u001b[1;32m    343\u001b[0m         raise ValueError('When setting `include_top=True` '\n\u001b[1;32m    344\u001b[0m                          \u001b[0;34m'and loading `imagenet` weights, '\u001b[0m\u001b[0;34m\u001b[0m\u001b[0;34m\u001b[0m\u001b[0m\n\u001b[0;32m--> 345\u001b[0;31m                          '`input_shape` should be ' + str(default_shape) + '.')\n\u001b[0m\u001b[1;32m    346\u001b[0m     \u001b[0;32mreturn\u001b[0m \u001b[0mdefault_shape\u001b[0m\u001b[0;34m\u001b[0m\u001b[0;34m\u001b[0m\u001b[0m\n\u001b[1;32m    347\u001b[0m   \u001b[0;32mif\u001b[0m \u001b[0minput_shape\u001b[0m\u001b[0;34m:\u001b[0m\u001b[0;34m\u001b[0m\u001b[0;34m\u001b[0m\u001b[0m\n",
            "\u001b[0;31mValueError\u001b[0m: When setting `include_top=True` and loading `imagenet` weights, `input_shape` should be (299, 299, 3)."
          ]
        }
      ]
    },
    {
      "cell_type": "code",
      "metadata": {
        "id": "Av5MIoJGK5Q6"
      },
      "source": [
        "for layer in base_net.layers:\n",
        "    layer.trainable = False"
      ],
      "execution_count": null,
      "outputs": []
    },
    {
      "cell_type": "code",
      "metadata": {
        "id": "UbbHjcR1LBl7"
      },
      "source": [
        "x = base_net.output\n",
        "\n",
        "x = keras.layers.Dense(64, activation = \"relu\") (x)\n",
        "pred = keras.layers.Dense(2, activation = 'sigmoid') (x)"
      ],
      "execution_count": null,
      "outputs": []
    },
    {
      "cell_type": "code",
      "metadata": {
        "id": "z-JTjyDGLErH"
      },
      "source": [
        "net1 = keras.Model(inputs = base_net.input, outputs = pred)"
      ],
      "execution_count": null,
      "outputs": []
    },
    {
      "cell_type": "code",
      "metadata": {
        "id": "-6QdlV4-LJ6O"
      },
      "source": [
        "net1.compile(loss = keras.losses.categorical_crossentropy,\n",
        "           optimizer = keras.optimizers.RMSprop(),\n",
        "           metrics = ['accuracy'])"
      ],
      "execution_count": null,
      "outputs": []
    },
    {
      "cell_type": "code",
      "metadata": {
        "colab": {
          "base_uri": "https://localhost:8080/"
        },
        "id": "3Y37vyjsLMbJ",
        "outputId": "870cecbd-6a10-4393-c80b-4fa897af6883"
      },
      "source": [
        "hist1 = net1.fit(train_generator,\n",
        "       epochs = 10,\n",
        "       validation_data = validation_generator)"
      ],
      "execution_count": null,
      "outputs": [
        {
          "output_type": "stream",
          "text": [
            "Epoch 1/10\n",
            "20/20 [==============================] - 8s 313ms/step - loss: 0.6396 - accuracy: 0.6985 - val_loss: 0.3855 - val_accuracy: 0.8708\n",
            "Epoch 2/10\n",
            "20/20 [==============================] - 6s 284ms/step - loss: 0.3846 - accuracy: 0.8312 - val_loss: 0.3518 - val_accuracy: 0.8250\n",
            "Epoch 3/10\n",
            "20/20 [==============================] - 5s 270ms/step - loss: 0.3127 - accuracy: 0.8595 - val_loss: 0.2642 - val_accuracy: 0.9125\n",
            "Epoch 4/10\n",
            "20/20 [==============================] - 5s 267ms/step - loss: 0.3247 - accuracy: 0.8555 - val_loss: 0.2540 - val_accuracy: 0.8750\n",
            "Epoch 5/10\n",
            "20/20 [==============================] - 5s 272ms/step - loss: 0.3040 - accuracy: 0.8701 - val_loss: 0.2172 - val_accuracy: 0.9375\n",
            "Epoch 6/10\n",
            "20/20 [==============================] - 5s 269ms/step - loss: 0.2786 - accuracy: 0.8979 - val_loss: 0.3551 - val_accuracy: 0.8208\n",
            "Epoch 7/10\n",
            "20/20 [==============================] - 5s 267ms/step - loss: 0.3255 - accuracy: 0.8378 - val_loss: 0.3555 - val_accuracy: 0.8417\n",
            "Epoch 8/10\n",
            "20/20 [==============================] - 5s 268ms/step - loss: 0.2515 - accuracy: 0.9053 - val_loss: 0.3078 - val_accuracy: 0.8667\n",
            "Epoch 9/10\n",
            "20/20 [==============================] - 5s 268ms/step - loss: 0.2378 - accuracy: 0.9055 - val_loss: 0.2025 - val_accuracy: 0.9417\n",
            "Epoch 10/10\n",
            "20/20 [==============================] - 5s 267ms/step - loss: 0.2175 - accuracy: 0.9055 - val_loss: 0.1662 - val_accuracy: 0.9458\n"
          ],
          "name": "stdout"
        }
      ]
    },
    {
      "cell_type": "code",
      "metadata": {
        "id": "nnt0MOJJLOVc"
      },
      "source": [
        "def acc_loss(history):\n",
        "    plt.figure(figsize=(14,5))\n",
        "    plt.subplot(1,2,1)\n",
        "    plt.plot(history.history['loss'], label = \"Train loss\", color = \"red\")\n",
        "    plt.plot(history.history['val_loss'], label=\"Validation loss\", color = \"skyblue\")\n",
        "    plt.legend(loc='upper right', fontsize = 12)\n",
        "    plt.xticks(fontsize = 12)\n",
        "    plt.yticks(fontsize = 12)\n",
        "    plt.xlabel('Epochs', size = 15)\n",
        "    plt.ylabel('Loss', size = 15) \n",
        "    \n",
        "    plt.subplot(1,2,2)\n",
        "    plt.plot(history.history['accuracy'], label = \"Train accuracy\", color = \"red\")\n",
        "    plt.plot(history.history['val_accuracy'], label=\"Validation accuracy\", color = \"skyblue\")\n",
        "    plt.legend(loc='upper right', fontsize = 12)\n",
        "    plt.xticks(fontsize = 12)\n",
        "    plt.yticks(fontsize = 12)\n",
        "    plt.xlabel('Epochs', size = 15)\n",
        "    plt.ylabel('Accuracy', size = 15) "
      ],
      "execution_count": 16,
      "outputs": []
    },
    {
      "cell_type": "code",
      "metadata": {
        "colab": {
          "base_uri": "https://localhost:8080/",
          "height": 342
        },
        "id": "RHzrtoEpOJ6v",
        "outputId": "0dcff499-a3e5-45f0-a98c-650514bd47ec"
      },
      "source": [
        "acc_loss(hist1)"
      ],
      "execution_count": null,
      "outputs": [
        {
          "output_type": "display_data",
          "data": {
            "image/png": "[encoded data removed]",
            "text/plain": [
              "<Figure size 1008x360 with 2 Axes>"
            ]
          },
          "metadata": {
            "tags": [],
            "needs_background": "light"
          }
        }
      ]
    },
    {
      "cell_type": "code",
      "metadata": {
        "id": "Ag3f7JTxONsI",
        "colab": {
          "base_uri": "https://localhost:8080/"
        },
        "outputId": "048491e6-da7a-48c5-8a08-ddc3ee335dc4"
      },
      "source": [
        "acc1 = net1.evaluate(test_generator)"
      ],
      "execution_count": null,
      "outputs": [
        {
          "output_type": "stream",
          "text": [
            "3/3 [==============================] - 1s 108ms/step - loss: 0.2799 - accuracy: 0.8125\n"
          ],
          "name": "stdout"
        }
      ]
    },
    {
      "cell_type": "code",
      "metadata": {
        "id": "d06i26l_1A19"
      },
      "source": [
        "pred_1 = net1.predict(test_generator)"
      ],
      "execution_count": null,
      "outputs": []
    },
    {
      "cell_type": "code",
      "metadata": {
        "id": "akkg1Z4x1GP3"
      },
      "source": [
        "pred_1 = np.argmax(pred_1, axis = 1)"
      ],
      "execution_count": null,
      "outputs": []
    },
    {
      "cell_type": "code",
      "metadata": {
        "colab": {
          "base_uri": "https://localhost:8080/"
        },
        "id": "sib3qMIv2pKy",
        "outputId": "5091e4d2-0987-44ff-aac8-008fe2c68d66"
      },
      "source": [
        "pred_1"
      ],
      "execution_count": null,
      "outputs": [
        {
          "output_type": "execute_result",
          "data": {
            "text/plain": [
              "array([0, 0, 0, 1, 0, 1, 1, 0, 0, 0, 0, 1, 0, 0, 1, 0, 0, 0, 0, 0, 0, 0,\n",
              "       0, 0, 1, 0, 0, 0, 0, 0, 0, 1, 0, 1, 0, 1, 1, 0, 0, 0, 0, 1, 1, 1,\n",
              "       1, 1, 1, 1, 1, 1, 1, 0, 1, 1, 1, 1, 1, 1, 1, 1, 1, 1, 0, 1, 1, 1,\n",
              "       1, 1, 1, 1, 1, 1, 1, 0, 1, 1, 0, 1, 1, 1])"
            ]
          },
          "metadata": {
            "tags": []
          },
          "execution_count": 237
        }
      ]
    },
    {
      "cell_type": "code",
      "metadata": {
        "colab": {
          "base_uri": "https://localhost:8080/"
        },
        "id": "nJugYxYO3U65",
        "outputId": "9cfe2399-6f2e-44ca-cba7-04274b817062"
      },
      "source": [
        "print(classification_report(test_generator.classes, pred_1))"
      ],
      "execution_count": null,
      "outputs": [
        {
          "output_type": "stream",
          "text": [
            "              precision    recall  f1-score   support\n",
            "\n",
            "           0       0.86      0.75      0.80        40\n",
            "           1       0.78      0.88      0.82        40\n",
            "\n",
            "    accuracy                           0.81        80\n",
            "   macro avg       0.82      0.81      0.81        80\n",
            "weighted avg       0.82      0.81      0.81        80\n",
            "\n"
          ],
          "name": "stdout"
        }
      ]
    },
    {
      "cell_type": "code",
      "metadata": {
        "colab": {
          "base_uri": "https://localhost:8080/",
          "height": 434
        },
        "id": "Gz8JwrmQ1M43",
        "outputId": "79f04727-d8f1-4ab6-e27c-b6eb97a1813d"
      },
      "source": [
        "cm = confusion_matrix(test_generator.classes, pred_1)\n",
        "\n",
        "fig = plt.figure(figsize = (6,6))\n",
        "ax = plt.subplot()\n",
        "sns.heatmap(cm, annot=True, annot_kws={\"size\": 16},\n",
        "           linewidths=.1, cmap=\"YlGnBu\")\n",
        "plt.xlabel(\"True Class\", size = 15)\n",
        "plt.ylabel(\"Predicted Class\", size = 15)\n",
        "plt.xticks(size = 12)\n",
        "plt.yticks(size = 12)\n",
        "ax.yaxis.set_ticklabels(['Letto', 'Improvvisato']) \n",
        "ax.xaxis.set_ticklabels(['Letto', 'Improvvisato']) \n",
        "#ax.set_yticklabels(['Letto', 'Improvvisato'], rotation=90, ha='right', minor=False)\n",
        "\n",
        "plt.title(\"Confusion matrix\", size = 20)"
      ],
      "execution_count": null,
      "outputs": [
        {
          "output_type": "execute_result",
          "data": {
            "text/plain": [
              "Text(0.5, 1.0, 'Confusion matrix')"
            ]
          },
          "metadata": {
            "tags": []
          },
          "execution_count": 239
        },
        {
          "output_type": "display_data",
          "data": {
            "image/png": "[encoded data removed]",
            "text/plain": [
              "<Figure size 432x432 with 2 Axes>"
            ]
          },
          "metadata": {
            "tags": [],
            "needs_background": "light"
          }
        }
      ]
    },
    {
      "cell_type": "markdown",
      "metadata": {
        "id": "RQhyZPge0PR3"
      },
      "source": [
        "## Modello 2"
      ]
    },
    {
      "cell_type": "code",
      "metadata": {
        "id": "3u5uZAW30A-A"
      },
      "source": [
        "x = base_net.output\n",
        "\n",
        "x = keras.layers.Dense(1024, activation = \"relu\") (x)\n",
        "x = keras.layers.Dense(512, activation = \"relu\") (x)\n",
        "pred = keras.layers.Dense(2, activation = 'sigmoid') (x)"
      ],
      "execution_count": null,
      "outputs": []
    },
    {
      "cell_type": "code",
      "metadata": {
        "id": "dR4HomGL0ba7"
      },
      "source": [
        "net2 = keras.Model(inputs = base_net.input, outputs = pred)"
      ],
      "execution_count": null,
      "outputs": []
    },
    {
      "cell_type": "code",
      "metadata": {
        "id": "TQINmg6N3hhc"
      },
      "source": [
        "net2.compile(loss = keras.losses.categorical_crossentropy,\n",
        "           optimizer = keras.optimizers.RMSprop(),\n",
        "           metrics = ['accuracy'])"
      ],
      "execution_count": null,
      "outputs": []
    },
    {
      "cell_type": "code",
      "metadata": {
        "colab": {
          "base_uri": "https://localhost:8080/"
        },
        "id": "j51KVNQ33haP",
        "outputId": "4f62840a-b13c-47d6-ba9c-66b2e36c9640"
      },
      "source": [
        "hist2 = net2.fit(train_generator,\n",
        "       epochs = 10,\n",
        "       validation_data = validation_generator)"
      ],
      "execution_count": null,
      "outputs": [
        {
          "output_type": "stream",
          "text": [
            "Epoch 1/10\n",
            "20/20 [==============================] - 8s 308ms/step - loss: 1.4528 - accuracy: 0.6582 - val_loss: 0.4841 - val_accuracy: 0.7292\n",
            "Epoch 2/10\n",
            "20/20 [==============================] - 5s 267ms/step - loss: 0.4992 - accuracy: 0.7724 - val_loss: 0.3114 - val_accuracy: 0.9125\n",
            "Epoch 3/10\n",
            "20/20 [==============================] - 5s 269ms/step - loss: 0.3402 - accuracy: 0.8594 - val_loss: 0.2419 - val_accuracy: 0.9167\n",
            "Epoch 4/10\n",
            "20/20 [==============================] - 5s 268ms/step - loss: 0.3492 - accuracy: 0.8399 - val_loss: 0.4490 - val_accuracy: 0.7792\n",
            "Epoch 5/10\n",
            "20/20 [==============================] - 5s 269ms/step - loss: 0.3665 - accuracy: 0.8507 - val_loss: 0.2289 - val_accuracy: 0.9375\n",
            "Epoch 6/10\n",
            "20/20 [==============================] - 5s 269ms/step - loss: 0.3194 - accuracy: 0.8749 - val_loss: 0.2374 - val_accuracy: 0.9292\n",
            "Epoch 7/10\n",
            "20/20 [==============================] - 5s 267ms/step - loss: 0.3198 - accuracy: 0.8574 - val_loss: 0.2061 - val_accuracy: 0.9125\n",
            "Epoch 8/10\n",
            "20/20 [==============================] - 5s 270ms/step - loss: 0.2608 - accuracy: 0.8840 - val_loss: 0.1761 - val_accuracy: 0.9583\n",
            "Epoch 9/10\n",
            "20/20 [==============================] - 5s 271ms/step - loss: 0.2490 - accuracy: 0.8992 - val_loss: 0.1742 - val_accuracy: 0.9542\n",
            "Epoch 10/10\n",
            "20/20 [==============================] - 5s 270ms/step - loss: 0.2466 - accuracy: 0.8933 - val_loss: 0.1451 - val_accuracy: 0.9542\n"
          ],
          "name": "stdout"
        }
      ]
    },
    {
      "cell_type": "code",
      "metadata": {
        "colab": {
          "base_uri": "https://localhost:8080/",
          "height": 342
        },
        "id": "0pOcH7VH3hS_",
        "outputId": "aa627afb-d953-441b-84f7-b7a2854a1d91"
      },
      "source": [
        "acc_loss(hist2)"
      ],
      "execution_count": null,
      "outputs": [
        {
          "output_type": "display_data",
          "data": {
            "image/png": "[encoded data removed]",
            "text/plain": [
              "<Figure size 1008x360 with 2 Axes>"
            ]
          },
          "metadata": {
            "tags": [],
            "needs_background": "light"
          }
        }
      ]
    },
    {
      "cell_type": "code",
      "metadata": {
        "colab": {
          "base_uri": "https://localhost:8080/"
        },
        "id": "SfunpOht3hMf",
        "outputId": "6e093576-892a-4a03-90b1-136bfd750766"
      },
      "source": [
        "acc2 = net2.evaluate(test_generator)"
      ],
      "execution_count": null,
      "outputs": [
        {
          "output_type": "stream",
          "text": [
            "3/3 [==============================] - 1s 129ms/step - loss: 0.2715 - accuracy: 0.8375\n"
          ],
          "name": "stdout"
        }
      ]
    },
    {
      "cell_type": "code",
      "metadata": {
        "id": "gp7PyMvg3hF1"
      },
      "source": [
        "pred_2 = net2.predict(test_generator)"
      ],
      "execution_count": null,
      "outputs": []
    },
    {
      "cell_type": "code",
      "metadata": {
        "id": "VSp0PASL3g7o"
      },
      "source": [
        "pred_2 = np.argmax(pred_2, axis = 1)"
      ],
      "execution_count": null,
      "outputs": []
    },
    {
      "cell_type": "code",
      "metadata": {
        "colab": {
          "base_uri": "https://localhost:8080/"
        },
        "id": "CoYuc_Cn3g2-",
        "outputId": "720e112f-612e-47e4-bf80-30f78e52582f"
      },
      "source": [
        "print(classification_report(test_generator.classes, pred_2))"
      ],
      "execution_count": null,
      "outputs": [
        {
          "output_type": "stream",
          "text": [
            "              precision    recall  f1-score   support\n",
            "\n",
            "           0       0.89      0.78      0.83        40\n",
            "           1       0.80      0.90      0.85        40\n",
            "\n",
            "    accuracy                           0.84        80\n",
            "   macro avg       0.84      0.84      0.84        80\n",
            "weighted avg       0.84      0.84      0.84        80\n",
            "\n"
          ],
          "name": "stdout"
        }
      ]
    },
    {
      "cell_type": "code",
      "metadata": {
        "colab": {
          "base_uri": "https://localhost:8080/",
          "height": 434
        },
        "id": "_eTfV-vO3gvI",
        "outputId": "5ab75a07-4424-4e72-ea90-dee09ed3db2f"
      },
      "source": [
        "cm = confusion_matrix(test_generator.classes, pred_2)\n",
        "\n",
        "fig = plt.figure(figsize = (6,6))\n",
        "ax = plt.subplot()\n",
        "sns.heatmap(cm, annot=True, annot_kws={\"size\": 16},\n",
        "           linewidths=.1, cmap=\"YlGnBu\")\n",
        "plt.xlabel(\"True Class\", size = 15)\n",
        "plt.ylabel(\"Predicted Class\", size = 15)\n",
        "plt.xticks(size = 12)\n",
        "plt.yticks(size = 12)\n",
        "ax.yaxis.set_ticklabels(['Letto', 'Improvvisato']) \n",
        "ax.xaxis.set_ticklabels(['Letto', 'Improvvisato']) \n",
        "#ax.set_yticklabels(['Letto', 'Improvvisato'], rotation=90, ha='right', minor=False)\n",
        "\n",
        "plt.title(\"Confusion matrix\", size = 20)"
      ],
      "execution_count": null,
      "outputs": [
        {
          "output_type": "execute_result",
          "data": {
            "text/plain": [
              "Text(0.5, 1.0, 'Confusion matrix')"
            ]
          },
          "metadata": {
            "tags": []
          },
          "execution_count": 249
        },
        {
          "output_type": "display_data",
          "data": {
            "image/png": "[encoded data removed]",
            "text/plain": [
              "<Figure size 432x432 with 2 Axes>"
            ]
          },
          "metadata": {
            "tags": [],
            "needs_background": "light"
          }
        }
      ]
    },
    {
      "cell_type": "markdown",
      "metadata": {
        "id": "C2WhsR6O5rOp"
      },
      "source": [
        "# CNN\n",
        "\n",
        "Proviamo una rete non pre addestrata perché probabilmente hanno bisogno di più dati per funzionare meglio"
      ]
    },
    {
      "cell_type": "code",
      "metadata": {
        "id": "RDQ2P9-F6P5R"
      },
      "source": [
        "from keras import layers"
      ],
      "execution_count": 12,
      "outputs": []
    },
    {
      "cell_type": "code",
      "metadata": {
        "colab": {
          "base_uri": "https://localhost:8080/"
        },
        "id": "FVZdfXkO3gqB",
        "outputId": "74cf71e4-3ffd-4434-850e-76a0b70f88ab"
      },
      "source": [
        "model = keras.Sequential(\n",
        "    [\n",
        "     keras.Input(shape = (224,224,3)),\n",
        "     layers.Conv2D(16, kernel_size = (3,3), activation = 'relu'),\n",
        "     layers.MaxPooling2D(pool_size = (2,2)),\n",
        "     layers.Conv2D(16, kernel_size = (3,3), activation = 'relu'),\n",
        "     layers.MaxPooling2D(pool_size = (2,2)),\n",
        "     layers.Flatten(),\n",
        "     layers.Dense(124, activation = \"relu\"),\n",
        "     layers.Dropout(0.5),\n",
        "     layers.Dense(2, activation = 'softmax')\n",
        "    ]\n",
        ")\n",
        "model.summary()"
      ],
      "execution_count": 13,
      "outputs": [
        {
          "output_type": "stream",
          "text": [
            "Model: \"sequential\"\n",
            "_________________________________________________________________\n",
            "Layer (type)                 Output Shape              Param #   \n",
            "=================================================================\n",
            "conv2d (Conv2D)              (None, 222, 222, 16)      448       \n",
            "_________________________________________________________________\n",
            "max_pooling2d (MaxPooling2D) (None, 111, 111, 16)      0         \n",
            "_________________________________________________________________\n",
            "conv2d_1 (Conv2D)            (None, 109, 109, 16)      2320      \n",
            "_________________________________________________________________\n",
            "max_pooling2d_1 (MaxPooling2 (None, 54, 54, 16)        0         \n",
            "_________________________________________________________________\n",
            "flatten (Flatten)            (None, 46656)             0         \n",
            "_________________________________________________________________\n",
            "dense (Dense)                (None, 124)               5785468   \n",
            "_________________________________________________________________\n",
            "dropout (Dropout)            (None, 124)               0         \n",
            "_________________________________________________________________\n",
            "dense_1 (Dense)              (None, 2)                 250       \n",
            "=================================================================\n",
            "Total params: 5,788,486\n",
            "Trainable params: 5,788,486\n",
            "Non-trainable params: 0\n",
            "_________________________________________________________________\n"
          ],
          "name": "stdout"
        }
      ]
    },
    {
      "cell_type": "code",
      "metadata": {
        "colab": {
          "base_uri": "https://localhost:8080/"
        },
        "id": "SvbUUgPn6GwO",
        "outputId": "8bd4807c-29b7-4aa8-d6c9-b2a6a657d68e"
      },
      "source": [
        "model.compile(loss = \"categorical_crossentropy\",\n",
        "              optimizer = keras.optimizers.Adam(),\n",
        "              metrics = [\"accuracy\"])\n",
        "\n",
        "histo_best = model.fit(train_generator, \n",
        "                       epochs = 30, \n",
        "                       batch_size = 128, \n",
        "                       validation_data = validation_generator)"
      ],
      "execution_count": 14,
      "outputs": [
        {
          "output_type": "stream",
          "text": [
            "Epoch 1/30\n",
            "20/20 [==============================] - 328s 16s/step - loss: 2.5747 - accuracy: 0.5056 - val_loss: 0.6075 - val_accuracy: 0.7208\n",
            "Epoch 2/30\n",
            "20/20 [==============================] - 4s 225ms/step - loss: 0.5779 - accuracy: 0.6907 - val_loss: 0.4555 - val_accuracy: 0.8333\n",
            "Epoch 3/30\n",
            "20/20 [==============================] - 4s 225ms/step - loss: 0.4410 - accuracy: 0.8159 - val_loss: 0.3375 - val_accuracy: 0.8750\n",
            "Epoch 4/30\n",
            "20/20 [==============================] - 4s 226ms/step - loss: 0.3248 - accuracy: 0.8652 - val_loss: 0.2459 - val_accuracy: 0.9167\n",
            "Epoch 5/30\n",
            "20/20 [==============================] - 4s 226ms/step - loss: 0.2557 - accuracy: 0.9026 - val_loss: 0.1763 - val_accuracy: 0.9500\n",
            "Epoch 6/30\n",
            "20/20 [==============================] - 4s 225ms/step - loss: 0.1658 - accuracy: 0.9530 - val_loss: 0.1711 - val_accuracy: 0.9292\n",
            "Epoch 7/30\n",
            "20/20 [==============================] - 4s 226ms/step - loss: 0.1374 - accuracy: 0.9565 - val_loss: 0.1048 - val_accuracy: 0.9625\n",
            "Epoch 8/30\n",
            "20/20 [==============================] - 4s 225ms/step - loss: 0.0776 - accuracy: 0.9801 - val_loss: 0.0792 - val_accuracy: 0.9750\n",
            "Epoch 9/30\n",
            "20/20 [==============================] - 4s 224ms/step - loss: 0.0634 - accuracy: 0.9863 - val_loss: 0.0634 - val_accuracy: 0.9792\n",
            "Epoch 10/30\n",
            "20/20 [==============================] - 4s 225ms/step - loss: 0.0398 - accuracy: 0.9929 - val_loss: 0.0559 - val_accuracy: 0.9792\n",
            "Epoch 11/30\n",
            "20/20 [==============================] - 4s 226ms/step - loss: 0.0215 - accuracy: 0.9991 - val_loss: 0.0562 - val_accuracy: 0.9750\n",
            "Epoch 12/30\n",
            "20/20 [==============================] - 4s 224ms/step - loss: 0.0230 - accuracy: 0.9943 - val_loss: 0.0524 - val_accuracy: 0.9833\n",
            "Epoch 13/30\n",
            "20/20 [==============================] - 4s 225ms/step - loss: 0.0192 - accuracy: 0.9990 - val_loss: 0.0450 - val_accuracy: 0.9875\n",
            "Epoch 14/30\n",
            "20/20 [==============================] - 5s 231ms/step - loss: 0.0161 - accuracy: 0.9986 - val_loss: 0.0446 - val_accuracy: 0.9792\n",
            "Epoch 15/30\n",
            "20/20 [==============================] - 4s 227ms/step - loss: 0.0093 - accuracy: 1.0000 - val_loss: 0.0426 - val_accuracy: 0.9875\n",
            "Epoch 16/30\n",
            "20/20 [==============================] - 4s 225ms/step - loss: 0.0195 - accuracy: 0.9947 - val_loss: 0.0345 - val_accuracy: 0.9833\n",
            "Epoch 17/30\n",
            "20/20 [==============================] - 4s 226ms/step - loss: 0.0083 - accuracy: 1.0000 - val_loss: 0.0345 - val_accuracy: 0.9833\n",
            "Epoch 18/30\n",
            "20/20 [==============================] - 5s 228ms/step - loss: 0.0049 - accuracy: 1.0000 - val_loss: 0.0406 - val_accuracy: 0.9833\n",
            "Epoch 19/30\n",
            "20/20 [==============================] - 5s 229ms/step - loss: 0.0036 - accuracy: 1.0000 - val_loss: 0.0397 - val_accuracy: 0.9833\n",
            "Epoch 20/30\n",
            "20/20 [==============================] - 4s 223ms/step - loss: 0.0031 - accuracy: 0.9998 - val_loss: 0.0508 - val_accuracy: 0.9792\n",
            "Epoch 21/30\n",
            "20/20 [==============================] - 4s 224ms/step - loss: 0.0071 - accuracy: 1.0000 - val_loss: 0.0335 - val_accuracy: 0.9833\n",
            "Epoch 22/30\n",
            "20/20 [==============================] - 4s 224ms/step - loss: 0.0050 - accuracy: 1.0000 - val_loss: 0.0297 - val_accuracy: 0.9875\n",
            "Epoch 23/30\n",
            "20/20 [==============================] - 4s 224ms/step - loss: 0.0038 - accuracy: 1.0000 - val_loss: 0.0407 - val_accuracy: 0.9792\n",
            "Epoch 24/30\n",
            "20/20 [==============================] - 4s 226ms/step - loss: 0.0028 - accuracy: 1.0000 - val_loss: 0.0327 - val_accuracy: 0.9833\n",
            "Epoch 25/30\n",
            "20/20 [==============================] - 4s 224ms/step - loss: 0.0101 - accuracy: 1.0000 - val_loss: 0.0389 - val_accuracy: 0.9833\n",
            "Epoch 26/30\n",
            "20/20 [==============================] - 4s 225ms/step - loss: 0.0072 - accuracy: 0.9993 - val_loss: 0.0443 - val_accuracy: 0.9875\n",
            "Epoch 27/30\n",
            "20/20 [==============================] - 4s 227ms/step - loss: 0.0084 - accuracy: 1.0000 - val_loss: 0.0482 - val_accuracy: 0.9750\n",
            "Epoch 28/30\n",
            "20/20 [==============================] - 4s 225ms/step - loss: 0.0037 - accuracy: 1.0000 - val_loss: 0.0457 - val_accuracy: 0.9875\n",
            "Epoch 29/30\n",
            "20/20 [==============================] - 4s 227ms/step - loss: 0.0026 - accuracy: 1.0000 - val_loss: 0.0391 - val_accuracy: 0.9875\n",
            "Epoch 30/30\n",
            "20/20 [==============================] - 4s 227ms/step - loss: 0.0018 - accuracy: 1.0000 - val_loss: 0.0367 - val_accuracy: 0.9875\n"
          ],
          "name": "stdout"
        }
      ]
    },
    {
      "cell_type": "code",
      "metadata": {
        "colab": {
          "base_uri": "https://localhost:8080/",
          "height": 342
        },
        "id": "kBKruoIZ6nzy",
        "outputId": "2a2ab3b9-3794-4c78-c40f-7c36d35dd82c"
      },
      "source": [
        "acc_loss(histo_best)"
      ],
      "execution_count": 17,
      "outputs": [
        {
          "output_type": "display_data",
          "data": {
            "image/png": "[encoded data removed]",
            "text/plain": [
              "<Figure size 1008x360 with 2 Axes>"
            ]
          },
          "metadata": {
            "tags": [],
            "needs_background": "light"
          }
        }
      ]
    },
    {
      "cell_type": "code",
      "metadata": {
        "colab": {
          "base_uri": "https://localhost:8080/"
        },
        "id": "WB2cbKyf62al",
        "outputId": "9ce7d9a6-31ff-4e3b-e1f3-82ec8875b50e"
      },
      "source": [
        "acc_best = model.evaluate(test_generator)"
      ],
      "execution_count": 18,
      "outputs": [
        {
          "output_type": "stream",
          "text": [
            "3/3 [==============================] - 18s 9s/step - loss: 0.1877 - accuracy: 0.9500\n"
          ],
          "name": "stdout"
        }
      ]
    },
    {
      "cell_type": "code",
      "metadata": {
        "id": "GzJw0uwu7Nqb"
      },
      "source": [
        "yc_pred = model.predict(test_generator)\n",
        "y_pred_best = np.argmax(yc_pred, axis = 1)"
      ],
      "execution_count": 19,
      "outputs": []
    },
    {
      "cell_type": "code",
      "metadata": {
        "colab": {
          "base_uri": "https://localhost:8080/"
        },
        "id": "DPj_tQUp7ZpK",
        "outputId": "3b46881b-3e45-4940-91ca-87040759479e"
      },
      "source": [
        "print(classification_report(test_generator.classes, y_pred_best))"
      ],
      "execution_count": 20,
      "outputs": [
        {
          "output_type": "stream",
          "text": [
            "              precision    recall  f1-score   support\n",
            "\n",
            "           0       0.61      0.57      0.59        40\n",
            "           1       0.60      0.62      0.61        40\n",
            "\n",
            "    accuracy                           0.60        80\n",
            "   macro avg       0.60      0.60      0.60        80\n",
            "weighted avg       0.60      0.60      0.60        80\n",
            "\n"
          ],
          "name": "stdout"
        }
      ]
    },
    {
      "cell_type": "code",
      "metadata": {
        "colab": {
          "base_uri": "https://localhost:8080/",
          "height": 434
        },
        "id": "UoRqH03K7jUt",
        "outputId": "068b7e4b-5078-441c-c56f-0cc47cbcf5b2"
      },
      "source": [
        "cm = confusion_matrix(test_generator.classes, y_pred_best)\n",
        "fig = plt.figure(figsize = (6,6))\n",
        "ax = plt.subplot()\n",
        "sns.heatmap(cm, annot=True, annot_kws={\"size\": 16},\n",
        "           linewidths=.1, cmap=\"YlGnBu\")\n",
        "plt.xlabel(\"True Class\", size = 15)\n",
        "plt.ylabel(\"Predicted Class\", size = 15)\n",
        "plt.xticks(size = 12)\n",
        "plt.yticks(size = 12)\n",
        "ax.yaxis.set_ticklabels(['Letto', 'Improvvisato']) \n",
        "ax.xaxis.set_ticklabels(['Letto', 'Improvvisato']) \n",
        "#ax.set_yticklabels(['Letto', 'Improvvisato'], rotation=90, ha='right', minor=False)\n",
        "\n",
        "plt.title(\"Confusion matrix\", size = 20)"
      ],
      "execution_count": 21,
      "outputs": [
        {
          "output_type": "execute_result",
          "data": {
            "text/plain": [
              "Text(0.5, 1.0, 'Confusion matrix')"
            ]
          },
          "metadata": {
            "tags": []
          },
          "execution_count": 21
        },
        {
          "output_type": "display_data",
          "data": {
            "image/png": "[encoded data removed]",
            "text/plain": [
              "<Figure size 432x432 with 2 Axes>"
            ]
          },
          "metadata": {
            "tags": [],
            "needs_background": "light"
          }
        }
      ]
    },
    {
      "cell_type": "code",
      "metadata": {
        "id": "3KKGw3PZBSCy",
        "colab": {
          "base_uri": "https://localhost:8080/",
          "height": 248
        },
        "outputId": "aef812a5-ab7f-4601-be85-e768c3b956c7"
      },
      "source": [
        "path = \"gdrive/MyDrive/DigitalSignal/\"\r\n",
        "signal, sr = librosa.load(path + \"prova4.mp3\", duration= 7.0, sr=None) \r\n",
        "spect = librosa.feature.melspectrogram(y=signal, n_mels=128)\r\n",
        "fig = plt.figure(figsize=(4,4))\r\n",
        "ax = fig.add_subplot(111)\r\n",
        "ax.axes.get_xaxis().set_visible(False)\r\n",
        "ax.axes.get_yaxis().set_visible(False)\r\n",
        "ax.set_frame_on(False)\r\n",
        "S_dB = librosa.power_to_db(spect, ref=np.max)\r\n",
        "img = librosa.display.specshow(S_dB, x_axis='time', y_axis='mel', ax=ax)\r\n",
        "fig.savefig(path + \"single/test/\"+\"prova4.png\", dpi = 100)"
      ],
      "execution_count": 30,
      "outputs": [
        {
          "output_type": "display_data",
          "data": {
            "image/png": "[encoded data removed]",
            "text/plain": [
              "<Figure size 288x288 with 1 Axes>"
            ]
          },
          "metadata": {
            "tags": [],
            "needs_background": "light"
          }
        }
      ]
    },
    {
      "cell_type": "code",
      "metadata": {
        "id": "wCtyNiI4Kt0i",
        "colab": {
          "base_uri": "https://localhost:8080/"
        },
        "outputId": "529f4f3a-9666-47cc-d449-3266b35c3be9"
      },
      "source": [
        "single_processing = keras.preprocessing.image.ImageDataGenerator(preprocessing_function= xception.preprocess_input)\r\n",
        "\r\n",
        "single_generator = single_processing.flow_from_directory(\"gdrive/MyDrive/DigitalSignal/single\",\r\n",
        "                                    target_size = (224, 224),\r\n",
        "                                    color_mode = \"rgb\",\r\n",
        "                                    batch_size = 1,\r\n",
        "                                    class_mode = \"categorical\",\r\n",
        "                                    shuffle = False,\r\n",
        "                                    seed = 1)"
      ],
      "execution_count": 31,
      "outputs": [
        {
          "output_type": "stream",
          "text": [
            "Found 4 images belonging to 1 classes.\n"
          ],
          "name": "stdout"
        }
      ]
    },
    {
      "cell_type": "code",
      "metadata": {
        "id": "Wj0N1uX1BSKu",
        "colab": {
          "base_uri": "https://localhost:8080/"
        },
        "outputId": "92d24f5f-8483-42f2-e0be-e1d9891d636f"
      },
      "source": [
        "prova_pred = model.predict(single_generator)\r\n",
        "result = np.argmax(prova_pred, axis = 1)\r\n",
        "result"
      ],
      "execution_count": 32,
      "outputs": [
        {
          "output_type": "execute_result",
          "data": {
            "text/plain": [
              "array([1, 0, 0, 1])"
            ]
          },
          "metadata": {
            "tags": []
          },
          "execution_count": 32
        }
      ]
    },
    {
      "cell_type": "code",
      "metadata": {
        "id": "7y-WiulBBSSX"
      },
      "source": [
        "labels = (train_generator.class_indices)\r\n",
        "labels = dict((v,k) for k,v in labels.items())\r\n",
        "predictions = [labels[k] for k in result]"
      ],
      "execution_count": 33,
      "outputs": []
    },
    {
      "cell_type": "code",
      "metadata": {
        "id": "H4RXJCJyBSWh",
        "colab": {
          "base_uri": "https://localhost:8080/"
        },
        "outputId": "624b81b4-a437-4662-da33-1b79a1ed3dbe"
      },
      "source": [
        "predictions"
      ],
      "execution_count": 34,
      "outputs": [
        {
          "output_type": "execute_result",
          "data": {
            "text/plain": [
              "['letto', 'improvvisato', 'improvvisato', 'letto']"
            ]
          },
          "metadata": {
            "tags": []
          },
          "execution_count": 34
        }
      ]
    },
    {
      "cell_type": "code",
      "metadata": {
        "id": "SnDqpnJ8BSZU",
        "colab": {
          "base_uri": "https://localhost:8080/"
        },
        "outputId": "af00c7b0-a27a-4456-dcb6-fd570a944d5c"
      },
      "source": [
        "prova_pred"
      ],
      "execution_count": 35,
      "outputs": [
        {
          "output_type": "execute_result",
          "data": {
            "text/plain": [
              "array([[7.8752168e-02, 9.2124778e-01],\n",
              "       [9.9908340e-01, 9.1659132e-04],\n",
              "       [9.9955910e-01, 4.4082550e-04],\n",
              "       [3.8971175e-02, 9.6102881e-01]], dtype=float32)"
            ]
          },
          "metadata": {
            "tags": []
          },
          "execution_count": 35
        }
      ]
    },
    {
      "cell_type": "code",
      "metadata": {
        "id": "26Hu5RJAXpng",
        "colab": {
          "base_uri": "https://localhost:8080/"
        },
        "outputId": "b06b5772-07f8-4fd4-f7a8-43070d875c97"
      },
      "source": [
        "train_generator.class_indices"
      ],
      "execution_count": 36,
      "outputs": [
        {
          "output_type": "execute_result",
          "data": {
            "text/plain": [
              "{'improvvisato': 0, 'letto': 1}"
            ]
          },
          "metadata": {
            "tags": []
          },
          "execution_count": 36
        }
      ]
    },
    {
      "cell_type": "code",
      "metadata": {
        "id": "tDs6o0WR48cK"
      },
      "source": [
        ""
      ],
      "execution_count": null,
      "outputs": []
    }
  ]
}